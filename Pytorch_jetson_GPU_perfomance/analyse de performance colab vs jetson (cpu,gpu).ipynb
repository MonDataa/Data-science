{
 "cells": [
  {
   "cell_type": "code",
   "execution_count": 1,
   "id": "3462288f",
   "metadata": {},
   "outputs": [],
   "source": [
    "import pandas as pd\n",
    "import numpy as np\n",
    "# Charger les données depuis le fichier CSV dans un DataFrame\n",
    "donnees_colab_add = pd.read_csv('donnees_colab_add.csv')\n",
    "donnees_colab_dot = pd.read_csv('donnees_colab_dot.csv')\n",
    "donnees_colab_prod = pd.read_csv('donnees_colab_prod.csv')"
   ]
  },
  {
   "cell_type": "code",
   "execution_count": 2,
   "id": "4d5797d6",
   "metadata": {},
   "outputs": [
    {
     "data": {
      "text/html": [
       "<div>\n",
       "<style scoped>\n",
       "    .dataframe tbody tr th:only-of-type {\n",
       "        vertical-align: middle;\n",
       "    }\n",
       "\n",
       "    .dataframe tbody tr th {\n",
       "        vertical-align: top;\n",
       "    }\n",
       "\n",
       "    .dataframe thead th {\n",
       "        text-align: right;\n",
       "    }\n",
       "</style>\n",
       "<table border=\"1\" class=\"dataframe\">\n",
       "  <thead>\n",
       "    <tr style=\"text-align: right;\">\n",
       "      <th></th>\n",
       "      <th>moyenne_add_cpu</th>\n",
       "      <th>moyenne_add_gpu</th>\n",
       "      <th>ecartype_add_cpu</th>\n",
       "      <th>ecartype_add_gpu</th>\n",
       "    </tr>\n",
       "  </thead>\n",
       "  <tbody>\n",
       "    <tr>\n",
       "      <th>0</th>\n",
       "      <td>0.002236</td>\n",
       "      <td>0.002856</td>\n",
       "      <td>0.000908</td>\n",
       "      <td>0.000300</td>\n",
       "    </tr>\n",
       "    <tr>\n",
       "      <th>1</th>\n",
       "      <td>0.002234</td>\n",
       "      <td>0.002856</td>\n",
       "      <td>0.000470</td>\n",
       "      <td>0.001591</td>\n",
       "    </tr>\n",
       "    <tr>\n",
       "      <th>2</th>\n",
       "      <td>0.004961</td>\n",
       "      <td>0.003781</td>\n",
       "      <td>0.000819</td>\n",
       "      <td>0.001126</td>\n",
       "    </tr>\n",
       "  </tbody>\n",
       "</table>\n",
       "</div>"
      ],
      "text/plain": [
       "   moyenne_add_cpu  moyenne_add_gpu  ecartype_add_cpu  ecartype_add_gpu\n",
       "0         0.002236         0.002856          0.000908          0.000300\n",
       "1         0.002234         0.002856          0.000470          0.001591\n",
       "2         0.004961         0.003781          0.000819          0.001126"
      ]
     },
     "execution_count": 2,
     "metadata": {},
     "output_type": "execute_result"
    }
   ],
   "source": [
    "donnees_colab_add.head()"
   ]
  },
  {
   "cell_type": "code",
   "execution_count": 3,
   "id": "ac2b2695",
   "metadata": {},
   "outputs": [
    {
     "data": {
      "text/html": [
       "<div>\n",
       "<style scoped>\n",
       "    .dataframe tbody tr th:only-of-type {\n",
       "        vertical-align: middle;\n",
       "    }\n",
       "\n",
       "    .dataframe tbody tr th {\n",
       "        vertical-align: top;\n",
       "    }\n",
       "\n",
       "    .dataframe thead th {\n",
       "        text-align: right;\n",
       "    }\n",
       "</style>\n",
       "<table border=\"1\" class=\"dataframe\">\n",
       "  <thead>\n",
       "    <tr style=\"text-align: right;\">\n",
       "      <th></th>\n",
       "      <th>moyenne_dot_cpu</th>\n",
       "      <th>moyenne_dot_gpu</th>\n",
       "      <th>ecartype_dot_cpu</th>\n",
       "      <th>ecartype_dot_gpu</th>\n",
       "    </tr>\n",
       "  </thead>\n",
       "  <tbody>\n",
       "    <tr>\n",
       "      <th>0</th>\n",
       "      <td>0.001458</td>\n",
       "      <td>0.001925</td>\n",
       "      <td>0.000948</td>\n",
       "      <td>0.000051</td>\n",
       "    </tr>\n",
       "    <tr>\n",
       "      <th>1</th>\n",
       "      <td>0.002893</td>\n",
       "      <td>0.001925</td>\n",
       "      <td>0.003024</td>\n",
       "      <td>0.001301</td>\n",
       "    </tr>\n",
       "    <tr>\n",
       "      <th>2</th>\n",
       "      <td>0.005007</td>\n",
       "      <td>0.003409</td>\n",
       "      <td>0.003388</td>\n",
       "      <td>0.001823</td>\n",
       "    </tr>\n",
       "  </tbody>\n",
       "</table>\n",
       "</div>"
      ],
      "text/plain": [
       "   moyenne_dot_cpu  moyenne_dot_gpu  ecartype_dot_cpu  ecartype_dot_gpu\n",
       "0         0.001458         0.001925          0.000948          0.000051\n",
       "1         0.002893         0.001925          0.003024          0.001301\n",
       "2         0.005007         0.003409          0.003388          0.001823"
      ]
     },
     "execution_count": 3,
     "metadata": {},
     "output_type": "execute_result"
    }
   ],
   "source": [
    "donnees_colab_dot.head()"
   ]
  },
  {
   "cell_type": "code",
   "execution_count": 4,
   "id": "ffb49d90",
   "metadata": {},
   "outputs": [
    {
     "data": {
      "text/html": [
       "<div>\n",
       "<style scoped>\n",
       "    .dataframe tbody tr th:only-of-type {\n",
       "        vertical-align: middle;\n",
       "    }\n",
       "\n",
       "    .dataframe tbody tr th {\n",
       "        vertical-align: top;\n",
       "    }\n",
       "\n",
       "    .dataframe thead th {\n",
       "        text-align: right;\n",
       "    }\n",
       "</style>\n",
       "<table border=\"1\" class=\"dataframe\">\n",
       "  <thead>\n",
       "    <tr style=\"text-align: right;\">\n",
       "      <th></th>\n",
       "      <th>moyenne_prod_cpu</th>\n",
       "      <th>moyenne_prod_gpu</th>\n",
       "      <th>ecartype_prod_cpu</th>\n",
       "      <th>ecartype_prod_gpu</th>\n",
       "    </tr>\n",
       "  </thead>\n",
       "  <tbody>\n",
       "    <tr>\n",
       "      <th>0</th>\n",
       "      <td>0.001122</td>\n",
       "      <td>0.005466</td>\n",
       "      <td>0.001049</td>\n",
       "      <td>0.003314</td>\n",
       "    </tr>\n",
       "    <tr>\n",
       "      <th>1</th>\n",
       "      <td>0.002722</td>\n",
       "      <td>0.005466</td>\n",
       "      <td>0.001587</td>\n",
       "      <td>0.004656</td>\n",
       "    </tr>\n",
       "    <tr>\n",
       "      <th>2</th>\n",
       "      <td>0.010211</td>\n",
       "      <td>0.009017</td>\n",
       "      <td>0.002388</td>\n",
       "      <td>0.004345</td>\n",
       "    </tr>\n",
       "  </tbody>\n",
       "</table>\n",
       "</div>"
      ],
      "text/plain": [
       "   moyenne_prod_cpu  moyenne_prod_gpu  ecartype_prod_cpu  ecartype_prod_gpu\n",
       "0          0.001122          0.005466           0.001049           0.003314\n",
       "1          0.002722          0.005466           0.001587           0.004656\n",
       "2          0.010211          0.009017           0.002388           0.004345"
      ]
     },
     "execution_count": 4,
     "metadata": {},
     "output_type": "execute_result"
    }
   ],
   "source": [
    "donnees_colab_prod.head()"
   ]
  },
  {
   "cell_type": "markdown",
   "id": "7864b077",
   "metadata": {},
   "source": [
    "# convertir data (pandas en list) -> environement colab"
   ]
  },
  {
   "cell_type": "code",
   "execution_count": 5,
   "id": "eaa9fc18",
   "metadata": {},
   "outputs": [],
   "source": [
    "moyenne_add_cpuc= donnees_colab_add.moyenne_add_cpu.tolist()\n",
    "moyenne_add_gpuc= donnees_colab_add.moyenne_add_gpu.tolist()\n",
    "\n",
    "ecartype_add_cpuc = donnees_colab_add.ecartype_add_cpu.tolist()\n",
    "ecartype_add_gpuc = donnees_colab_add.ecartype_add_gpu.tolist()"
   ]
  },
  {
   "cell_type": "code",
   "execution_count": 6,
   "id": "2b506387",
   "metadata": {},
   "outputs": [],
   "source": [
    "moyenne_dot_cpuc= donnees_colab_dot.moyenne_dot_cpu.tolist()\n",
    "moyenne_dot_gpuc= donnees_colab_dot.moyenne_dot_gpu.tolist()\n",
    "\n",
    "ecartype_dot_cpuc = donnees_colab_dot.ecartype_dot_cpu.tolist()\n",
    "ecartype_dot_gpuc = donnees_colab_dot.ecartype_dot_gpu.tolist()"
   ]
  },
  {
   "cell_type": "code",
   "execution_count": 7,
   "id": "7df30832",
   "metadata": {},
   "outputs": [],
   "source": [
    "moyenne_prod_cpuc= donnees_colab_prod.moyenne_prod_cpu.tolist()\n",
    "moyenne_prod_gpuc= donnees_colab_prod.moyenne_prod_gpu.tolist()\n",
    "\n",
    "ecartype_prod_cpuc = donnees_colab_prod.ecartype_prod_cpu.tolist()\n",
    "ecartype_prod_gpuc = donnees_colab_prod.ecartype_prod_gpu.tolist()"
   ]
  },
  {
   "cell_type": "code",
   "execution_count": 8,
   "id": "76365838",
   "metadata": {},
   "outputs": [],
   "source": [
    "import numpy as np\n",
    "dimension_matrice = ['3x3', '5x5', '7x7']\n",
    "mode_platform=[\"colab_cpu\",\"colab_gpu\"]\n",
    "x_pos = np.arange(len(dimension_matrice))"
   ]
  },
  {
   "cell_type": "code",
   "execution_count": 9,
   "id": "6e42ffb1",
   "metadata": {},
   "outputs": [
    {
     "data": {
      "image/png": "[encoded data removed]",
      "text/plain": [
       "<matplotlib.figure.Figure at 0x7f5b92aef0>"
      ]
     },
     "metadata": {},
     "output_type": "display_data"
    }
   ],
   "source": [
    "%matplotlib inline\n",
    "import matplotlib.pyplot as plt\n",
    "\n",
    "# Largeur des barres\n",
    "bar_width = 0.25\n",
    "indices = range(len(dimension_matrice))\n",
    "\n",
    "fig, ax = plt.subplots()\n",
    "ax.bar(dimension_matrice, moyenne_add_cpuc, yerr=ecartype_add_cpuc, width=bar_width,align='center', alpha=0.2, ecolor='black', capsize=10,label=mode_platform[0])\n",
    "ax.bar([i + bar_width for i in indices], moyenne_add_gpuc, yerr=ecartype_add_gpuc,width=bar_width, align='center', alpha=0.5, ecolor='black', capsize=10,label=mode_platform[1])\n",
    "\n",
    "ax.set_ylabel(\"Temps d'exécution\")\n",
    "ax.set_xticks(x_pos)\n",
    "ax.set_xticklabels(dimension_matrice)\n",
    "ax.set_title(\"analyse statistique :temps d'exécution pour addition\")\n",
    "ax.yaxis.grid(True)\n",
    "ax.legend()\n",
    "# Save the figure and show\n",
    "plt.tight_layout()\n",
    "plt.savefig('bar_plot_add_bars.png')\n",
    "plt.show()"
   ]
  },
  {
   "cell_type": "code",
   "execution_count": 10,
   "id": "5a62ccd4",
   "metadata": {},
   "outputs": [
    {
     "data": {
      "image/png": "[encoded data removed]",
      "text/plain": [
       "<matplotlib.figure.Figure at 0x7f5b92afd0>"
      ]
     },
     "metadata": {},
     "output_type": "display_data"
    }
   ],
   "source": [
    "%matplotlib inline\n",
    "import matplotlib.pyplot as plt\n",
    "\n",
    "# Largeur des barres\n",
    "bar_width = 0.25\n",
    "indices = range(len(dimension_matrice))\n",
    "\n",
    "fig, ax = plt.subplots()\n",
    "ax.bar(dimension_matrice, moyenne_dot_cpuc, yerr=ecartype_dot_cpuc, width=bar_width,align='center', alpha=0.2, ecolor='black', capsize=10,label=mode_platform[0])\n",
    "ax.bar([i + bar_width for i in indices], moyenne_dot_gpuc, yerr=ecartype_dot_gpuc,width=bar_width, align='center', alpha=0.5, ecolor='black', capsize=10,label=mode_platform[1])\n",
    "\n",
    "ax.set_ylabel(\"Temps d'exécution\")\n",
    "ax.set_xticks(x_pos)\n",
    "ax.set_xticklabels(dimension_matrice)\n",
    "ax.set_title(\"analyse statistique :temps d'exécution pour (dot product)\")\n",
    "ax.yaxis.grid(True)\n",
    "ax.legend()\n",
    "# Save the figure and show\n",
    "plt.tight_layout()\n",
    "plt.savefig('bar_plot_dot_bars.png')\n",
    "plt.show()"
   ]
  },
  {
   "cell_type": "code",
   "execution_count": 11,
   "id": "79065caa",
   "metadata": {},
   "outputs": [
    {
     "data": {
      "image/png": "[encoded data removed]",
      "text/plain": [
       "<matplotlib.figure.Figure at 0x7f59b257f0>"
      ]
     },
     "metadata": {},
     "output_type": "display_data"
    }
   ],
   "source": [
    "%matplotlib inline\n",
    "import matplotlib.pyplot as plt\n",
    "\n",
    "# Largeur des barres\n",
    "bar_width = 0.25\n",
    "indices = range(len(dimension_matrice))\n",
    "\n",
    "fig, ax = plt.subplots()\n",
    "ax.bar(dimension_matrice, moyenne_prod_cpuc, yerr=ecartype_prod_cpuc, width=bar_width,align='center', alpha=0.2, ecolor='black', capsize=10,label=mode_platform[0])\n",
    "ax.bar([i + bar_width for i in indices], moyenne_prod_gpuc, yerr=ecartype_prod_gpuc,width=bar_width, align='center', alpha=0.5, ecolor='black', capsize=10,label=mode_platform[1])\n",
    "\n",
    "ax.set_ylabel(\"Temps d'exécution\")\n",
    "ax.set_xticks(x_pos)\n",
    "ax.set_xticklabels(dimension_matrice)\n",
    "ax.set_title(\"analyse statistique :temps d'exécution pour (prod product)\")\n",
    "ax.yaxis.grid(True)\n",
    "ax.legend()\n",
    "\n",
    "# Save the figure and show\n",
    "plt.tight_layout()\n",
    "plt.savefig('bar_plot_prod_bars.png')\n",
    "plt.show()"
   ]
  },
  {
   "cell_type": "markdown",
   "id": "9e3c90b5",
   "metadata": {},
   "source": [
    "# ex : (colab vs jetson)"
   ]
  },
  {
   "cell_type": "code",
   "execution_count": 12,
   "id": "362cf17f",
   "metadata": {},
   "outputs": [],
   "source": [
    "def add_cpu(m1,m2,dim1,dim2,platform):\n",
    "  platform=platform\n",
    "  madd=torch.zeros(dim1, dim2,dtype=torch.int)\n",
    "  for i in range(dim1):\n",
    "    for j in range(dim2):\n",
    "      madd[i,j]=m1[i,j]+m2[i,j]\n",
    "  return madd"
   ]
  },
  {
   "cell_type": "code",
   "execution_count": 13,
   "id": "e2dc5ede",
   "metadata": {},
   "outputs": [],
   "source": [
    "def prod_cpu(m1,m2,dim1,dim2,platform):\n",
    "  platform=platform\n",
    "  mpod=torch.zeros(dim1, dim2,dtype=torch.int)\n",
    "  for i in range(0,dim1-1):\n",
    "    for j in range(0,dim2-1):\n",
    "      mpod[i,j]=(m1[i,j]*m2[i,j])+(m1[i,j+1]*m2[i+1,j])\n",
    "  return mpod"
   ]
  },
  {
   "cell_type": "code",
   "execution_count": 14,
   "id": "e37ec490",
   "metadata": {},
   "outputs": [],
   "source": [
    "def dot_cpu(m1,m2,dim1,dim2,platform):\n",
    "  platform=platform\n",
    "  madd=torch.zeros(dim1, dim2,dtype=torch.int)\n",
    "  for i in range(dim1):\n",
    "    for j in range(dim2):\n",
    "      madd[i,j]=m1[i,j]*m2[i,j]\n",
    "  return madd"
   ]
  },
  {
   "cell_type": "markdown",
   "id": "06c890cb",
   "metadata": {},
   "source": [
    "# add cpu/gpu"
   ]
  },
  {
   "cell_type": "code",
   "execution_count": 15,
   "id": "9043f6d9",
   "metadata": {},
   "outputs": [],
   "source": [
    "from __future__ import print_function\n",
    "import torch"
   ]
  },
  {
   "cell_type": "markdown",
   "id": "e2d9a0c3",
   "metadata": {},
   "source": [
    "**add gpu (3x3)**"
   ]
  },
  {
   "cell_type": "code",
   "execution_count": 16,
   "id": "e1957f81",
   "metadata": {},
   "outputs": [
    {
     "name": "stdout",
     "output_type": "stream",
     "text": [
      "m1_3 tensor([[1, 1, 4],\n",
      "        [1, 2, 3],\n",
      "        [1, 1, 4]])\n",
      "m2_3 tensor([[1, 1, 1],\n",
      "        [2, 1, 4],\n",
      "        [4, 3, 3]])\n",
      "---------------------\n",
      "m1_5 tensor([[3, 3, 4, 4, 4],\n",
      "        [2, 3, 2, 2, 3],\n",
      "        [4, 2, 4, 1, 2],\n",
      "        [1, 4, 2, 1, 4],\n",
      "        [3, 2, 2, 4, 4]])\n",
      "m2_5 tensor([[4, 1, 3, 3, 4],\n",
      "        [1, 2, 1, 4, 4],\n",
      "        [2, 3, 2, 1, 3],\n",
      "        [1, 4, 3, 3, 4],\n",
      "        [4, 1, 3, 4, 4]])\n",
      "---------------------\n",
      "m1_7 tensor([[3, 4, 1, 3, 1, 1, 2],\n",
      "        [1, 3, 1, 1, 1, 2, 3],\n",
      "        [1, 1, 2, 3, 4, 4, 3],\n",
      "        [1, 2, 1, 3, 4, 4, 2],\n",
      "        [1, 2, 1, 4, 1, 1, 1],\n",
      "        [3, 3, 2, 2, 2, 1, 4],\n",
      "        [2, 1, 3, 2, 1, 2, 4]])\n",
      "m2_7 tensor([[4, 1, 4, 1, 4, 1, 3],\n",
      "        [1, 3, 1, 4, 1, 2, 3],\n",
      "        [2, 4, 1, 1, 2, 2, 2],\n",
      "        [3, 1, 4, 4, 3, 2, 2],\n",
      "        [2, 3, 2, 1, 1, 3, 1],\n",
      "        [3, 2, 2, 1, 4, 4, 1],\n",
      "        [2, 3, 2, 2, 3, 2, 1]])\n",
      "tensor([[2, 2, 5],\n",
      "        [3, 3, 7],\n",
      "        [5, 4, 7]], dtype=torch.int32)\n",
      "cuda\n",
      "execution_time_add_cuda dim 3x3  0.06630444526672363\n",
      "tensor([[2, 2, 5],\n",
      "        [3, 3, 7],\n",
      "        [5, 4, 7]], dtype=torch.int32)\n",
      "cuda\n",
      "execution_time_add_cuda dim 3x3  0.002537250518798828\n",
      "tensor([[2, 2, 5],\n",
      "        [3, 3, 7],\n",
      "        [5, 4, 7]], dtype=torch.int32)\n",
      "cuda\n",
      "execution_time_add_cuda dim 3x3  0.0026214122772216797\n",
      "tensor([[2, 2, 5],\n",
      "        [3, 3, 7],\n",
      "        [5, 4, 7]], dtype=torch.int32)\n",
      "cuda\n",
      "execution_time_add_cuda dim 3x3  0.0025725364685058594\n",
      "tensor([[2, 2, 5],\n",
      "        [3, 3, 7],\n",
      "        [5, 4, 7]], dtype=torch.int32)\n",
      "cuda\n",
      "execution_time_add_cuda dim 3x3  0.002466917037963867\n",
      "Temps d'exécution moyen sur gpu 3x3: 0.0025495290756225586\n",
      "Temps d'exécution ecart sur gpu: 3x3 5.628509243845361e-05\n"
     ]
    }
   ],
   "source": [
    "import time\n",
    "import numpy as np\n",
    "platform=\"jetson\"\n",
    "\"\"\"\n",
    "m1_3 =  torch.randint(1, 5, (3, 3),device=\"cuda\")\n",
    "m2_3 =  torch.randint(1, 5, (3, 3),device=\"cuda\")\n",
    "m1_5 =  torch.randint(1, 5, (5, 5),device=\"cuda\")\n",
    "m2_5 =  torch.randint(1, 5, (5, 5),device=\"cuda\")\n",
    "m1_7 =  torch.randint(1, 5, (7, 7),device=\"cuda\")\n",
    "m2_7 =  torch.randint(1, 5, (7, 7),device=\"cuda\")\"\"\"\n",
    "\n",
    "m1_3 =  torch.randint(1, 5, (3, 3))\n",
    "m2_3 =  torch.randint(1, 5, (3, 3))\n",
    "m1_5 =  torch.randint(1, 5, (5, 5))\n",
    "m2_5 =  torch.randint(1, 5, (5, 5))\n",
    "m1_7 =  torch.randint(1, 5, (7, 7))\n",
    "m2_7 =  torch.randint(1, 5, (7, 7))\n",
    "print(\"m1_3\",m1_3)\n",
    "print(\"m2_3\",m2_3)\n",
    "print(\"---------------------\")\n",
    "print(\"m1_5\",m1_5)\n",
    "print(\"m2_5\",m2_5)\n",
    "print(\"---------------------\")\n",
    "print(\"m1_7\",m1_7)\n",
    "print(\"m2_7\",m2_7)\n",
    "add_gpu3=[]\n",
    "for i in range(5):\n",
    "  start_time_add_cuda3 = time.time()\n",
    "  device = \"cpu\"\n",
    "  if torch.cuda.is_available():\n",
    "    device = torch.device(\"cuda\")\n",
    "    print(add_cpu(m1_3,m2_3,3,3,platform))\n",
    "  print(device)\n",
    "  end_time_add_cuda3 = time.time()\n",
    "  execution_time_add_cuda3 = end_time_add_cuda3 - start_time_add_cuda3\n",
    "  if i !=0:\n",
    "    add_gpu3.append(execution_time_add_cuda3)\n",
    "  print(\"execution_time_add_cuda dim 3x3 \",execution_time_add_cuda3)\n",
    "\n",
    "# Imprime les temps d'exécution moyens sur gpu\n",
    "if len(add_gpu3) > 0:\n",
    "    moyenne_add_gpu_times3=np.mean(add_gpu3)\n",
    "    ecart_type_add_gpu_times3 = np.std(add_gpu3)\n",
    "    print(\"Temps d'exécution moyen sur gpu 3x3:\", moyenne_add_gpu_times3)\n",
    "    print(\"Temps d'exécution ecart sur gpu: 3x3\", ecart_type_add_gpu_times3)"
   ]
  },
  {
   "cell_type": "markdown",
   "id": "7db849af",
   "metadata": {},
   "source": [
    "**add gpu (5x5)**"
   ]
  },
  {
   "cell_type": "code",
   "execution_count": 17,
   "id": "b758c352",
   "metadata": {},
   "outputs": [
    {
     "name": "stdout",
     "output_type": "stream",
     "text": [
      "tensor([[7, 4, 7, 7, 8],\n",
      "        [3, 5, 3, 6, 7],\n",
      "        [6, 5, 6, 2, 5],\n",
      "        [2, 8, 5, 4, 8],\n",
      "        [7, 3, 5, 8, 8]], dtype=torch.int32)\n",
      "cuda\n",
      "execution_time_add_cuda dim 5x5  0.004192352294921875\n",
      "tensor([[7, 4, 7, 7, 8],\n",
      "        [3, 5, 3, 6, 7],\n",
      "        [6, 5, 6, 2, 5],\n",
      "        [2, 8, 5, 4, 8],\n",
      "        [7, 3, 5, 8, 8]], dtype=torch.int32)\n",
      "cuda\n",
      "execution_time_add_cuda dim 5x5  0.0044291019439697266\n",
      "tensor([[7, 4, 7, 7, 8],\n",
      "        [3, 5, 3, 6, 7],\n",
      "        [6, 5, 6, 2, 5],\n",
      "        [2, 8, 5, 4, 8],\n",
      "        [7, 3, 5, 8, 8]], dtype=torch.int32)\n",
      "cuda\n",
      "execution_time_add_cuda dim 5x5  0.003970623016357422\n",
      "tensor([[7, 4, 7, 7, 8],\n",
      "        [3, 5, 3, 6, 7],\n",
      "        [6, 5, 6, 2, 5],\n",
      "        [2, 8, 5, 4, 8],\n",
      "        [7, 3, 5, 8, 8]], dtype=torch.int32)\n",
      "cuda\n",
      "execution_time_add_cuda dim 5x5  0.004159212112426758\n",
      "tensor([[7, 4, 7, 7, 8],\n",
      "        [3, 5, 3, 6, 7],\n",
      "        [6, 5, 6, 2, 5],\n",
      "        [2, 8, 5, 4, 8],\n",
      "        [7, 3, 5, 8, 8]], dtype=torch.int32)\n",
      "cuda\n",
      "execution_time_add_cuda dim 5x5  0.003792285919189453\n",
      "Temps d'exécution moyen sur gpu 5x5: 0.00408780574798584\n",
      "Temps d'exécution ecart sur gpu: 5x5 0.00023592674926737554\n"
     ]
    }
   ],
   "source": [
    "add_gpu5=[]\n",
    "for i in range(5):\n",
    "  start_time_add_cuda5 = time.time()\n",
    "  if torch.cuda.is_available():\n",
    "    device = torch.device(\"cuda\")\n",
    "    print(add_cpu(m1_5,m2_5,5,5,platform))\n",
    "  print(device)\n",
    "  end_time_add_cuda5 = time.time()\n",
    "  execution_time_add_cuda5 = end_time_add_cuda5 - start_time_add_cuda5\n",
    "  if i !=0:\n",
    "    add_gpu5.append(execution_time_add_cuda5)\n",
    "  print(\"execution_time_add_cuda dim 5x5 \",execution_time_add_cuda5)\n",
    "\n",
    "# Imprime les temps d'exécution moyens sur gpu\n",
    "if len(add_gpu5) > 0:\n",
    "    moyenne_add_gpu_times5=np.mean(add_gpu5)\n",
    "    ecart_type_add_gpu_times5 = np.std(add_gpu5)\n",
    "    print(\"Temps d'exécution moyen sur gpu 5x5:\", moyenne_add_gpu_times5)\n",
    "    print(\"Temps d'exécution ecart sur gpu: 5x5\", ecart_type_add_gpu_times5)"
   ]
  },
  {
   "cell_type": "markdown",
   "id": "9aec1eda",
   "metadata": {},
   "source": [
    "**add gpu (7x7)**"
   ]
  },
  {
   "cell_type": "code",
   "execution_count": 18,
   "id": "4d203dea",
   "metadata": {},
   "outputs": [
    {
     "name": "stdout",
     "output_type": "stream",
     "text": [
      "tensor([[7, 5, 5, 4, 5, 2, 5],\n",
      "        [2, 6, 2, 5, 2, 4, 6],\n",
      "        [3, 5, 3, 4, 6, 6, 5],\n",
      "        [4, 3, 5, 7, 7, 6, 4],\n",
      "        [3, 5, 3, 5, 2, 4, 2],\n",
      "        [6, 5, 4, 3, 6, 5, 5],\n",
      "        [4, 4, 5, 4, 4, 4, 5]], dtype=torch.int32)\n",
      "cuda\n",
      "execution_time_add_cuda dim 7x7  0.007270336151123047\n",
      "tensor([[7, 5, 5, 4, 5, 2, 5],\n",
      "        [2, 6, 2, 5, 2, 4, 6],\n",
      "        [3, 5, 3, 4, 6, 6, 5],\n",
      "        [4, 3, 5, 7, 7, 6, 4],\n",
      "        [3, 5, 3, 5, 2, 4, 2],\n",
      "        [6, 5, 4, 3, 6, 5, 5],\n",
      "        [4, 4, 5, 4, 4, 4, 5]], dtype=torch.int32)\n",
      "cuda\n",
      "execution_time_add_cuda dim 7x7  0.009911775588989258\n",
      "tensor([[7, 5, 5, 4, 5, 2, 5],\n",
      "        [2, 6, 2, 5, 2, 4, 6],\n",
      "        [3, 5, 3, 4, 6, 6, 5],\n",
      "        [4, 3, 5, 7, 7, 6, 4],\n",
      "        [3, 5, 3, 5, 2, 4, 2],\n",
      "        [6, 5, 4, 3, 6, 5, 5],\n",
      "        [4, 4, 5, 4, 4, 4, 5]], dtype=torch.int32)\n",
      "cuda\n",
      "execution_time_add_cuda dim 7x7  0.0058133602142333984\n",
      "tensor([[7, 5, 5, 4, 5, 2, 5],\n",
      "        [2, 6, 2, 5, 2, 4, 6],\n",
      "        [3, 5, 3, 4, 6, 6, 5],\n",
      "        [4, 3, 5, 7, 7, 6, 4],\n",
      "        [3, 5, 3, 5, 2, 4, 2],\n",
      "        [6, 5, 4, 3, 6, 5, 5],\n",
      "        [4, 4, 5, 4, 4, 4, 5]], dtype=torch.int32)\n",
      "cuda\n",
      "execution_time_add_cuda dim 7x7  0.005952358245849609\n",
      "tensor([[7, 5, 5, 4, 5, 2, 5],\n",
      "        [2, 6, 2, 5, 2, 4, 6],\n",
      "        [3, 5, 3, 4, 6, 6, 5],\n",
      "        [4, 3, 5, 7, 7, 6, 4],\n",
      "        [3, 5, 3, 5, 2, 4, 2],\n",
      "        [6, 5, 4, 3, 6, 5, 5],\n",
      "        [4, 4, 5, 4, 4, 4, 5]], dtype=torch.int32)\n",
      "cuda\n",
      "execution_time_add_cuda dim 7x7  0.005944490432739258\n",
      "Temps d'exécution moyen sur gpu 7x7: 0.006905496120452881\n",
      "Temps d'exécution ecart sur gpu: 7x7 0.0017365541181041829\n"
     ]
    }
   ],
   "source": [
    "add_gpu7=[]\n",
    "for i in range(5):\n",
    "  start_time_add_cuda7 = time.time()\n",
    "  if torch.cuda.is_available():\n",
    "    device = torch.device(\"cuda\")\n",
    "    print(add_cpu(m1_7,m2_7,7,7,platform))\n",
    "  print(device)\n",
    "  end_time_add_cuda7 = time.time()\n",
    "  execution_time_add_cuda7 = end_time_add_cuda7 - start_time_add_cuda7\n",
    "  if i !=0:\n",
    "    add_gpu7.append(execution_time_add_cuda7)\n",
    "  print(\"execution_time_add_cuda dim 7x7 \",execution_time_add_cuda7)\n",
    "\n",
    "# Imprime les temps d'exécution moyens sur gpu\n",
    "if len(add_gpu7) > 0:\n",
    "    moyenne_add_gpu_times7=np.mean(add_gpu7)\n",
    "    ecart_type_add_gpu_times7 = np.std(add_gpu7)\n",
    "    print(\"Temps d'exécution moyen sur gpu 7x7:\", moyenne_add_gpu_times7)\n",
    "    print(\"Temps d'exécution ecart sur gpu: 7x7\", ecart_type_add_gpu_times7)"
   ]
  },
  {
   "cell_type": "markdown",
   "id": "0e073010",
   "metadata": {},
   "source": [
    "**add cpu (3x3)**"
   ]
  },
  {
   "cell_type": "code",
   "execution_count": 19,
   "id": "b70b8571",
   "metadata": {},
   "outputs": [
    {
     "name": "stdout",
     "output_type": "stream",
     "text": [
      "tensor([[2, 2, 5],\n",
      "        [3, 3, 7],\n",
      "        [5, 4, 7]], dtype=torch.int32)\n",
      "cpu\n",
      "execution_time_add_cpu 3x3 0.002909421920776367\n",
      "tensor([[2, 2, 5],\n",
      "        [3, 3, 7],\n",
      "        [5, 4, 7]], dtype=torch.int32)\n",
      "cpu\n",
      "execution_time_add_cpu 3x3 0.0023577213287353516\n",
      "tensor([[2, 2, 5],\n",
      "        [3, 3, 7],\n",
      "        [5, 4, 7]], dtype=torch.int32)\n",
      "cpu\n",
      "execution_time_add_cpu 3x3 0.0024416446685791016\n",
      "tensor([[2, 2, 5],\n",
      "        [3, 3, 7],\n",
      "        [5, 4, 7]], dtype=torch.int32)\n",
      "cpu\n",
      "execution_time_add_cpu 3x3 0.0026023387908935547\n",
      "tensor([[2, 2, 5],\n",
      "        [3, 3, 7],\n",
      "        [5, 4, 7]], dtype=torch.int32)\n",
      "cpu\n",
      "execution_time_add_cpu 3x3 0.002686738967895508\n",
      "Temps d'exécution moyen sur CPU 3x3 : 0.002522110939025879\n",
      "Temps d'exécution ecart sur CPU 3x3 : 0.00012945815999376638\n"
     ]
    }
   ],
   "source": [
    "import time\n",
    "platform=\"jetson\"\n",
    "m1_3c =  torch.randint(1, 5, (3, 3))\n",
    "m2_3c =  torch.randint(1, 5, (3, 3))\n",
    "m1_5c =  torch.randint(1, 5, (5, 5))\n",
    "m2_5c =  torch.randint(1, 5, (5, 5))\n",
    "m1_7c =  torch.randint(1, 5, (7, 7))\n",
    "m2_7c =  torch.randint(1, 5, (7, 7))\n",
    "\n",
    "addd_cpu3=[]\n",
    "for i in range(5):\n",
    "  start_time_add_cpu3 = time.time()\n",
    "  if torch.cuda.is_available():\n",
    "    device = torch.device(\"cpu\")\n",
    "    #print(add_cpu(m1_3,m2_3,3,3,platform))\n",
    "    print(add_cpu(m1_3,m2_3,3,3,platform))\n",
    "  print(device)\n",
    "  end_time_add_cpu3 = time.time()\n",
    "  execution_time_add_cpu3 = end_time_add_cpu3 - start_time_add_cpu3\n",
    "  if i !=0:\n",
    "    addd_cpu3.append(execution_time_add_cpu3)\n",
    "  print(\"execution_time_add_cpu 3x3\",execution_time_add_cpu3)\n",
    "\n",
    "# Imprime les temps d'exécution moyens sur CPU\n",
    "if len(addd_cpu3) > 0:\n",
    "    moyenne_add_cpu_times3=np.mean(addd_cpu3)\n",
    "    ecart_type_add_cpu_times3 = np.std(addd_cpu3)\n",
    "    print(\"Temps d'exécution moyen sur CPU 3x3 :\", moyenne_add_cpu_times3)\n",
    "    print(\"Temps d'exécution ecart sur CPU 3x3 :\", ecart_type_add_cpu_times3)"
   ]
  },
  {
   "cell_type": "markdown",
   "id": "84512475",
   "metadata": {},
   "source": [
    "**add cpu (5x5)**"
   ]
  },
  {
   "cell_type": "code",
   "execution_count": 20,
   "id": "6ad38893",
   "metadata": {},
   "outputs": [
    {
     "name": "stdout",
     "output_type": "stream",
     "text": [
      "tensor([[7, 4, 7, 7, 8],\n",
      "        [3, 5, 3, 6, 7],\n",
      "        [6, 5, 6, 2, 5],\n",
      "        [2, 8, 5, 4, 8],\n",
      "        [7, 3, 5, 8, 8]], dtype=torch.int32)\n",
      "cpu\n",
      "execution_time_add_cpu 5x5 0.0044765472412109375\n",
      "tensor([[7, 4, 7, 7, 8],\n",
      "        [3, 5, 3, 6, 7],\n",
      "        [6, 5, 6, 2, 5],\n",
      "        [2, 8, 5, 4, 8],\n",
      "        [7, 3, 5, 8, 8]], dtype=torch.int32)\n",
      "cpu\n",
      "execution_time_add_cpu 5x5 0.00402069091796875\n",
      "tensor([[7, 4, 7, 7, 8],\n",
      "        [3, 5, 3, 6, 7],\n",
      "        [6, 5, 6, 2, 5],\n",
      "        [2, 8, 5, 4, 8],\n",
      "        [7, 3, 5, 8, 8]], dtype=torch.int32)\n",
      "cpu\n",
      "execution_time_add_cpu 5x5 0.004666805267333984\n",
      "tensor([[7, 4, 7, 7, 8],\n",
      "        [3, 5, 3, 6, 7],\n",
      "        [6, 5, 6, 2, 5],\n",
      "        [2, 8, 5, 4, 8],\n",
      "        [7, 3, 5, 8, 8]], dtype=torch.int32)\n",
      "cpu\n",
      "execution_time_add_cpu 5x5 0.0036165714263916016\n",
      "tensor([[7, 4, 7, 7, 8],\n",
      "        [3, 5, 3, 6, 7],\n",
      "        [6, 5, 6, 2, 5],\n",
      "        [2, 8, 5, 4, 8],\n",
      "        [7, 3, 5, 8, 8]], dtype=torch.int32)\n",
      "cpu\n",
      "execution_time_add_cpu 5x5 0.003635406494140625\n",
      "Temps d'exécution moyen sur CPU 5x5 : 0.00398486852645874\n",
      "Temps d'exécution ecart sur CPU 5x5 : 0.00042546663448466137\n"
     ]
    }
   ],
   "source": [
    "addd_cpu5=[]\n",
    "for i in range(5):\n",
    "  start_time_add_cpu5 = time.time()\n",
    "  if torch.cuda.is_available():\n",
    "    device = torch.device(\"cpu\")\n",
    "    #print(add_cpu(m1_5c,m2_5c,5,5,platform))\n",
    "    print(add_cpu(m1_5,m2_5,5,5,platform))\n",
    "  print(device)\n",
    "  end_time_add_cpu5 = time.time()\n",
    "  execution_time_add_cpu5 = end_time_add_cpu5 - start_time_add_cpu5\n",
    "  if i !=0:\n",
    "    addd_cpu5.append(execution_time_add_cpu5)\n",
    "  print(\"execution_time_add_cpu 5x5\",execution_time_add_cpu5)\n",
    "\n",
    "# Imprime les temps d'exécution moyens sur CPU\n",
    "if len(addd_cpu5) > 0:\n",
    "    moyenne_add_cpu_times5=np.mean(addd_cpu5)\n",
    "    ecart_type_add_cpu_times5 = np.std(addd_cpu5)\n",
    "    print(\"Temps d'exécution moyen sur CPU 5x5 :\", moyenne_add_cpu_times5)\n",
    "    print(\"Temps d'exécution ecart sur CPU 5x5 :\", ecart_type_add_cpu_times5)"
   ]
  },
  {
   "cell_type": "markdown",
   "id": "84a9732a",
   "metadata": {},
   "source": [
    "**add cpu (7x7)**"
   ]
  },
  {
   "cell_type": "code",
   "execution_count": 21,
   "id": "d7335678",
   "metadata": {},
   "outputs": [
    {
     "name": "stdout",
     "output_type": "stream",
     "text": [
      "tensor([[7, 5, 5, 4, 5, 2, 5],\n",
      "        [2, 6, 2, 5, 2, 4, 6],\n",
      "        [3, 5, 3, 4, 6, 6, 5],\n",
      "        [4, 3, 5, 7, 7, 6, 4],\n",
      "        [3, 5, 3, 5, 2, 4, 2],\n",
      "        [6, 5, 4, 3, 6, 5, 5],\n",
      "        [4, 4, 5, 4, 4, 4, 5]], dtype=torch.int32)\n",
      "cpu\n",
      "execution_time_add_cpu 7x7 0.008280754089355469\n",
      "tensor([[7, 5, 5, 4, 5, 2, 5],\n",
      "        [2, 6, 2, 5, 2, 4, 6],\n",
      "        [3, 5, 3, 4, 6, 6, 5],\n",
      "        [4, 3, 5, 7, 7, 6, 4],\n",
      "        [3, 5, 3, 5, 2, 4, 2],\n",
      "        [6, 5, 4, 3, 6, 5, 5],\n",
      "        [4, 4, 5, 4, 4, 4, 5]], dtype=torch.int32)\n",
      "cpu\n",
      "execution_time_add_cpu 7x7 0.008485555648803711\n",
      "tensor([[7, 5, 5, 4, 5, 2, 5],\n",
      "        [2, 6, 2, 5, 2, 4, 6],\n",
      "        [3, 5, 3, 4, 6, 6, 5],\n",
      "        [4, 3, 5, 7, 7, 6, 4],\n",
      "        [3, 5, 3, 5, 2, 4, 2],\n",
      "        [6, 5, 4, 3, 6, 5, 5],\n",
      "        [4, 4, 5, 4, 4, 4, 5]], dtype=torch.int32)\n",
      "cpu\n",
      "execution_time_add_cpu 7x7 0.0060918331146240234\n",
      "tensor([[7, 5, 5, 4, 5, 2, 5],\n",
      "        [2, 6, 2, 5, 2, 4, 6],\n",
      "        [3, 5, 3, 4, 6, 6, 5],\n",
      "        [4, 3, 5, 7, 7, 6, 4],\n",
      "        [3, 5, 3, 5, 2, 4, 2],\n",
      "        [6, 5, 4, 3, 6, 5, 5],\n",
      "        [4, 4, 5, 4, 4, 4, 5]], dtype=torch.int32)\n",
      "cpu\n",
      "execution_time_add_cpu 7x7 0.005648136138916016\n",
      "tensor([[7, 5, 5, 4, 5, 2, 5],\n",
      "        [2, 6, 2, 5, 2, 4, 6],\n",
      "        [3, 5, 3, 4, 6, 6, 5],\n",
      "        [4, 3, 5, 7, 7, 6, 4],\n",
      "        [3, 5, 3, 5, 2, 4, 2],\n",
      "        [6, 5, 4, 3, 6, 5, 5],\n",
      "        [4, 4, 5, 4, 4, 4, 5]], dtype=torch.int32)\n",
      "cpu\n",
      "execution_time_add_cpu 7x7 0.005949735641479492\n",
      "Temps d'exécution moyen sur CPU 7x7 : 0.0065438151359558105\n",
      "Temps d'exécution ecart sur CPU 7x7 : 0.0011324547759554735\n"
     ]
    }
   ],
   "source": [
    "addd_cpu7=[]\n",
    "for i in range(5):\n",
    "  start_time_add_cpu7 = time.time()\n",
    "  if torch.cuda.is_available():\n",
    "    device = torch.device(\"cpu\")\n",
    "    #print(add_cpu(m1_7c,m2_7c,7,7,platform))\n",
    "    print(add_cpu(m1_7,m2_7,7,7,platform))\n",
    "  print(device)\n",
    "  end_time_add_cpu7 = time.time()\n",
    "  execution_time_add_cpu7 = end_time_add_cpu7 - start_time_add_cpu7\n",
    "  if i !=0:\n",
    "    addd_cpu7.append(execution_time_add_cpu7)\n",
    "  print(\"execution_time_add_cpu 7x7\",execution_time_add_cpu7)\n",
    "\n",
    "# Imprime les temps d'exécution moyens sur CPU\n",
    "if len(addd_cpu7) > 0:\n",
    "    moyenne_add_cpu_times7=np.mean(addd_cpu7)\n",
    "    ecart_type_add_cpu_times7 = np.std(addd_cpu7)\n",
    "    print(\"Temps d'exécution moyen sur CPU 7x7 :\", moyenne_add_cpu_times7)\n",
    "    print(\"Temps d'exécution ecart sur CPU 7x7 :\", ecart_type_add_cpu_times7)"
   ]
  },
  {
   "cell_type": "markdown",
   "id": "6cc515db",
   "metadata": {},
   "source": [
    "# dot cpu/gpu"
   ]
  },
  {
   "cell_type": "markdown",
   "id": "92782d03",
   "metadata": {},
   "source": [
    "**dot cpu (3x3)**"
   ]
  },
  {
   "cell_type": "code",
   "execution_count": 22,
   "id": "53131a73",
   "metadata": {},
   "outputs": [
    {
     "name": "stdout",
     "output_type": "stream",
     "text": [
      "tensor([[ 1,  1,  4],\n",
      "        [ 2,  2, 12],\n",
      "        [ 4,  3, 12]], dtype=torch.int32)\n",
      "cpu\n",
      "execution_time_dot_cpu (3x3) :  0.0033960342407226562\n",
      "tensor([[ 1,  1,  4],\n",
      "        [ 2,  2, 12],\n",
      "        [ 4,  3, 12]], dtype=torch.int32)\n",
      "cpu\n",
      "execution_time_dot_cpu (3x3) :  0.0026903152465820312\n",
      "tensor([[ 1,  1,  4],\n",
      "        [ 2,  2, 12],\n",
      "        [ 4,  3, 12]], dtype=torch.int32)\n",
      "cpu\n",
      "execution_time_dot_cpu (3x3) :  0.002897977828979492\n",
      "tensor([[ 1,  1,  4],\n",
      "        [ 2,  2, 12],\n",
      "        [ 4,  3, 12]], dtype=torch.int32)\n",
      "cpu\n",
      "execution_time_dot_cpu (3x3) :  0.002980947494506836\n",
      "tensor([[ 1,  1,  4],\n",
      "        [ 2,  2, 12],\n",
      "        [ 4,  3, 12]], dtype=torch.int32)\n",
      "cpu\n",
      "execution_time_dot_cpu (3x3) :  0.0021562576293945312\n",
      "Temps d'exécution moyen sur CPU (3x3): 0.0026813745498657227\n",
      "Temps d'exécution ecart sur CPU (3x3): 0.00032112639486139475\n"
     ]
    }
   ],
   "source": [
    "platform=\"jetson\"\n",
    "dott_cpu3=[]\n",
    "for i in range(5):\n",
    "  start_time_dot_cpu3 = time.time()\n",
    "  if torch.cuda.is_available():\n",
    "    device = torch.device(\"cpu\")\n",
    "    print(dot_cpu(m1_3,m2_3,3,3,platform))\n",
    "  print(device)\n",
    "  end_time_dot_cpu3 = time.time()\n",
    "  execution_time_dot_cpu3 = end_time_dot_cpu3 - start_time_dot_cpu3\n",
    "  if i !=0:\n",
    "    dott_cpu3.append(execution_time_dot_cpu3)\n",
    "  print(\"execution_time_dot_cpu (3x3) : \",execution_time_dot_cpu3)\n",
    "\n",
    "# Imprime les temps d'exécution moyens sur CPU\n",
    "if len(dott_cpu3) > 0:\n",
    "    moyenne_dot_cpu_times3=np.mean(dott_cpu3)\n",
    "    ecart_type_dot_cpu_times3 = np.std(dott_cpu3)\n",
    "    print(\"Temps d'exécution moyen sur CPU (3x3):\", moyenne_dot_cpu_times3)\n",
    "    print(\"Temps d'exécution ecart sur CPU (3x3):\", ecart_type_dot_cpu_times3)"
   ]
  },
  {
   "cell_type": "markdown",
   "id": "219200ef",
   "metadata": {},
   "source": [
    "**dot cpu (5x5)**"
   ]
  },
  {
   "cell_type": "code",
   "execution_count": 23,
   "id": "a8e094c9",
   "metadata": {},
   "outputs": [
    {
     "name": "stdout",
     "output_type": "stream",
     "text": [
      "tensor([[12,  3, 12, 12, 16],\n",
      "        [ 2,  6,  2,  8, 12],\n",
      "        [ 8,  6,  8,  1,  6],\n",
      "        [ 1, 16,  6,  3, 16],\n",
      "        [12,  2,  6, 16, 16]], dtype=torch.int32)\n",
      "cpu\n",
      "execution_time_dot_cpu (5x5) :  0.005361795425415039\n",
      "tensor([[12,  3, 12, 12, 16],\n",
      "        [ 2,  6,  2,  8, 12],\n",
      "        [ 8,  6,  8,  1,  6],\n",
      "        [ 1, 16,  6,  3, 16],\n",
      "        [12,  2,  6, 16, 16]], dtype=torch.int32)\n",
      "cpu\n",
      "execution_time_dot_cpu (5x5) :  0.005045175552368164\n",
      "tensor([[12,  3, 12, 12, 16],\n",
      "        [ 2,  6,  2,  8, 12],\n",
      "        [ 8,  6,  8,  1,  6],\n",
      "        [ 1, 16,  6,  3, 16],\n",
      "        [12,  2,  6, 16, 16]], dtype=torch.int32)\n",
      "cpu\n",
      "execution_time_dot_cpu (5x5) :  0.0041196346282958984\n",
      "tensor([[12,  3, 12, 12, 16],\n",
      "        [ 2,  6,  2,  8, 12],\n",
      "        [ 8,  6,  8,  1,  6],\n",
      "        [ 1, 16,  6,  3, 16],\n",
      "        [12,  2,  6, 16, 16]], dtype=torch.int32)\n",
      "cpu\n",
      "execution_time_dot_cpu (5x5) :  0.00412440299987793\n",
      "tensor([[12,  3, 12, 12, 16],\n",
      "        [ 2,  6,  2,  8, 12],\n",
      "        [ 8,  6,  8,  1,  6],\n",
      "        [ 1, 16,  6,  3, 16],\n",
      "        [12,  2,  6, 16, 16]], dtype=torch.int32)\n",
      "cpu\n",
      "execution_time_dot_cpu (5x5) :  0.0037696361541748047\n",
      "Temps d'exécution moyen sur CPU (5x5): 0.004264712333679199\n",
      "Temps d'exécution ecart sur CPU (5x5): 0.00047301096947905086\n"
     ]
    }
   ],
   "source": [
    "dott_cpu5=[]\n",
    "for i in range(5):\n",
    "  start_time_dot_cpu5 = time.time()\n",
    "  if torch.cuda.is_available():\n",
    "    device = torch.device(\"cpu\")\n",
    "    print(dot_cpu(m1_5,m2_5,5,5,platform))\n",
    "  print(device)\n",
    "  end_time_dot_cpu5 = time.time()\n",
    "  execution_time_dot_cpu5 = end_time_dot_cpu5 - start_time_dot_cpu5\n",
    "  if i !=0:\n",
    "    dott_cpu5.append(execution_time_dot_cpu5)\n",
    "  print(\"execution_time_dot_cpu (5x5) : \",execution_time_dot_cpu5)\n",
    "\n",
    "# Imprime les temps d'exécution moyens sur CPU\n",
    "if len(dott_cpu5) > 0:\n",
    "    moyenne_dot_cpu_times5=np.mean(dott_cpu5)\n",
    "    ecart_type_dot_cpu_times5 = np.std(dott_cpu5)\n",
    "    print(\"Temps d'exécution moyen sur CPU (5x5):\", moyenne_dot_cpu_times5)\n",
    "    print(\"Temps d'exécution ecart sur CPU (5x5):\", ecart_type_dot_cpu_times5)"
   ]
  },
  {
   "cell_type": "markdown",
   "id": "0d1fcede",
   "metadata": {},
   "source": [
    "**dot cpu (7x7)**"
   ]
  },
  {
   "cell_type": "code",
   "execution_count": 24,
   "id": "d7e80af5",
   "metadata": {},
   "outputs": [
    {
     "name": "stdout",
     "output_type": "stream",
     "text": [
      "tensor([[ 6,  4,  4,  3,  3,  1,  8],\n",
      "        [ 8, 12, 16,  8,  2,  4,  6],\n",
      "        [ 6,  3,  6,  6,  2,  8,  6],\n",
      "        [ 3,  9,  2,  8,  8,  8,  3],\n",
      "        [12,  1,  1,  1, 12, 16,  8],\n",
      "        [ 2,  1,  4,  1,  1, 12,  3],\n",
      "        [12,  9,  6,  3,  4,  2,  2]], dtype=torch.int32)\n",
      "cpu\n",
      "execution_time_dot_cpu (7x7) :  0.009381294250488281\n",
      "tensor([[ 6,  4,  4,  3,  3,  1,  8],\n",
      "        [ 8, 12, 16,  8,  2,  4,  6],\n",
      "        [ 6,  3,  6,  6,  2,  8,  6],\n",
      "        [ 3,  9,  2,  8,  8,  8,  3],\n",
      "        [12,  1,  1,  1, 12, 16,  8],\n",
      "        [ 2,  1,  4,  1,  1, 12,  3],\n",
      "        [12,  9,  6,  3,  4,  2,  2]], dtype=torch.int32)\n",
      "cpu\n",
      "execution_time_dot_cpu (7x7) :  0.006365537643432617\n",
      "tensor([[ 6,  4,  4,  3,  3,  1,  8],\n",
      "        [ 8, 12, 16,  8,  2,  4,  6],\n",
      "        [ 6,  3,  6,  6,  2,  8,  6],\n",
      "        [ 3,  9,  2,  8,  8,  8,  3],\n",
      "        [12,  1,  1,  1, 12, 16,  8],\n",
      "        [ 2,  1,  4,  1,  1, 12,  3],\n",
      "        [12,  9,  6,  3,  4,  2,  2]], dtype=torch.int32)\n",
      "cpu\n",
      "execution_time_dot_cpu (7x7) :  0.007386922836303711\n",
      "tensor([[ 6,  4,  4,  3,  3,  1,  8],\n",
      "        [ 8, 12, 16,  8,  2,  4,  6],\n",
      "        [ 6,  3,  6,  6,  2,  8,  6],\n",
      "        [ 3,  9,  2,  8,  8,  8,  3],\n",
      "        [12,  1,  1,  1, 12, 16,  8],\n",
      "        [ 2,  1,  4,  1,  1, 12,  3],\n",
      "        [12,  9,  6,  3,  4,  2,  2]], dtype=torch.int32)\n",
      "cpu\n",
      "execution_time_dot_cpu (7x7) :  0.008295774459838867\n",
      "tensor([[ 6,  4,  4,  3,  3,  1,  8],\n",
      "        [ 8, 12, 16,  8,  2,  4,  6],\n",
      "        [ 6,  3,  6,  6,  2,  8,  6],\n",
      "        [ 3,  9,  2,  8,  8,  8,  3],\n",
      "        [12,  1,  1,  1, 12, 16,  8],\n",
      "        [ 2,  1,  4,  1,  1, 12,  3],\n",
      "        [12,  9,  6,  3,  4,  2,  2]], dtype=torch.int32)\n",
      "cpu\n",
      "execution_time_dot_cpu (7x7) :  0.007988691329956055\n",
      "Temps d'exécution moyen sur CPU (7x7): 0.0075092315673828125\n",
      "Temps d'exécution ecart sur CPU (7x7): 0.0007368050289898104\n"
     ]
    }
   ],
   "source": [
    "dott_cpu7=[]\n",
    "for i in range(5):\n",
    "  start_time_dot_cpu7 = time.time()\n",
    "  if torch.cuda.is_available():\n",
    "    device = torch.device(\"cpu\")\n",
    "    print(dot_cpu(m1_7c,m2_7c,7,7,platform))\n",
    "  print(device)\n",
    "  end_time_dot_cpu7 = time.time()\n",
    "  execution_time_dot_cpu7 = end_time_dot_cpu7 - start_time_dot_cpu7\n",
    "  if i !=0:\n",
    "    dott_cpu7.append(execution_time_dot_cpu7)\n",
    "  print(\"execution_time_dot_cpu (7x7) : \",execution_time_dot_cpu7)\n",
    "\n",
    "# Imprime les temps d'exécution moyens sur CPU\n",
    "if len(dott_cpu7) > 0:\n",
    "    moyenne_dot_cpu_times7=np.mean(dott_cpu7)\n",
    "    ecart_type_dot_cpu_times7 = np.std(dott_cpu7)\n",
    "    print(\"Temps d'exécution moyen sur CPU (7x7):\", moyenne_dot_cpu_times7)\n",
    "    print(\"Temps d'exécution ecart sur CPU (7x7):\", ecart_type_dot_cpu_times7)"
   ]
  },
  {
   "cell_type": "markdown",
   "id": "73b197a3",
   "metadata": {},
   "source": [
    "**dot gpu (3x3)**"
   ]
  },
  {
   "cell_type": "code",
   "execution_count": 25,
   "id": "dda02dfc",
   "metadata": {},
   "outputs": [
    {
     "name": "stdout",
     "output_type": "stream",
     "text": [
      "m1_3 tensor([[1, 1, 4],\n",
      "        [1, 2, 3],\n",
      "        [1, 1, 4]])\n",
      "m2_3 tensor([[1, 1, 1],\n",
      "        [2, 1, 4],\n",
      "        [4, 3, 3]])\n",
      "tensor([[ 1,  1,  4],\n",
      "        [ 2,  2, 12],\n",
      "        [ 4,  3, 12]], dtype=torch.int32)\n",
      "cuda\n",
      "execution_time_dot_cuda (3x3): 0.00404047966003418\n",
      "tensor([[ 1,  1,  4],\n",
      "        [ 2,  2, 12],\n",
      "        [ 4,  3, 12]], dtype=torch.int32)\n",
      "cuda\n",
      "execution_time_dot_cuda (3x3): 0.0033385753631591797\n",
      "tensor([[ 1,  1,  4],\n",
      "        [ 2,  2, 12],\n",
      "        [ 4,  3, 12]], dtype=torch.int32)\n",
      "cuda\n",
      "execution_time_dot_cuda (3x3): 0.004982471466064453\n",
      "tensor([[ 1,  1,  4],\n",
      "        [ 2,  2, 12],\n",
      "        [ 4,  3, 12]], dtype=torch.int32)\n",
      "cuda\n",
      "execution_time_dot_cuda (3x3): 0.0028192996978759766\n",
      "tensor([[ 1,  1,  4],\n",
      "        [ 2,  2, 12],\n",
      "        [ 4,  3, 12]], dtype=torch.int32)\n",
      "cuda\n",
      "execution_time_dot_cuda (3x3): 0.002450227737426758\n",
      "Temps d'exécution moyen sur gpu (3x3): 0.003397643566131592\n",
      "Temps d'exécution ecart sur gpu (3x3): 0.0009678903485722607\n"
     ]
    }
   ],
   "source": [
    "platform=\"jetson\"\n",
    "print(\"m1_3\",m1_3)\n",
    "print(\"m2_3\",m2_3)\n",
    "dott_gpu3=[]\n",
    "for i in range(5):\n",
    "  start_time_dot_cuda3 = time.time()\n",
    "  if torch.cuda.is_available():\n",
    "    device = torch.device(\"cuda\")\n",
    "    print(dot_cpu(m1_3,m2_3,3,3,platform))\n",
    "  print(device)\n",
    "  end_time_dot_cuda3 = time.time()\n",
    "  execution_time_dot_cuda3 = end_time_dot_cuda3 - start_time_dot_cuda3\n",
    "  if i !=0:\n",
    "    dott_gpu3.append(execution_time_dot_cuda3)\n",
    "  print(\"execution_time_dot_cuda (3x3):\",execution_time_dot_cuda3)\n",
    "\n",
    "# Imprime les temps d'exécution moyens sur gpu\n",
    "if len(dott_gpu3) > 0:\n",
    "    moyenne_dot_gpu_times3=np.mean(dott_gpu3)\n",
    "    ecart_type_dot_gpu_times3 = np.std(dott_gpu3)\n",
    "    print(\"Temps d'exécution moyen sur gpu (3x3):\", moyenne_dot_gpu_times3)\n",
    "    print(\"Temps d'exécution ecart sur gpu (3x3):\", ecart_type_dot_gpu_times3)"
   ]
  },
  {
   "cell_type": "markdown",
   "id": "7ff5a8f0",
   "metadata": {},
   "source": [
    "**dot gpu (5x5)**"
   ]
  },
  {
   "cell_type": "code",
   "execution_count": 26,
   "id": "9d41c55b",
   "metadata": {},
   "outputs": [
    {
     "name": "stdout",
     "output_type": "stream",
     "text": [
      "tensor([[12,  3, 12, 12, 16],\n",
      "        [ 2,  6,  2,  8, 12],\n",
      "        [ 8,  6,  8,  1,  6],\n",
      "        [ 1, 16,  6,  3, 16],\n",
      "        [12,  2,  6, 16, 16]], dtype=torch.int32)\n",
      "cuda\n",
      "execution_time_dot_cuda (5x5): 0.005917787551879883\n",
      "tensor([[12,  3, 12, 12, 16],\n",
      "        [ 2,  6,  2,  8, 12],\n",
      "        [ 8,  6,  8,  1,  6],\n",
      "        [ 1, 16,  6,  3, 16],\n",
      "        [12,  2,  6, 16, 16]], dtype=torch.int32)\n",
      "cuda\n",
      "execution_time_dot_cuda (5x5): 0.006251811981201172\n",
      "tensor([[12,  3, 12, 12, 16],\n",
      "        [ 2,  6,  2,  8, 12],\n",
      "        [ 8,  6,  8,  1,  6],\n",
      "        [ 1, 16,  6,  3, 16],\n",
      "        [12,  2,  6, 16, 16]], dtype=torch.int32)\n",
      "cuda\n",
      "execution_time_dot_cuda (5x5): 0.004179477691650391\n",
      "tensor([[12,  3, 12, 12, 16],\n",
      "        [ 2,  6,  2,  8, 12],\n",
      "        [ 8,  6,  8,  1,  6],\n",
      "        [ 1, 16,  6,  3, 16],\n",
      "        [12,  2,  6, 16, 16]], dtype=torch.int32)\n",
      "cuda\n",
      "execution_time_dot_cuda (5x5): 0.0036773681640625\n",
      "tensor([[12,  3, 12, 12, 16],\n",
      "        [ 2,  6,  2,  8, 12],\n",
      "        [ 8,  6,  8,  1,  6],\n",
      "        [ 1, 16,  6,  3, 16],\n",
      "        [12,  2,  6, 16, 16]], dtype=torch.int32)\n",
      "cuda\n",
      "execution_time_dot_cuda (5x5): 0.0038652420043945312\n",
      "Temps d'exécution moyen sur gpu (5x5): 0.0044934749603271484\n",
      "Temps d'exécution ecart sur gpu (5x5): 0.0010309037677617855\n"
     ]
    }
   ],
   "source": [
    "dott_gpu5=[]\n",
    "for i in range(5):\n",
    "  start_time_dot_cuda5 = time.time()\n",
    "  if torch.cuda.is_available():\n",
    "    device = torch.device(\"cuda\")\n",
    "    print(dot_cpu(m1_5,m2_5,5,5,platform))\n",
    "  print(device)\n",
    "  end_time_dot_cuda5 = time.time()\n",
    "  execution_time_dot_cuda5 = end_time_dot_cuda5 - start_time_dot_cuda5\n",
    "  if i !=0:\n",
    "    dott_gpu5.append(execution_time_dot_cuda5)\n",
    "  print(\"execution_time_dot_cuda (5x5):\",execution_time_dot_cuda5)\n",
    "\n",
    "# Imprime les temps d'exécution moyens sur gpu\n",
    "if len(dott_gpu5) > 0:\n",
    "    moyenne_dot_gpu_times5=np.mean(dott_gpu5)\n",
    "    ecart_type_dot_gpu_times5 = np.std(dott_gpu5)\n",
    "    print(\"Temps d'exécution moyen sur gpu (5x5):\", moyenne_dot_gpu_times5)\n",
    "    print(\"Temps d'exécution ecart sur gpu (5x5):\", ecart_type_dot_gpu_times5)"
   ]
  },
  {
   "cell_type": "markdown",
   "id": "c55a5f1b",
   "metadata": {},
   "source": [
    "**dot gpu (7x7)**"
   ]
  },
  {
   "cell_type": "code",
   "execution_count": 27,
   "id": "4a95999d",
   "metadata": {},
   "outputs": [
    {
     "name": "stdout",
     "output_type": "stream",
     "text": [
      "tensor([[12,  4,  4,  3,  4,  1,  6],\n",
      "        [ 1,  9,  1,  4,  1,  4,  9],\n",
      "        [ 2,  4,  2,  3,  8,  8,  6],\n",
      "        [ 3,  2,  4, 12, 12,  8,  4],\n",
      "        [ 2,  6,  2,  4,  1,  3,  1],\n",
      "        [ 9,  6,  4,  2,  8,  4,  4],\n",
      "        [ 4,  3,  6,  4,  3,  4,  4]], dtype=torch.int32)\n",
      "cuda\n",
      "execution_time_dot_cuda (7x7): 0.008992433547973633\n",
      "tensor([[12,  4,  4,  3,  4,  1,  6],\n",
      "        [ 1,  9,  1,  4,  1,  4,  9],\n",
      "        [ 2,  4,  2,  3,  8,  8,  6],\n",
      "        [ 3,  2,  4, 12, 12,  8,  4],\n",
      "        [ 2,  6,  2,  4,  1,  3,  1],\n",
      "        [ 9,  6,  4,  2,  8,  4,  4],\n",
      "        [ 4,  3,  6,  4,  3,  4,  4]], dtype=torch.int32)\n",
      "cuda\n",
      "execution_time_dot_cuda (7x7): 0.008803606033325195\n",
      "tensor([[12,  4,  4,  3,  4,  1,  6],\n",
      "        [ 1,  9,  1,  4,  1,  4,  9],\n",
      "        [ 2,  4,  2,  3,  8,  8,  6],\n",
      "        [ 3,  2,  4, 12, 12,  8,  4],\n",
      "        [ 2,  6,  2,  4,  1,  3,  1],\n",
      "        [ 9,  6,  4,  2,  8,  4,  4],\n",
      "        [ 4,  3,  6,  4,  3,  4,  4]], dtype=torch.int32)\n",
      "cuda\n",
      "execution_time_dot_cuda (7x7): 0.006089925765991211\n",
      "tensor([[12,  4,  4,  3,  4,  1,  6],\n",
      "        [ 1,  9,  1,  4,  1,  4,  9],\n",
      "        [ 2,  4,  2,  3,  8,  8,  6],\n",
      "        [ 3,  2,  4, 12, 12,  8,  4],\n",
      "        [ 2,  6,  2,  4,  1,  3,  1],\n",
      "        [ 9,  6,  4,  2,  8,  4,  4],\n",
      "        [ 4,  3,  6,  4,  3,  4,  4]], dtype=torch.int32)\n",
      "cuda\n",
      "execution_time_dot_cuda (7x7): 0.006453752517700195\n",
      "tensor([[12,  4,  4,  3,  4,  1,  6],\n",
      "        [ 1,  9,  1,  4,  1,  4,  9],\n",
      "        [ 2,  4,  2,  3,  8,  8,  6],\n",
      "        [ 3,  2,  4, 12, 12,  8,  4],\n",
      "        [ 2,  6,  2,  4,  1,  3,  1],\n",
      "        [ 9,  6,  4,  2,  8,  4,  4],\n",
      "        [ 4,  3,  6,  4,  3,  4,  4]], dtype=torch.int32)\n",
      "cuda\n",
      "execution_time_dot_cuda (7x7): 0.00845479965209961\n",
      "Temps d'exécution moyen sur gpu (7x7): 0.007450520992279053\n",
      "Temps d'exécution ecart sur gpu (7x7): 0.0011920760794287984\n"
     ]
    }
   ],
   "source": [
    "dott_gpu7=[]\n",
    "for i in range(5):\n",
    "  start_time_dot_cuda7 = time.time()\n",
    "  if torch.cuda.is_available():\n",
    "    device = torch.device(\"cuda\")\n",
    "    print(dot_cpu(m1_7,m2_7,7,7,platform))\n",
    "  print(device)\n",
    "  end_time_dot_cuda7 = time.time()\n",
    "  execution_time_dot_cuda7 = end_time_dot_cuda7 - start_time_dot_cuda7\n",
    "  if i !=0:\n",
    "    dott_gpu7.append(execution_time_dot_cuda7)\n",
    "  print(\"execution_time_dot_cuda (7x7):\",execution_time_dot_cuda7)\n",
    "\n",
    "# Imprime les temps d'exécution moyens sur gpu\n",
    "if len(dott_gpu7) > 0:\n",
    "    moyenne_dot_gpu_times7=np.mean(dott_gpu7)\n",
    "    ecart_type_dot_gpu_times7 = np.std(dott_gpu7)\n",
    "    print(\"Temps d'exécution moyen sur gpu (7x7):\", moyenne_dot_gpu_times7)\n",
    "    print(\"Temps d'exécution ecart sur gpu (7x7):\", ecart_type_dot_gpu_times7)"
   ]
  },
  {
   "cell_type": "markdown",
   "id": "49852915",
   "metadata": {},
   "source": [
    "# prod cpu/gpu"
   ]
  },
  {
   "cell_type": "markdown",
   "id": "4613ed5f",
   "metadata": {},
   "source": [
    "**prod gpu (3x3)**"
   ]
  },
  {
   "cell_type": "code",
   "execution_count": 28,
   "id": "7dab286e",
   "metadata": {},
   "outputs": [
    {
     "name": "stdout",
     "output_type": "stream",
     "text": [
      "tensor([[ 3,  5,  0],\n",
      "        [10, 11,  0],\n",
      "        [ 0,  0,  0]], dtype=torch.int32)\n",
      "cuda\n",
      "execution_time_prod_cuda (3x3) 0.0036411285400390625\n",
      "tensor([[ 3,  5,  0],\n",
      "        [10, 11,  0],\n",
      "        [ 0,  0,  0]], dtype=torch.int32)\n",
      "cuda\n",
      "execution_time_prod_cuda (3x3) 0.002621889114379883\n",
      "tensor([[ 3,  5,  0],\n",
      "        [10, 11,  0],\n",
      "        [ 0,  0,  0]], dtype=torch.int32)\n",
      "cuda\n",
      "execution_time_prod_cuda (3x3) 0.00262451171875\n",
      "tensor([[ 3,  5,  0],\n",
      "        [10, 11,  0],\n",
      "        [ 0,  0,  0]], dtype=torch.int32)\n",
      "cuda\n",
      "execution_time_prod_cuda (3x3) 0.002002239227294922\n",
      "tensor([[ 3,  5,  0],\n",
      "        [10, 11,  0],\n",
      "        [ 0,  0,  0]], dtype=torch.int32)\n",
      "cuda\n",
      "execution_time_prod_cuda (3x3) 0.002358675003051758\n",
      "Temps d'exécution moyen sur gpu: 0.0024018287658691406\n",
      "Temps d'exécution ecart sur gpu: 0.00025472941578941384\n"
     ]
    }
   ],
   "source": [
    "platform=\"jetson\"\n",
    "prod_gpu3=[]\n",
    "for i in range(5):\n",
    "  start_time_prod_cuda3 = time.time()\n",
    "  if torch.cuda.is_available():\n",
    "    device = torch.device(\"cuda\")\n",
    "    print(prod_cpu(m1_3,m2_3,3,3,platform))\n",
    "  print(device)\n",
    "  end_time_prod_cuda3 = time.time()\n",
    "  execution_time_prod_cuda3 = end_time_prod_cuda3 - start_time_prod_cuda3\n",
    "  if i !=0:\n",
    "    prod_gpu3.append(execution_time_prod_cuda3)\n",
    "  print(\"execution_time_prod_cuda (3x3)\",execution_time_prod_cuda3)\n",
    "\n",
    "# Imprime les temps d'exécution moyens sur gpu\n",
    "if len(prod_gpu3) > 0:\n",
    "    moyenne_prod_gpu_times3=np.mean(prod_gpu3)\n",
    "    print(\"Temps d'exécution moyen sur gpu:\", moyenne_prod_gpu_times3)\n",
    "    ecart_type_prod_gpu_times3 = np.std(prod_gpu3)\n",
    "    print(\"Temps d'exécution ecart sur gpu:\", ecart_type_prod_gpu_times3)"
   ]
  },
  {
   "cell_type": "markdown",
   "id": "cf680af0",
   "metadata": {},
   "source": [
    "**prod gpu (5x5)**"
   ]
  },
  {
   "cell_type": "code",
   "execution_count": 29,
   "id": "7de8e8c6",
   "metadata": {},
   "outputs": [
    {
     "name": "stdout",
     "output_type": "stream",
     "text": [
      "tensor([[15, 11, 16, 28,  0],\n",
      "        [ 8, 12,  6, 11,  0],\n",
      "        [10, 22, 11,  7,  0],\n",
      "        [17, 18,  9, 19,  0],\n",
      "        [ 0,  0,  0,  0,  0]], dtype=torch.int32)\n",
      "cuda\n",
      "execution_time_prod_cuda (5x5) 0.007015705108642578\n",
      "tensor([[15, 11, 16, 28,  0],\n",
      "        [ 8, 12,  6, 11,  0],\n",
      "        [10, 22, 11,  7,  0],\n",
      "        [17, 18,  9, 19,  0],\n",
      "        [ 0,  0,  0,  0,  0]], dtype=torch.int32)\n",
      "cuda\n",
      "execution_time_prod_cuda (5x5) 0.004277944564819336\n",
      "tensor([[15, 11, 16, 28,  0],\n",
      "        [ 8, 12,  6, 11,  0],\n",
      "        [10, 22, 11,  7,  0],\n",
      "        [17, 18,  9, 19,  0],\n",
      "        [ 0,  0,  0,  0,  0]], dtype=torch.int32)\n",
      "cuda\n",
      "execution_time_prod_cuda (5x5) 0.0065250396728515625\n",
      "tensor([[15, 11, 16, 28,  0],\n",
      "        [ 8, 12,  6, 11,  0],\n",
      "        [10, 22, 11,  7,  0],\n",
      "        [17, 18,  9, 19,  0],\n",
      "        [ 0,  0,  0,  0,  0]], dtype=torch.int32)\n",
      "cuda\n",
      "execution_time_prod_cuda (5x5) 0.006576061248779297\n",
      "tensor([[15, 11, 16, 28,  0],\n",
      "        [ 8, 12,  6, 11,  0],\n",
      "        [10, 22, 11,  7,  0],\n",
      "        [17, 18,  9, 19,  0],\n",
      "        [ 0,  0,  0,  0,  0]], dtype=torch.int32)\n",
      "cuda\n",
      "execution_time_prod_cuda (5x5) 0.004691362380981445\n",
      "Temps d'exécution moyen sur gpu (5x5): 0.00551760196685791\n",
      "Temps d'exécution ecart sur gpu (5x5): 0.0010433945934594483\n"
     ]
    }
   ],
   "source": [
    "prod_gpu5=[]\n",
    "for i in range(5):\n",
    "  start_time_prod_cuda5 = time.time()\n",
    "  if torch.cuda.is_available():\n",
    "    device = torch.device(\"cuda\")\n",
    "    print(prod_cpu(m1_5,m2_5,5,5,platform))\n",
    "  print(device)\n",
    "  end_time_prod_cuda5 = time.time()\n",
    "  execution_time_prod_cuda5 = end_time_prod_cuda5 - start_time_prod_cuda5\n",
    "  if i !=0:\n",
    "    prod_gpu5.append(execution_time_prod_cuda5)\n",
    "  print(\"execution_time_prod_cuda (5x5)\",execution_time_prod_cuda5)\n",
    "\n",
    "# Imprime les temps d'exécution moyens sur gpu\n",
    "if len(prod_gpu5) > 0:\n",
    "    moyenne_prod_gpu_times5=np.mean(prod_gpu5)\n",
    "    print(\"Temps d'exécution moyen sur gpu (5x5):\", moyenne_prod_gpu_times5)\n",
    "    ecart_type_prod_gpu_times5 = np.std(prod_gpu5)\n",
    "    print(\"Temps d'exécution ecart sur gpu (5x5):\", ecart_type_prod_gpu_times5)"
   ]
  },
  {
   "cell_type": "markdown",
   "id": "ed762cdc",
   "metadata": {},
   "source": [
    "**prod gpu (7x7)**"
   ]
  },
  {
   "cell_type": "code",
   "execution_count": 30,
   "id": "2e94811b",
   "metadata": {},
   "outputs": [
    {
     "name": "stdout",
     "output_type": "stream",
     "text": [
      "tensor([[16,  7,  7,  7,  5,  5,  0],\n",
      "        [ 7, 13,  2,  5,  5, 10,  0],\n",
      "        [ 5,  6, 14, 19, 20, 14,  0],\n",
      "        [ 7,  5, 10, 16, 16, 14,  0],\n",
      "        [ 8,  8, 10,  5,  5,  7,  0],\n",
      "        [15, 12,  8,  6, 11, 12,  0],\n",
      "        [ 0,  0,  0,  0,  0,  0,  0]], dtype=torch.int32)\n",
      "cuda\n",
      "execution_time_prod_cuda (7x7) 0.010145187377929688\n",
      "tensor([[16,  7,  7,  7,  5,  5,  0],\n",
      "        [ 7, 13,  2,  5,  5, 10,  0],\n",
      "        [ 5,  6, 14, 19, 20, 14,  0],\n",
      "        [ 7,  5, 10, 16, 16, 14,  0],\n",
      "        [ 8,  8, 10,  5,  5,  7,  0],\n",
      "        [15, 12,  8,  6, 11, 12,  0],\n",
      "        [ 0,  0,  0,  0,  0,  0,  0]], dtype=torch.int32)\n",
      "cuda\n",
      "execution_time_prod_cuda (7x7) 0.008875131607055664\n",
      "tensor([[16,  7,  7,  7,  5,  5,  0],\n",
      "        [ 7, 13,  2,  5,  5, 10,  0],\n",
      "        [ 5,  6, 14, 19, 20, 14,  0],\n",
      "        [ 7,  5, 10, 16, 16, 14,  0],\n",
      "        [ 8,  8, 10,  5,  5,  7,  0],\n",
      "        [15, 12,  8,  6, 11, 12,  0],\n",
      "        [ 0,  0,  0,  0,  0,  0,  0]], dtype=torch.int32)\n",
      "cuda\n",
      "execution_time_prod_cuda (7x7) 0.009022235870361328\n",
      "tensor([[16,  7,  7,  7,  5,  5,  0],\n",
      "        [ 7, 13,  2,  5,  5, 10,  0],\n",
      "        [ 5,  6, 14, 19, 20, 14,  0],\n",
      "        [ 7,  5, 10, 16, 16, 14,  0],\n",
      "        [ 8,  8, 10,  5,  5,  7,  0],\n",
      "        [15, 12,  8,  6, 11, 12,  0],\n",
      "        [ 0,  0,  0,  0,  0,  0,  0]], dtype=torch.int32)\n",
      "cuda\n",
      "execution_time_prod_cuda (7x7) 0.007337093353271484\n",
      "tensor([[16,  7,  7,  7,  5,  5,  0],\n",
      "        [ 7, 13,  2,  5,  5, 10,  0],\n",
      "        [ 5,  6, 14, 19, 20, 14,  0],\n",
      "        [ 7,  5, 10, 16, 16, 14,  0],\n",
      "        [ 8,  8, 10,  5,  5,  7,  0],\n",
      "        [15, 12,  8,  6, 11, 12,  0],\n",
      "        [ 0,  0,  0,  0,  0,  0,  0]], dtype=torch.int32)\n",
      "cuda\n",
      "execution_time_prod_cuda (7x7) 0.008132696151733398\n",
      "Temps d'exécution moyen sur gpu (7x7): 0.008341789245605469\n",
      "Temps d'exécution ecart sur gpu (7x7): 0.0006709313380735557\n"
     ]
    }
   ],
   "source": [
    "prod_gpu7=[]\n",
    "for i in range(5):\n",
    "  start_time_prod_cuda7 = time.time()\n",
    "  if torch.cuda.is_available():\n",
    "    device = torch.device(\"cuda\")\n",
    "    print(prod_cpu(m1_7,m2_7,7,7,platform))\n",
    "  print(device)\n",
    "  end_time_prod_cuda7 = time.time()\n",
    "  execution_time_prod_cuda7 = end_time_prod_cuda7 - start_time_prod_cuda7\n",
    "  if i !=0:\n",
    "    prod_gpu7.append(execution_time_prod_cuda7)\n",
    "  print(\"execution_time_prod_cuda (7x7)\",execution_time_prod_cuda7)\n",
    "\n",
    "# Imprime les temps d'exécution moyens sur gpu\n",
    "if len(prod_gpu7) > 0:\n",
    "    moyenne_prod_gpu_times7=np.mean(prod_gpu7)\n",
    "    print(\"Temps d'exécution moyen sur gpu (7x7):\", moyenne_prod_gpu_times7)\n",
    "    ecart_type_prod_gpu_times7 = np.std(prod_gpu7)\n",
    "    print(\"Temps d'exécution ecart sur gpu (7x7):\", ecart_type_prod_gpu_times7)"
   ]
  },
  {
   "cell_type": "markdown",
   "id": "71dc8bd6",
   "metadata": {},
   "source": [
    "**prod gpu (11x11)**"
   ]
  },
  {
   "cell_type": "code",
   "execution_count": 31,
   "id": "7ad3cdaf",
   "metadata": {},
   "outputs": [
    {
     "data": {
      "text/plain": [
       "'prod_gpu11=[]\\nfor i in range(5):\\n  start_time_prod_cuda11 = time.time()\\n  print(prod_cpu(m1_11,m2_11,11,11,platform))\\n  end_time_prod_cuda11 = time.time()\\n  execution_time_prod_cuda11 = end_time_prod_cuda11 - start_time_prod_cuda11\\n  if i !=0:\\n    prod_gpu11.append(execution_time_prod_cuda11)\\n  print(\"execution_time_prod_cuda (11x11)\",execution_time_prod_cuda11)\\n\\n# Imprime les temps d\\'exécution moyens sur gpu\\nif len(prod_gpu11) > 0:\\n    moyenne_prod_gpu_times11=sum(prod_gpu11) / len(prod_gpu11)\\n    print(\"Temps d\\'exécution moyen sur gpu (11x11):\", moyenne_prod_gpu_times11)\\n    ecart_type_prod_gpu_times11 = np.std(prod_gpu11)\\n    print(\"Temps d\\'exécution ecart sur gpu (11x11):\", ecart_type_prod_gpu_times11)'"
      ]
     },
     "execution_count": 31,
     "metadata": {},
     "output_type": "execute_result"
    }
   ],
   "source": [
    "\"\"\"prod_gpu11=[]\n",
    "for i in range(5):\n",
    "  start_time_prod_cuda11 = time.time()\n",
    "  print(prod_cpu(m1_11,m2_11,11,11,platform))\n",
    "  end_time_prod_cuda11 = time.time()\n",
    "  execution_time_prod_cuda11 = end_time_prod_cuda11 - start_time_prod_cuda11\n",
    "  if i !=0:\n",
    "    prod_gpu11.append(execution_time_prod_cuda11)\n",
    "  print(\"execution_time_prod_cuda (11x11)\",execution_time_prod_cuda11)\n",
    "\n",
    "# Imprime les temps d'exécution moyens sur gpu\n",
    "if len(prod_gpu11) > 0:\n",
    "    moyenne_prod_gpu_times11=sum(prod_gpu11) / len(prod_gpu11)\n",
    "    print(\"Temps d'exécution moyen sur gpu (11x11):\", moyenne_prod_gpu_times11)\n",
    "    ecart_type_prod_gpu_times11 = np.std(prod_gpu11)\n",
    "    print(\"Temps d'exécution ecart sur gpu (11x11):\", ecart_type_prod_gpu_times11)\"\"\""
   ]
  },
  {
   "cell_type": "markdown",
   "id": "9130f24f",
   "metadata": {},
   "source": [
    "**prod cpu (3x3)**"
   ]
  },
  {
   "cell_type": "code",
   "execution_count": 32,
   "id": "02e6e0a6",
   "metadata": {},
   "outputs": [
    {
     "name": "stdout",
     "output_type": "stream",
     "text": [
      "tensor([[ 3,  5,  0],\n",
      "        [10, 11,  0],\n",
      "        [ 0,  0,  0]], dtype=torch.int32)\n",
      "cpu\n",
      "execution_time_prod_cpu3 (3x3) 0.004241943359375\n",
      "tensor([[ 3,  5,  0],\n",
      "        [10, 11,  0],\n",
      "        [ 0,  0,  0]], dtype=torch.int32)\n",
      "cpu\n",
      "execution_time_prod_cpu3 (3x3) 0.0029897689819335938\n",
      "tensor([[ 3,  5,  0],\n",
      "        [10, 11,  0],\n",
      "        [ 0,  0,  0]], dtype=torch.int32)\n",
      "cpu\n",
      "execution_time_prod_cpu3 (3x3) 0.003031015396118164\n",
      "tensor([[ 3,  5,  0],\n",
      "        [10, 11,  0],\n",
      "        [ 0,  0,  0]], dtype=torch.int32)\n",
      "cpu\n",
      "execution_time_prod_cpu3 (3x3) 0.0024220943450927734\n",
      "tensor([[ 3,  5,  0],\n",
      "        [10, 11,  0],\n",
      "        [ 0,  0,  0]], dtype=torch.int32)\n",
      "cpu\n",
      "execution_time_prod_cpu3 (3x3) 0.002152681350708008\n",
      "Temps d'exécution moyen sur cpu (3x3): 0.0026488900184631348\n",
      "Temps d'exécution ecart sur cpu (3x3): 0.0003741248425992074\n"
     ]
    }
   ],
   "source": [
    "prodd_cpu3=[]\n",
    "for i in range(5):\n",
    "  start_time_prod_cpu3 = time.time()\n",
    "  if torch.cuda.is_available():\n",
    "    device = torch.device(\"cpu\")\n",
    "    print(prod_cpu(m1_3,m2_3,3,3,platform))\n",
    "  print(device)\n",
    "  end_time_prod_cpu3 = time.time()\n",
    "  execution_time_prod_cpu3 = end_time_prod_cpu3 - start_time_prod_cpu3\n",
    "  if i !=0:\n",
    "    prodd_cpu3.append(execution_time_prod_cpu3)\n",
    "  print(\"execution_time_prod_cpu3 (3x3)\",execution_time_prod_cpu3)\n",
    "\n",
    "# Imprime les temps d'exécution moyens sur cpu\n",
    "if len(prodd_cpu3) > 0:\n",
    "    moyenne_prod_cpu_times3=np.mean(prodd_cpu3)\n",
    "    print(\"Temps d'exécution moyen sur cpu (3x3):\", moyenne_prod_cpu_times3)\n",
    "    ecart_type_prod_cpu_times3 = np.std(prodd_cpu3)\n",
    "    print(\"Temps d'exécution ecart sur cpu (3x3):\", ecart_type_prod_cpu_times3)"
   ]
  },
  {
   "cell_type": "markdown",
   "id": "995fbbf2",
   "metadata": {},
   "source": [
    "**prod cpu (5x5)**"
   ]
  },
  {
   "cell_type": "code",
   "execution_count": 33,
   "id": "ab8f8dd9",
   "metadata": {},
   "outputs": [
    {
     "name": "stdout",
     "output_type": "stream",
     "text": [
      "tensor([[15, 11, 16, 28,  0],\n",
      "        [ 8, 12,  6, 11,  0],\n",
      "        [10, 22, 11,  7,  0],\n",
      "        [17, 18,  9, 19,  0],\n",
      "        [ 0,  0,  0,  0,  0]], dtype=torch.int32)\n",
      "cpu\n",
      "execution_time_prod_cpu (5x5) 0.006667613983154297\n",
      "tensor([[15, 11, 16, 28,  0],\n",
      "        [ 8, 12,  6, 11,  0],\n",
      "        [10, 22, 11,  7,  0],\n",
      "        [17, 18,  9, 19,  0],\n",
      "        [ 0,  0,  0,  0,  0]], dtype=torch.int32)\n",
      "cpu\n",
      "execution_time_prod_cpu (5x5) 0.0071866512298583984\n",
      "tensor([[15, 11, 16, 28,  0],\n",
      "        [ 8, 12,  6, 11,  0],\n",
      "        [10, 22, 11,  7,  0],\n",
      "        [17, 18,  9, 19,  0],\n",
      "        [ 0,  0,  0,  0,  0]], dtype=torch.int32)\n",
      "cpu\n",
      "execution_time_prod_cpu (5x5) 0.0043370723724365234\n",
      "tensor([[15, 11, 16, 28,  0],\n",
      "        [ 8, 12,  6, 11,  0],\n",
      "        [10, 22, 11,  7,  0],\n",
      "        [17, 18,  9, 19,  0],\n",
      "        [ 0,  0,  0,  0,  0]], dtype=torch.int32)\n",
      "cpu\n",
      "execution_time_prod_cpu (5x5) 0.004070758819580078\n",
      "tensor([[15, 11, 16, 28,  0],\n",
      "        [ 8, 12,  6, 11,  0],\n",
      "        [10, 22, 11,  7,  0],\n",
      "        [17, 18,  9, 19,  0],\n",
      "        [ 0,  0,  0,  0,  0]], dtype=torch.int32)\n",
      "cpu\n",
      "execution_time_prod_cpu (5x5) 0.004155158996582031\n",
      "Temps d'exécution moyen sur cpu (5x5): 0.004937410354614258\n",
      "Temps d'exécution ecart sur cpu (5x5): 0.0013021609230462478\n"
     ]
    }
   ],
   "source": [
    "prodd_cpu5=[]\n",
    "for i in range(5):\n",
    "  start_time_prod_cpu5 = time.time()\n",
    "  if torch.cuda.is_available():\n",
    "    device = torch.device(\"cpu\")\n",
    "    print(prod_cpu(m1_5,m2_5,5,5,platform))\n",
    "  print(device)\n",
    "  end_time_prod_cpu5 = time.time()\n",
    "  execution_time_prod_cpu5 = end_time_prod_cpu5 - start_time_prod_cpu5\n",
    "  if i !=0:\n",
    "    prodd_cpu5.append(execution_time_prod_cpu5)\n",
    "  print(\"execution_time_prod_cpu (5x5)\",execution_time_prod_cpu5)\n",
    "\n",
    "# Imprime les temps d'exécution moyens sur cpu\n",
    "if len(prodd_cpu5) > 0:\n",
    "    moyenne_prod_cpu_times5=np.mean(prodd_cpu5)\n",
    "    print(\"Temps d'exécution moyen sur cpu (5x5):\", moyenne_prod_cpu_times5)\n",
    "    ecart_type_prod_cpu_times5 = np.std(prodd_cpu5)\n",
    "    print(\"Temps d'exécution ecart sur cpu (5x5):\", ecart_type_prod_cpu_times5)"
   ]
  },
  {
   "cell_type": "markdown",
   "id": "b28e4c08",
   "metadata": {},
   "source": [
    "**prod cpu (7x7)**"
   ]
  },
  {
   "cell_type": "code",
   "execution_count": 34,
   "id": "5a92a3e8",
   "metadata": {},
   "outputs": [
    {
     "name": "stdout",
     "output_type": "stream",
     "text": [
      "tensor([[16,  7,  7,  7,  5,  5,  0],\n",
      "        [ 7, 13,  2,  5,  5, 10,  0],\n",
      "        [ 5,  6, 14, 19, 20, 14,  0],\n",
      "        [ 7,  5, 10, 16, 16, 14,  0],\n",
      "        [ 8,  8, 10,  5,  5,  7,  0],\n",
      "        [15, 12,  8,  6, 11, 12,  0],\n",
      "        [ 0,  0,  0,  0,  0,  0,  0]], dtype=torch.int32)\n",
      "cpu\n",
      "execution_time_prod_cpu7 (7x7) 0.010678529739379883\n",
      "tensor([[16,  7,  7,  7,  5,  5,  0],\n",
      "        [ 7, 13,  2,  5,  5, 10,  0],\n",
      "        [ 5,  6, 14, 19, 20, 14,  0],\n",
      "        [ 7,  5, 10, 16, 16, 14,  0],\n",
      "        [ 8,  8, 10,  5,  5,  7,  0],\n",
      "        [15, 12,  8,  6, 11, 12,  0],\n",
      "        [ 0,  0,  0,  0,  0,  0,  0]], dtype=torch.int32)\n",
      "cpu\n",
      "execution_time_prod_cpu7 (7x7) 0.010944604873657227\n",
      "tensor([[16,  7,  7,  7,  5,  5,  0],\n",
      "        [ 7, 13,  2,  5,  5, 10,  0],\n",
      "        [ 5,  6, 14, 19, 20, 14,  0],\n",
      "        [ 7,  5, 10, 16, 16, 14,  0],\n",
      "        [ 8,  8, 10,  5,  5,  7,  0],\n",
      "        [15, 12,  8,  6, 11, 12,  0],\n",
      "        [ 0,  0,  0,  0,  0,  0,  0]], dtype=torch.int32)\n",
      "cpu\n",
      "execution_time_prod_cpu7 (7x7) 0.007399559020996094\n",
      "tensor([[16,  7,  7,  7,  5,  5,  0],\n",
      "        [ 7, 13,  2,  5,  5, 10,  0],\n",
      "        [ 5,  6, 14, 19, 20, 14,  0],\n",
      "        [ 7,  5, 10, 16, 16, 14,  0],\n",
      "        [ 8,  8, 10,  5,  5,  7,  0],\n",
      "        [15, 12,  8,  6, 11, 12,  0],\n",
      "        [ 0,  0,  0,  0,  0,  0,  0]], dtype=torch.int32)\n",
      "cpu\n",
      "execution_time_prod_cpu7 (7x7) 0.00930643081665039\n",
      "tensor([[16,  7,  7,  7,  5,  5,  0],\n",
      "        [ 7, 13,  2,  5,  5, 10,  0],\n",
      "        [ 5,  6, 14, 19, 20, 14,  0],\n",
      "        [ 7,  5, 10, 16, 16, 14,  0],\n",
      "        [ 8,  8, 10,  5,  5,  7,  0],\n",
      "        [15, 12,  8,  6, 11, 12,  0],\n",
      "        [ 0,  0,  0,  0,  0,  0,  0]], dtype=torch.int32)\n",
      "cpu\n",
      "execution_time_prod_cpu7 (7x7) 0.007896900177001953\n",
      "Temps d'exécution moyen sur cpu (7x7): 0.008886873722076416\n",
      "Temps d'exécution ecart sur cpu (7x7): 0.001378625972462291\n"
     ]
    }
   ],
   "source": [
    "prodd_cpu7=[]\n",
    "for i in range(5):\n",
    "  start_time_prod_cpu7 = time.time()\n",
    "  if torch.cuda.is_available():\n",
    "    device = torch.device(\"cpu\")\n",
    "    print(prod_cpu(m1_7,m2_7,7,7,platform))\n",
    "  print(device)\n",
    "  end_time_prod_cpu7 = time.time()\n",
    "  execution_time_prod_cpu7 = end_time_prod_cpu7 - start_time_prod_cpu7\n",
    "  if i !=0:\n",
    "    prodd_cpu7.append(execution_time_prod_cpu7)\n",
    "  print(\"execution_time_prod_cpu7 (7x7)\",execution_time_prod_cpu7)\n",
    "\n",
    "# Imprime les temps d'exécution moyens sur cpu\n",
    "if len(prodd_cpu7) > 0:\n",
    "    moyenne_prod_cpu_times7=np.mean(prodd_cpu7)\n",
    "    print(\"Temps d'exécution moyen sur cpu (7x7):\", moyenne_prod_cpu_times7)\n",
    "    ecart_type_prod_cpu_times7 = np.std(prodd_cpu7)\n",
    "    print(\"Temps d'exécution ecart sur cpu (7x7):\", ecart_type_prod_cpu_times7)"
   ]
  },
  {
   "cell_type": "markdown",
   "id": "2cd8a93a",
   "metadata": {},
   "source": [
    "**prod cpu (11x11)**"
   ]
  },
  {
   "cell_type": "code",
   "execution_count": 35,
   "id": "73a4cede",
   "metadata": {},
   "outputs": [
    {
     "data": {
      "text/plain": [
       "'prodd_cpu11=[]\\nfor i in range(5):\\n  start_time_prod_cpu11 = time.time()\\n  print(prod_cpu(m1_11c,m2_11c,11,11,platform))\\n  end_time_prod_cpu11 = time.time()\\n  execution_time_prod_cpu11 = end_time_prod_cpu11 - start_time_prod_cpu11\\n  if i !=0:\\n    prodd_cpu11.append(execution_time_prod_cpu11)\\n  print(\"execution_time_prod_cpu11 (11x11)\",execution_time_prod_cpu11)\\n\\n# Imprime les temps d\\'exécution moyens sur cpu\\nif len(prodd_cpu11) > 0:\\n    moyenne_prod_cpu_times11=sum(prodd_cpu11) / len(prodd_cpu11)\\n    print(\"Temps d\\'exécution moyen sur cpu (11x11):\", moyenne_prod_cpu_times11)\\n    ecart_type_prod_cpu_times11 = np.std(prodd_cpu11)\\n    print(\"Temps d\\'exécution ecart sur cpu (11x11):\", ecart_type_prod_cpu_times11)'"
      ]
     },
     "execution_count": 35,
     "metadata": {},
     "output_type": "execute_result"
    }
   ],
   "source": [
    "\"\"\"prodd_cpu11=[]\n",
    "for i in range(5):\n",
    "  start_time_prod_cpu11 = time.time()\n",
    "  print(prod_cpu(m1_11c,m2_11c,11,11,platform))\n",
    "  end_time_prod_cpu11 = time.time()\n",
    "  execution_time_prod_cpu11 = end_time_prod_cpu11 - start_time_prod_cpu11\n",
    "  if i !=0:\n",
    "    prodd_cpu11.append(execution_time_prod_cpu11)\n",
    "  print(\"execution_time_prod_cpu11 (11x11)\",execution_time_prod_cpu11)\n",
    "\n",
    "# Imprime les temps d'exécution moyens sur cpu\n",
    "if len(prodd_cpu11) > 0:\n",
    "    moyenne_prod_cpu_times11=sum(prodd_cpu11) / len(prodd_cpu11)\n",
    "    print(\"Temps d'exécution moyen sur cpu (11x11):\", moyenne_prod_cpu_times11)\n",
    "    ecart_type_prod_cpu_times11 = np.std(prodd_cpu11)\n",
    "    print(\"Temps d'exécution ecart sur cpu (11x11):\", ecart_type_prod_cpu_times11)\"\"\""
   ]
  },
  {
   "cell_type": "markdown",
   "id": "73cc5e72",
   "metadata": {},
   "source": [
    "## operation add (data viz)"
   ]
  },
  {
   "cell_type": "code",
   "execution_count": 36,
   "id": "04adca81",
   "metadata": {},
   "outputs": [],
   "source": [
    "dimension_matrice = ['3x3', '5x5', '7x7']\n",
    "mode_platform=[\"colab_cpu\",\"colab_gpu\",\"jetson_cpu\",\"jetson_gpu\"]\n",
    "x_pos = np.arange(len(dimension_matrice))\n",
    "moyenne_add_cpuj= [moyenne_add_cpu_times3, moyenne_add_cpu_times5,moyenne_add_cpu_times7]\n",
    "moyenne_add_gpuj= [moyenne_add_gpu_times5,moyenne_add_gpu_times5, moyenne_add_gpu_times7]\n",
    "\n",
    "ecartype_add_cpuj = [ecart_type_add_cpu_times3, ecart_type_add_cpu_times5,ecart_type_add_cpu_times7]\n",
    "ecartype_add_gpuj = [ecart_type_add_gpu_times3,ecart_type_add_gpu_times5, ecart_type_add_gpu_times7]"
   ]
  },
  {
   "cell_type": "code",
   "execution_count": 37,
   "id": "e0a97504",
   "metadata": {},
   "outputs": [
    {
     "data": {
      "image/png": "[encoded data removed]",
      "text/plain": [
       "<matplotlib.figure.Figure at 0x7f59b5f3c8>"
      ]
     },
     "metadata": {},
     "output_type": "display_data"
    }
   ],
   "source": [
    "%matplotlib inline\n",
    "import matplotlib.pyplot as plt\n",
    "\n",
    "# Largeur des barres\n",
    "bar_width = 0.15\n",
    "indices = range(len(dimension_matrice))\n",
    "\n",
    "fig, ax = plt.subplots()\n",
    "ax.bar(dimension_matrice, moyenne_add_cpuc, yerr=ecartype_add_cpuc, width=bar_width,align='center', alpha=0.2, ecolor='black', capsize=10,label=mode_platform[0])\n",
    "ax.bar([i + bar_width for i in indices], moyenne_add_gpuc, yerr=ecartype_add_gpuc,width=bar_width, align='center', alpha=0.5, ecolor='black', capsize=10,label=mode_platform[1])\n",
    "\n",
    "ax.bar([i + 2 * bar_width for i in indices], moyenne_add_cpuj, yerr=ecartype_add_cpuj,width=bar_width, align='center', alpha=0.5, ecolor='black', capsize=10,label=mode_platform[2])\n",
    "ax.bar([i + 3 * bar_width for i in indices], moyenne_add_gpuj, yerr=ecartype_add_gpuj,width=bar_width, align='center', alpha=0.5, ecolor='black', capsize=10,label=mode_platform[3])\n",
    "\n",
    "ax.set_ylabel(\"Temps d'exécution\")\n",
    "ax.set_xticks(x_pos)\n",
    "ax.set_xticklabels(dimension_matrice)\n",
    "ax.set_title(\"analyse statistique :temps d'exécution pour addition\")\n",
    "ax.yaxis.grid(True)\n",
    "ax.legend()\n",
    "# Save the figure and show\n",
    "plt.tight_layout()\n",
    "plt.savefig('bar_plot_add_bars.png')\n",
    "plt.show()"
   ]
  },
  {
   "cell_type": "markdown",
   "id": "6bf17635",
   "metadata": {},
   "source": [
    "## operation dot (data viz)"
   ]
  },
  {
   "cell_type": "code",
   "execution_count": 38,
   "id": "2ef18cb8",
   "metadata": {},
   "outputs": [],
   "source": [
    "from numpy.ma.core import dot\n",
    "moyenne_dot_cpuj= [moyenne_dot_cpu_times3, moyenne_dot_cpu_times5,moyenne_dot_cpu_times7]\n",
    "moyenne_dot_gpuj= [moyenne_dot_gpu_times5,moyenne_dot_gpu_times5, moyenne_dot_gpu_times7]\n",
    "\n",
    "ecartype_dot_cpuj = [ecart_type_dot_cpu_times3, ecart_type_dot_cpu_times5,ecart_type_dot_cpu_times7]\n",
    "ecartype_dot_gpuj = [ecart_type_dot_gpu_times3,ecart_type_dot_gpu_times5, ecart_type_dot_gpu_times7]"
   ]
  },
  {
   "cell_type": "code",
   "execution_count": 39,
   "id": "eb6a478a",
   "metadata": {},
   "outputs": [
    {
     "data": {
      "image/png": "[encoded data removed]",
      "text/plain": [
       "<matplotlib.figure.Figure at 0x7f59ab4d30>"
      ]
     },
     "metadata": {},
     "output_type": "display_data"
    }
   ],
   "source": [
    "%matplotlib inline\n",
    "import matplotlib.pyplot as plt\n",
    "\n",
    "# Largeur des barres\n",
    "bar_width = 0.15\n",
    "indices = range(len(dimension_matrice))\n",
    "\n",
    "fig, ax = plt.subplots()\n",
    "ax.bar(dimension_matrice, moyenne_dot_cpuc, yerr=ecartype_dot_cpuc, width=bar_width,align='center', alpha=0.2, ecolor='black', capsize=10,label=mode_platform[0])\n",
    "ax.bar([i + bar_width for i in indices], moyenne_dot_gpuc, yerr=ecartype_dot_gpuc,width=bar_width, align='center', alpha=0.5, ecolor='black', capsize=10,label=mode_platform[1])\n",
    "\n",
    "ax.bar([i + 2 * bar_width for i in indices], moyenne_dot_cpuj, yerr=ecartype_dot_cpuj,width=bar_width, align='center', alpha=0.5, ecolor='black', capsize=10,label=mode_platform[2])\n",
    "ax.bar([i + 3 * bar_width for i in indices], moyenne_dot_gpuj, yerr=ecartype_dot_gpuj,width=bar_width, align='center', alpha=0.5, ecolor='black', capsize=10,label=mode_platform[3])\n",
    "\n",
    "ax.set_ylabel(\"Temps d'exécution\")\n",
    "ax.set_xticks(x_pos)\n",
    "ax.set_xticklabels(dimension_matrice)\n",
    "ax.set_title(\"analyse statistique :temps d'exécution pour (dot product)\")\n",
    "ax.yaxis.grid(True)\n",
    "ax.legend()\n",
    "# Save the figure and show\n",
    "plt.tight_layout()\n",
    "plt.savefig('bar_plot_dot_bars.png')\n",
    "plt.show()"
   ]
  },
  {
   "cell_type": "markdown",
   "id": "940f3a04",
   "metadata": {},
   "source": [
    "## operation prod (data viz)"
   ]
  },
  {
   "cell_type": "code",
   "execution_count": 40,
   "id": "d4a43d70",
   "metadata": {},
   "outputs": [],
   "source": [
    "moyenne_prod_cpuj= [moyenne_prod_cpu_times3, moyenne_prod_cpu_times5,moyenne_prod_cpu_times7]\n",
    "moyenne_prod_gpuj= [moyenne_prod_gpu_times5,moyenne_prod_gpu_times5, moyenne_prod_gpu_times7]\n",
    "\n",
    "ecartype_prod_cpuj = [ecart_type_prod_cpu_times3, ecart_type_prod_cpu_times5,ecart_type_prod_cpu_times7]\n",
    "ecartype_prod_gpuj = [ecart_type_prod_gpu_times3,ecart_type_prod_gpu_times5, ecart_type_prod_gpu_times7]"
   ]
  },
  {
   "cell_type": "code",
   "execution_count": 41,
   "id": "cc92a5aa",
   "metadata": {},
   "outputs": [
    {
     "data": {
      "image/png": "[encoded data removed]",
      "text/plain": [
       "<matplotlib.figure.Figure at 0x7f0fca9e10>"
      ]
     },
     "metadata": {},
     "output_type": "display_data"
    }
   ],
   "source": [
    "%matplotlib inline\n",
    "import matplotlib.pyplot as plt\n",
    "\n",
    "# Largeur des barres\n",
    "bar_width = 0.15\n",
    "indices = range(len(dimension_matrice))\n",
    "\n",
    "fig, ax = plt.subplots()\n",
    "ax.bar(dimension_matrice, moyenne_prod_cpuc, yerr=ecartype_prod_cpuc, width=bar_width,align='center', alpha=0.2, ecolor='black', capsize=10,label=mode_platform[0])\n",
    "ax.bar([i + bar_width for i in indices], moyenne_prod_gpuc, yerr=ecartype_prod_gpuc,width=bar_width, align='center', alpha=0.5, ecolor='black', capsize=10,label=mode_platform[1])\n",
    "\n",
    "ax.bar([i + 2 * bar_width for i in indices], moyenne_prod_cpuj, yerr=ecartype_prod_cpuj,width=bar_width, align='center', alpha=0.5, ecolor='black', capsize=10,label=mode_platform[2])\n",
    "ax.bar([i + 3 * bar_width for i in indices], moyenne_prod_gpuj, yerr=ecartype_prod_gpuj,width=bar_width, align='center', alpha=0.5, ecolor='black', capsize=10,label=mode_platform[3])\n",
    "\n",
    "ax.set_ylabel(\"Temps d'exécution\")\n",
    "ax.set_xticks(x_pos)\n",
    "ax.set_xticklabels(dimension_matrice)\n",
    "ax.set_title(\"analyse statistique :temps d'exécution pour (prod product)\")\n",
    "ax.yaxis.grid(True)\n",
    "ax.legend()\n",
    "# Save the figure and show\n",
    "plt.tight_layout()\n",
    "plt.savefig('bar_plot_prod_bars.png')\n",
    "plt.show()"
   ]
  },
  {
   "cell_type": "code",
   "execution_count": null,
   "id": "da77e0c5",
   "metadata": {},
   "outputs": [],
   "source": []
  }
 ],
 "metadata": {
  "kernelspec": {
   "display_name": "Python 3 (ipykernel)",
   "language": "python",
   "name": "python3"
  },
  "language_info": {
   "codemirror_mode": {
    "name": "ipython",
    "version": 3
   },
   "file_extension": ".py",
   "mimetype": "text/x-python",
   "name": "python",
   "nbconvert_exporter": "python",
   "pygments_lexer": "ipython3",
   "version": "3.10.9"
  }
 },
 "nbformat": 4,
 "nbformat_minor": 5
}
