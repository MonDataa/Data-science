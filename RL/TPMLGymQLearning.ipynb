{
  "cells": [
    {
      "cell_type": "markdown",
      "metadata": {
        "id": "RL53sYwPvNaV"
      },
      "source": [
        "<a href=\"https://colab.research.google.com/github/EmmanuelADAM/IntelligenceArtificiellePython/blob/master/TPMLGymQLearning.ipynb\" target=\"_parent\"><img src=\"https://colab.research.google.com/assets/colab-badge.svg\" alt=\"Open In Colab\"/></a>"
      ]
    },
    {
      "cell_type": "markdown",
      "metadata": {
        "id": "LuOjIoNBvNal"
      },
      "source": [
        "# Machine Learning\n",
        "## Appliqué à [Gym.OpenAI](https://gym.openai.com)"
      ]
    },
    {
      "cell_type": "markdown",
      "metadata": {
        "id": "ugtAU2EwvNan"
      },
      "source": [
        "---\n",
        "## Présentation de Gym\n",
        "\n",
        "Voir la page d'introduction à [Gym](https://gym.openai.com)."
      ]
    },
    {
      "cell_type": "markdown",
      "metadata": {
        "id": "TyZkWB3mvNap"
      },
      "source": [
        "### Installation de gym"
      ]
    },
    {
      "cell_type": "markdown",
      "metadata": {
        "id": "WpczGyr2vNar"
      },
      "source": [
        "#### Outil AUTRE QUE COLAB (pyzo, jupyter lab, .....)"
      ]
    },
    {
      "cell_type": "code",
      "execution_count": null,
      "metadata": {
        "colab": {
          "base_uri": "https://localhost:8080/"
        },
        "id": "AKnxO2hhvNat",
        "outputId": "bfbc9176-fe0c-4d63-84ce-8687144ea033"
      },
      "outputs": [
        {
          "name": "stdout",
          "output_type": "stream",
          "text": [
            "Collecting gymnasium\n",
            "  Downloading gymnasium-0.29.1-py3-none-any.whl (953 kB)\n",
            "\u001b[?25l     \u001b[90m━━━━━━━━━━━━━━━━━━━━━━━━━━━━━━━━━━━━━━━━\u001b[0m \u001b[32m0.0/953.9 kB\u001b[0m \u001b[31m?\u001b[0m eta \u001b[36m-:--:--\u001b[0m\r\u001b[2K     \u001b[91m━━━━━━━━━━━━━━━\u001b[0m\u001b[90m╺\u001b[0m\u001b[90m━━━━━━━━━━━━━━━━━━━━━━━━\u001b[0m \u001b[32m368.6/953.9 kB\u001b[0m \u001b[31m11.0 MB/s\u001b[0m eta \u001b[36m0:00:01\u001b[0m\r\u001b[2K     \u001b[90m━━━━━━━━━━━━━━━━━━━━━━━━━━━━━━━━━━━━━━━━\u001b[0m \u001b[32m953.9/953.9 kB\u001b[0m \u001b[31m13.8 MB/s\u001b[0m eta \u001b[36m0:00:00\u001b[0m\n",
            "\u001b[?25hRequirement already satisfied: numpy>=1.21.0 in /usr/local/lib/python3.10/dist-packages (from gymnasium) (1.23.5)\n",
            "Requirement already satisfied: cloudpickle>=1.2.0 in /usr/local/lib/python3.10/dist-packages (from gymnasium) (2.2.1)\n",
            "Requirement already satisfied: typing-extensions>=4.3.0 in /usr/local/lib/python3.10/dist-packages (from gymnasium) (4.5.0)\n",
            "Collecting farama-notifications>=0.0.1 (from gymnasium)\n",
            "  Downloading Farama_Notifications-0.0.4-py3-none-any.whl (2.5 kB)\n",
            "Installing collected packages: farama-notifications, gymnasium\n",
            "Successfully installed farama-notifications-0.0.4 gymnasium-0.29.1\n"
          ]
        }
      ],
      "source": [
        "!pip install gymnasium"
      ]
    },
    {
      "cell_type": "code",
      "execution_count": null,
      "metadata": {
        "id": "xUrEN5GFvNax"
      },
      "outputs": [],
      "source": [
        "import gymnasium as gym"
      ]
    },
    {
      "cell_type": "markdown",
      "metadata": {
        "id": "L7_8HiUevNay"
      },
      "source": [
        "---\n",
        "- Utiliser l'environnement `FrozenLake en mode 8x8 en mode texte` (un labyrinthe)\n",
        "  - il est possible d'utiliser cet environnement en mode 'slipery', alors appliquer une *action n'est pas déterministe !*\n",
        "    - à partir d'une case \"gelée\", aller à droite peut .. mener à droite, ou en haut ou en bas....\n",
        "    - => intérêt du Q-Learning adapté à ce type d'environnement probabiliste\n",
        "- Le labyrinthe est ainsi composé de zones glacées, de puits, et d'un objectif contenant une récompense\n",
        "\n",
        "\n",
        "**N.B.**\n",
        "  - *Cet environnement fonctionne bien sous colab, jupyterlab.. quelques soucis de l'affichage de l'état courant (carré rouge) sous Pyzo....*\n",
        "  - Il est fortement conseillé de débuter avec un environnement déterministe pour évaluer la bonne marche de l'algo de Q-Learning que vous aurez développer.."
      ]
    },
    {
      "cell_type": "markdown",
      "metadata": {
        "id": "KNDR5BI2vNa0"
      },
      "source": [
        "---\n",
        "#### Etude de l'environnement"
      ]
    },
    {
      "cell_type": "code",
      "execution_count": null,
      "metadata": {
        "colab": {
          "base_uri": "https://localhost:8080/"
        },
        "id": "pLEWDemdvNa1",
        "outputId": "c3a5243d-6873-46ac-bea3-0192a9e5bc6b"
      },
      "outputs": [
        {
          "name": "stdout",
          "output_type": "stream",
          "text": [
            "EnvSpec(id='FrozenLake-v1', entry_point='gymnasium.envs.toy_text.frozen_lake:FrozenLakeEnv', reward_threshold=0.7, nondeterministic=False, max_episode_steps=100, order_enforce=True, autoreset=False, disable_env_checker=False, apply_api_compatibility=False, kwargs={'map_name': '8x8', 'is_slippery': True, 'render_mode': 'ansi'}, namespace=None, name='FrozenLake', version=1, additional_wrappers=(), vector_entry_point=None)\n",
            "Discrete(4)\n",
            "Discrete(64)\n",
            "\n",
            "\u001b[41mS\u001b[0mFFFFFFF\n",
            "FFFFFFFF\n",
            "FFFHFFFF\n",
            "FFFFFHFF\n",
            "FFFHFFFF\n",
            "FHHFFFHF\n",
            "FHFFHFHF\n",
            "FFFHFFFG\n",
            "\n",
            "S = Start, G = Goal, H = Hole, F = Frozen place\n"
          ]
        }
      ],
      "source": [
        "env = gym.make('FrozenLake-v1', map_name=\"8x8\", is_slippery=True, render_mode='ansi')\n",
        "# tester map_name=\"8x8\" pour l'environnement plus large\n",
        "print(env.spec)\n",
        "print(env.action_space) #ici 4 actions discrétisée\n",
        "print(env.observation_space) # ici 4x4 cellules possibles\n",
        "\n",
        "env.reset()\n",
        "print(env.render())\n",
        "print(\"S = Start, G = Goal, H = Hole, F = Frozen place\")"
      ]
    },
    {
      "cell_type": "markdown",
      "metadata": {
        "id": "rfldyLbdvNa5"
      },
      "source": [
        "---\n",
        "#### Test des actions\n",
        "\n",
        "En mode non déterministe, chaque action a 1 chance sur 3 de réussir..<br>\n",
        "*Exemple aller à droite mène 1/3 à droite, 1/3 en haut, 1/3 en bas.*"
      ]
    },
    {
      "cell_type": "code",
      "execution_count": null,
      "metadata": {
        "colab": {
          "base_uri": "https://localhost:8080/"
        },
        "id": "BZCk8I8ivNa6",
        "outputId": "94826840-17d0-42fa-fb57-beaf450368cd"
      },
      "outputs": [
        {
          "name": "stdout",
          "output_type": "stream",
          "text": [
            "  (Left)\n",
            "\u001b[41mS\u001b[0mFFFFFFF\n",
            "FFFFFFFF\n",
            "FFFHFFFF\n",
            "FFFFFHFF\n",
            "FFFHFFFF\n",
            "FHHFFFHF\n",
            "FHFFHFHF\n",
            "FFFHFFFG\n",
            "\n",
            "pos° actuelle: 0 ,gain: 0.0 ,fini: False , {'prob': 0.3333333333333333}\n"
          ]
        }
      ],
      "source": [
        "###### Test des fonctions\n",
        "env.reset()\n",
        "action = 0\n",
        "observation, reward, done, _, info = env.step(action)\n",
        "print(env.render())\n",
        "print(\"pos° actuelle:\", observation,\",gain:\", reward,\",fini:\", done,\",\", info)"
      ]
    },
    {
      "cell_type": "code",
      "execution_count": null,
      "metadata": {
        "colab": {
          "base_uri": "https://localhost:8080/"
        },
        "id": "vvo_upxYvNa7",
        "outputId": "002ec0af-e077-40de-97a2-e10d3e0354ce"
      },
      "outputs": [
        {
          "name": "stdout",
          "output_type": "stream",
          "text": [
            "  (Down)\n",
            "\u001b[41mS\u001b[0mFFFFFFF\n",
            "FFFFFFFF\n",
            "FFFHFFFF\n",
            "FFFFFHFF\n",
            "FFFHFFFF\n",
            "FHHFFFHF\n",
            "FHFFHFHF\n",
            "FFFHFFFG\n",
            "\n",
            "pos° actuelle: 0 ,gain: 0.0 ,fini: False , {'prob': 0.3333333333333333}\n"
          ]
        }
      ],
      "source": [
        "env.reset()\n",
        "action = 1\n",
        "observation, reward, done, _, info = env.step(action)\n",
        "print(env.render())\n",
        "print(\"pos° actuelle:\", observation,\",gain:\", reward,\",fini:\", done,\",\", info)"
      ]
    },
    {
      "cell_type": "code",
      "execution_count": null,
      "metadata": {
        "colab": {
          "base_uri": "https://localhost:8080/"
        },
        "id": "ZsL8_EGUvNa9",
        "outputId": "f81ab22a-d4bb-4c87-9f03-2bcfec4b0230"
      },
      "outputs": [
        {
          "name": "stdout",
          "output_type": "stream",
          "text": [
            "  (Right)\n",
            "\u001b[41mS\u001b[0mFFFFFFF\n",
            "FFFFFFFF\n",
            "FFFHFFFF\n",
            "FFFFFHFF\n",
            "FFFHFFFF\n",
            "FHHFFFHF\n",
            "FHFFHFHF\n",
            "FFFHFFFG\n",
            "\n",
            "pos° actuelle: 0 ,gain: 0.0 ,fini: False , {'prob': 0.3333333333333333}\n"
          ]
        }
      ],
      "source": [
        "env.reset()\n",
        "action = 2\n",
        "observation, reward, done, _, info = env.step(action)\n",
        "print(env.render())\n",
        "print(\"pos° actuelle:\", observation,\",gain:\", reward,\",fini:\", done,\",\", info)"
      ]
    },
    {
      "cell_type": "code",
      "execution_count": null,
      "metadata": {
        "colab": {
          "base_uri": "https://localhost:8080/"
        },
        "id": "nhK7fEYrvNa_",
        "outputId": "6af64153-b2c8-4a4f-fe3b-30adeb402144"
      },
      "outputs": [
        {
          "name": "stdout",
          "output_type": "stream",
          "text": [
            "  (Up)\n",
            "\u001b[41mS\u001b[0mFFFFFFF\n",
            "FFFFFFFF\n",
            "FFFHFFFF\n",
            "FFFFFHFF\n",
            "FFFHFFFF\n",
            "FHHFFFHF\n",
            "FHFFHFHF\n",
            "FFFHFFFG\n",
            "\n",
            "pos° actuelle: 0 ,gain: 0.0 ,fini: False , {'prob': 0.3333333333333333}\n"
          ]
        }
      ],
      "source": [
        "env.reset()\n",
        "action = 3\n",
        "observation, reward, done, _, info = env.step(action)\n",
        "print(env.render())\n",
        "print(\"pos° actuelle:\", observation,\",gain:\", reward,\",fini:\", done,\",\", info)"
      ]
    },
    {
      "cell_type": "code",
      "execution_count": null,
      "metadata": {
        "colab": {
          "base_uri": "https://localhost:8080/"
        },
        "id": "UbXModl80y5e",
        "outputId": "6bbc026e-e735-488d-8106-5f81400ea051"
      },
      "outputs": [
        {
          "data": {
            "text/plain": [
              "64"
            ]
          },
          "execution_count": 279,
          "metadata": {},
          "output_type": "execute_result"
        }
      ],
      "source": [
        "env.observation_space.n"
      ]
    },
    {
      "cell_type": "code",
      "execution_count": null,
      "metadata": {
        "colab": {
          "base_uri": "https://localhost:8080/"
        },
        "id": "hMIiRJpK09hD",
        "outputId": "2f6eff56-d410-42b7-abf4-fa474a607038"
      },
      "outputs": [
        {
          "data": {
            "text/plain": [
              "4"
            ]
          },
          "execution_count": 280,
          "metadata": {},
          "output_type": "execute_result"
        }
      ],
      "source": [
        "env.action_space.n"
      ]
    },
    {
      "cell_type": "code",
      "execution_count": null,
      "metadata": {
        "id": "oKy1KKK6vNbA"
      },
      "outputs": [],
      "source": [
        "#note :\n",
        "## observation = position où se trouve l'agent (no case(i,j) = i*largeur+j)\n",
        "## reward = recompense\n",
        "## done = but atteint\n",
        "## truncated = etat feuille (non utilise ici)\n",
        "## info = proba de reussite de l'action"
      ]
    },
    {
      "cell_type": "markdown",
      "metadata": {
        "id": "nEJ0KEHIvNbB"
      },
      "source": [
        "On est clairement ici dans un environnement non déterministe (une même action à partir d'un même état ne mène pas toujours au même résultat); c'est le contexte de prédilection de l'algo de Q-Learning..."
      ]
    },
    {
      "cell_type": "markdown",
      "metadata": {
        "id": "JygGQze6vNbB"
      },
      "source": [
        "---\n",
        "### <font color=\"red\">Mise en place de l'environnement en mode déterministe</font>\n",
        "Important, pour valider l'apprentissage de votre algorithme avant de passer en mode non-déterministe, il vaut mieux le tester sur un environnement où chaque action à 100% de réussite. Ci-dessous un exemple sur le mini labyrinthe."
      ]
    },
    {
      "cell_type": "code",
      "execution_count": null,
      "metadata": {
        "id": "bIs0DrB9vNbC"
      },
      "outputs": [],
      "source": [
        "#env = gym.make('FrozenLake-v1', map_name=\"8x8\", is_slippery=False, render_mode='ansi')\n",
        "env = gym.make('FrozenLake-v1', map_name=\"8x8\", is_slippery=False)"
      ]
    },
    {
      "cell_type": "code",
      "execution_count": null,
      "metadata": {
        "colab": {
          "base_uri": "https://localhost:8080/"
        },
        "id": "Vv6JbKievNbD",
        "outputId": "5ca19714-5fb1-4a86-e259-83cf343b9c12"
      },
      "outputs": [
        {
          "name": "stdout",
          "output_type": "stream",
          "text": [
            "  (Right)\n",
            "S\u001b[41mF\u001b[0mFFFFFF\n",
            "FFFFFFFF\n",
            "FFFHFFFF\n",
            "FFFFFHFF\n",
            "FFFHFFFF\n",
            "FHHFFFHF\n",
            "FHFFHFHF\n",
            "FFFHFFFG\n",
            "\n",
            "pos° actuelle: 1 ,gain: 0.0 ,fini: False , {'prob': 1.0}\n",
            "  (Right)\n",
            "SF\u001b[41mF\u001b[0mFFFFF\n",
            "FFFFFFFF\n",
            "FFFHFFFF\n",
            "FFFFFHFF\n",
            "FFFHFFFF\n",
            "FHHFFFHF\n",
            "FHFFHFHF\n",
            "FFFHFFFG\n",
            "\n",
            "pos° actuelle: 2 ,gain: 0.0 ,fini: False , {'prob': 1.0}\n",
            "  (Down)\n",
            "SFFFFFFF\n",
            "FF\u001b[41mF\u001b[0mFFFFF\n",
            "FFFHFFFF\n",
            "FFFFFHFF\n",
            "FFFHFFFF\n",
            "FHHFFFHF\n",
            "FHFFHFHF\n",
            "FFFHFFFG\n",
            "\n",
            "pos° actuelle: 10 ,gain: 0.0 ,fini: False , {'prob': 1.0}\n",
            "  (Down)\n",
            "SFFFFFFF\n",
            "FFFFFFFF\n",
            "FF\u001b[41mF\u001b[0mHFFFF\n",
            "FFFFFHFF\n",
            "FFFHFFFF\n",
            "FHHFFFHF\n",
            "FHFFHFHF\n",
            "FFFHFFFG\n",
            "\n",
            "pos° actuelle: 18 ,gain: 0.0 ,fini: False , {'prob': 1.0}\n",
            "  (Down)\n",
            "SFFFFFFF\n",
            "FFFFFFFF\n",
            "FFFHFFFF\n",
            "FF\u001b[41mF\u001b[0mFFHFF\n",
            "FFFHFFFF\n",
            "FHHFFFHF\n",
            "FHFFHFHF\n",
            "FFFHFFFG\n",
            "\n",
            "pos° actuelle: 26 ,gain: 0.0 ,fini: False , {'prob': 1.0}\n",
            "  (Right)\n",
            "SFFFFFFF\n",
            "FFFFFFFF\n",
            "FFFHFFFF\n",
            "FFF\u001b[41mF\u001b[0mFHFF\n",
            "FFFHFFFF\n",
            "FHHFFFHF\n",
            "FHFFHFHF\n",
            "FFFHFFFG\n",
            "\n",
            "pos° actuelle: 27 ,gain: 0.0 ,fini: False , {'prob': 1.0}\n"
          ]
        },
        {
          "name": "stderr",
          "output_type": "stream",
          "text": [
            "/usr/local/lib/python3.10/dist-packages/ipykernel/ipkernel.py:283: DeprecationWarning: `should_run_async` will not call `transform_cell` automatically in the future. Please pass the result to `transformed_cell` argument and any exception that happen during thetransform in `preprocessing_exc_tuple` in IPython 7.17 and above.\n",
            "  and should_run_async(code)\n",
            "/usr/local/lib/python3.10/dist-packages/gym/core.py:43: DeprecationWarning: \u001b[33mWARN: The argument mode in render method is deprecated; use render_mode during environment initialization instead.\n",
            "See here for more information: https://www.gymlibrary.ml/content/api/\u001b[0m\n",
            "  deprecation(\n"
          ]
        }
      ],
      "source": [
        "actions = [2,2,1,1,1,2]\n",
        "env.reset()\n",
        "for a in actions:\n",
        "    observation, reward, done, info = env.step(a)\n",
        "    print(env.render(mode='ansi'))\n",
        "    print(\"pos° actuelle:\", observation,\",gain:\", reward,\",fini:\", done,\",\", info)"
      ]
    },
    {
      "cell_type": "markdown",
      "metadata": {
        "id": "AFIoQQ_BvNbE"
      },
      "source": [
        "---\n",
        "***Aide Python : (plusieurs possibilités)***\n",
        "- Il n'est pas nécessaire de créer des classes Etat, ....\n",
        "- Il faut pouvoir stocker les récompenses de chaque actions à partir de chaque case\n",
        "  - a priori, la création d'une matrice 4x4 de 4 valeurs peut être utile.\n",
        "  Plus simplement, on utilisera un tableau de n cases (pour les n etats) contenant m valeurs d'actions\n",
        "  "
      ]
    },
    {
      "cell_type": "code",
      "execution_count": null,
      "metadata": {
        "colab": {
          "base_uri": "https://localhost:8080/"
        },
        "id": "nhLAbmpivNbE",
        "outputId": "5d2caa65-bb2c-4c56-ba3a-1116dad68dac"
      },
      "outputs": [
        {
          "name": "stdout",
          "output_type": "stream",
          "text": [
            "[[0. 0. 0. 0.]\n",
            " [0. 0. 0. 0.]\n",
            " [0. 0. 0. 0.]\n",
            " [0. 0. 0. 0.]\n",
            " [0. 0. 0. 0.]\n",
            " [0. 0. 0. 0.]\n",
            " [0. 0. 0. 0.]\n",
            " [0. 0. 0. 0.]\n",
            " [0. 0. 0. 0.]\n",
            " [0. 0. 0. 0.]\n",
            " [0. 0. 0. 0.]\n",
            " [0. 0. 0. 0.]\n",
            " [0. 0. 0. 0.]\n",
            " [0. 0. 0. 0.]\n",
            " [0. 0. 0. 0.]\n",
            " [0. 0. 0. 0.]\n",
            " [0. 0. 0. 0.]\n",
            " [0. 0. 0. 0.]\n",
            " [0. 0. 0. 0.]\n",
            " [0. 0. 0. 0.]\n",
            " [0. 0. 0. 0.]\n",
            " [0. 0. 0. 0.]\n",
            " [0. 0. 0. 0.]\n",
            " [0. 0. 0. 0.]\n",
            " [0. 0. 0. 0.]\n",
            " [0. 0. 0. 0.]\n",
            " [0. 0. 0. 0.]\n",
            " [0. 0. 0. 0.]\n",
            " [0. 0. 0. 0.]\n",
            " [0. 0. 0. 0.]\n",
            " [0. 0. 0. 0.]\n",
            " [0. 0. 0. 0.]\n",
            " [0. 0. 0. 0.]\n",
            " [0. 0. 0. 0.]\n",
            " [0. 0. 0. 0.]\n",
            " [0. 0. 0. 0.]\n",
            " [0. 0. 0. 0.]\n",
            " [0. 0. 0. 0.]\n",
            " [0. 0. 0. 0.]\n",
            " [0. 0. 0. 0.]\n",
            " [0. 0. 0. 0.]\n",
            " [0. 0. 0. 0.]\n",
            " [0. 0. 0. 0.]\n",
            " [0. 0. 0. 0.]\n",
            " [0. 0. 0. 0.]\n",
            " [0. 0. 0. 0.]\n",
            " [0. 0. 0. 0.]\n",
            " [0. 0. 0. 0.]\n",
            " [0. 0. 0. 0.]\n",
            " [0. 0. 0. 0.]\n",
            " [0. 0. 0. 0.]\n",
            " [0. 0. 0. 0.]\n",
            " [0. 0. 0. 0.]\n",
            " [0. 0. 0. 0.]\n",
            " [0. 0. 0. 0.]\n",
            " [0. 0. 0. 0.]\n",
            " [0. 0. 0. 0.]\n",
            " [0. 0. 0. 0.]\n",
            " [0. 0. 0. 0.]\n",
            " [0. 0. 0. 0.]\n",
            " [0. 0. 0. 0.]\n",
            " [0. 0. 0. 0.]\n",
            " [0. 0. 0. 0.]\n",
            " [0. 0. 0. 0.]]\n"
          ]
        }
      ],
      "source": [
        "import numpy as np\n",
        "# cree un tableau de n cases x m actions\n",
        "q_actions = np.zeros((env.observation_space.n, env.action_space.n), np.float32)\n",
        "print(q_actions)"
      ]
    },
    {
      "cell_type": "markdown",
      "metadata": {
        "id": "AlHIJW8_vNbF"
      },
      "source": [
        "*Recherche du max et de sa position*\n",
        "\n",
        "Reprenons la derniere modélisation sous forme de tableau de 4 valeurs."
      ]
    },
    {
      "cell_type": "code",
      "execution_count": null,
      "metadata": {
        "colab": {
          "base_uri": "https://localhost:8080/"
        },
        "id": "NXFmMA_kvNbF",
        "outputId": "c66c185b-573b-4c22-a3f4-9e4a83a3c7a3"
      },
      "outputs": [
        {
          "name": "stdout",
          "output_type": "stream",
          "text": [
            "[[0.69115084 0.51442959 0.47866507 0.54892589]\n",
            " [0.0286918  0.29454903 0.78172127 0.41935362]\n",
            " [0.70693679 0.74389921 0.18763399 0.44694909]\n",
            " [0.47753321 0.51464229 0.73720244 0.93860758]\n",
            " [0.19226942 0.20727305 0.46042321 0.7032247 ]\n",
            " [0.28243358 0.62776639 0.19293299 0.92773199]\n",
            " [0.29364698 0.30415547 0.00124631 0.49444144]\n",
            " [0.28168183 0.31089985 0.74091096 0.09144758]\n",
            " [0.81924084 0.0711232  0.9299047  0.16040526]\n",
            " [0.13336345 0.69120743 0.94724785 0.98853859]\n",
            " [0.08223202 0.27532671 0.74607748 0.61631451]\n",
            " [0.68451817 0.16456981 0.27607034 0.26107573]\n",
            " [0.87098905 0.95816805 0.67550213 0.12067768]\n",
            " [0.8465684  0.99512489 0.48074086 0.73988538]\n",
            " [0.39239715 0.31786533 0.95024552 0.02397693]\n",
            " [0.87809095 0.04935643 0.02502925 0.46299073]\n",
            " [0.050098   0.87971251 0.61126169 0.69206642]\n",
            " [0.07095557 0.98086019 0.81225285 0.9223858 ]\n",
            " [0.06447826 0.55639838 0.57148228 0.9910494 ]\n",
            " [0.98003896 0.1440267  0.15594991 0.2822954 ]\n",
            " [0.29658531 0.48710139 0.72917539 0.73674482]\n",
            " [0.16228368 0.9748102  0.93974918 0.56569268]\n",
            " [0.99209128 0.53932598 0.38629418 0.91580879]\n",
            " [0.39112956 0.22984694 0.4049482  0.48998609]\n",
            " [0.81346347 0.50398002 0.56713489 0.96196236]\n",
            " [0.12914941 0.91837567 0.29057593 0.1517304 ]\n",
            " [0.86753295 0.00844449 0.89099853 0.85487026]\n",
            " [0.16093903 0.59963981 0.44230353 0.10736911]\n",
            " [0.75806421 0.99386938 0.79724787 0.96328908]\n",
            " [0.74849694 0.27818361 0.83393167 0.16248484]\n",
            " [0.25760326 0.8380298  0.02249444 0.19245485]\n",
            " [0.05609942 0.84612394 0.44918053 0.61231572]\n",
            " [0.00576038 0.64483554 0.90923177 0.99327106]\n",
            " [0.34248026 0.45432934 0.77895419 0.23761247]\n",
            " [0.37190348 0.67142306 0.10226173 0.12571372]\n",
            " [0.38189491 0.63796104 0.92257302 0.38878875]\n",
            " [0.16696078 0.10750548 0.59469094 0.88691424]\n",
            " [0.23898268 0.25666387 0.30587839 0.65613156]\n",
            " [0.33491369 0.07924278 0.51215589 0.11598737]\n",
            " [0.77256353 0.43881768 0.73806879 0.93567907]\n",
            " [0.5121414  0.13686665 0.05003006 0.73607223]\n",
            " [0.55959136 0.18262901 0.45806919 0.85274776]\n",
            " [0.95351445 0.20149218 0.58463533 0.28361371]\n",
            " [0.44013676 0.24172991 0.21701597 0.88043426]\n",
            " [0.27374676 0.27860132 0.81035062 0.26563718]\n",
            " [0.76178849 0.83266675 0.22191762 0.50761132]\n",
            " [0.8227512  0.25784889 0.33546868 0.90997598]\n",
            " [0.66326562 0.74589322 0.63879592 0.08689293]\n",
            " [0.0619899  0.72436508 0.27053113 0.25092909]\n",
            " [0.38320198 0.08679074 0.86632409 0.1760937 ]\n",
            " [0.24201999 0.15125193 0.38069502 0.58425896]\n",
            " [0.14521029 0.97709717 0.12987042 0.12347329]\n",
            " [0.42891108 0.7989024  0.20061185 0.59647561]\n",
            " [0.33060216 0.82072678 0.91062561 0.19292736]\n",
            " [0.33250478 0.52940993 0.02440125 0.19599336]\n",
            " [0.58539231 0.39111865 0.96183919 0.64619527]\n",
            " [0.76068405 0.35500709 0.994909   0.05460286]\n",
            " [0.04404591 0.53392844 0.99888318 0.38796627]\n",
            " [0.13571947 0.10772137 0.3446037  0.68074457]\n",
            " [0.71789266 0.09670264 0.37373032 0.48906536]\n",
            " [0.95039614 0.48552356 0.63984611 0.36801008]\n",
            " [0.35886812 0.7828664  0.45535173 0.52369369]\n",
            " [0.51329132 0.08196922 0.73595575 0.71796288]\n",
            " [0.59985685 0.13807903 0.98598383 0.59029733]]\n"
          ]
        }
      ],
      "source": [
        "#Exemple de recherche..\n",
        "#1. ici pour l'exemple, on place des valeurs aléatoires pour les actions\n",
        "Q = np.random.random((env.observation_space.n, env.action_space.n))\n",
        "print(Q)"
      ]
    },
    {
      "cell_type": "code",
      "execution_count": null,
      "metadata": {
        "colab": {
          "base_uri": "https://localhost:8080/"
        },
        "id": "28b3ZEBEvNbG",
        "outputId": "c9bbab27-d7f0-4d29-a231-984e5ca25fd5"
      },
      "outputs": [
        {
          "name": "stdout",
          "output_type": "stream",
          "text": [
            "case 2, max= 0.7438992120728162 , en position  1\n",
            "la meilleure action de l'etat 2 serait donc  1\n"
          ]
        }
      ],
      "source": [
        "#max de la case 2\n",
        "max_2 = np.max(Q[2, :])\n",
        "position_max_2 = np.argmax(Q[2,:])\n",
        "print(\"case 2, max=\",max_2, \", en position \", position_max_2)\n",
        "print(\"la meilleure action de l'etat 2 serait donc \", position_max_2)"
      ]
    },
    {
      "cell_type": "markdown",
      "metadata": {
        "id": "36v_ujCUvNbH"
      },
      "source": [
        "  -----\n",
        "# Développer la solution en Q-Learning\n",
        "\n",
        "Pour rappel, l'algorithme de Q-Learning est le suivant :\n",
        "\n",
        "- Initialiser la table des poids des arcs :\n",
        "  - $\\forall s \\forall a Q(s,a) \\gets 0$\n",
        "- Pour n boucles d'apprentissage\n",
        "  - $\\lambda \\gets 1 ; \\epsilon \\gets 1 ;$\n",
        "  - $etat Courant \\gets  etat initial$\n",
        "  - Pour n' itérations ( n' = nombre max supposé d'actions pour atteindre l'objectif)\n",
        "    - $s \\gets  etat Courant$\n",
        "    - $nb \\gets random(0,1)$\n",
        "    - Si $nb < \\epsilon$ Alors\n",
        "      - Choisir aléatoirement une action a\n",
        "    - Sinon\n",
        "      - Choisir action la plus intéressante : $a \\gets argMax_{a'}(Q(s,a'))$\n",
        "    - Fin Si\n",
        "    - Effectuer action a :\n",
        "    - $s' \\gets  nouvel Etat Courant$\n",
        "    - calculer $Q(s,a) \\gets \\lambda \\times (r + \\gamma \\times max_{a'}(Q(s', a')) + (1-\\lambda ) \\times Q(s,a)$\n",
        "    - {{decrémenter}} les coefficients d'apprentissage et d'exploration :\n",
        "      - $\\lambda \\gets 0.99 \\times \\lambda$\n",
        "      - $\\epsilon \\gets 0.99 \\times \\epsilon$\n",
        "    - Si but atteint, casser la boucle n' (uniquement celle là)\n",
        "  - Fin pour n' itérations\n",
        "- Fin pour n boucles d'apprentissage  \n",
        "\n",
        "En reprenant les définitions précédentes, $Q(s,a)$ est équivalent à `Q[s][a]`"
      ]
    },
    {
      "cell_type": "markdown",
      "metadata": {
        "id": "NZwsNfh8vNbH"
      },
      "source": [
        "## Initialisation des variables\n",
        "\n",
        "On utilisera initialement les affectations suivantes pour les variables :\n",
        "- variables d'exploration, de récompense et d'apprentissage :\n",
        "  - $ \\lambda \\gets 0.8$\n",
        "  - $ \\gamma \\gets 0.998$\n",
        "- nombre de cycles :\n",
        "  - $ n \\gets 10000$ si grille 4x4, 50000 si grille 8x8\n",
        "  - $ n' \\gets 10$ si grille 4x4, 20 si grille 8x8\n",
        "    \n",
        "----    "
      ]
    },
    {
      "cell_type": "markdown",
      "metadata": {
        "id": "4z37xd1PvNbI"
      },
      "source": [
        " #### Q-Learning simple"
      ]
    },
    {
      "cell_type": "code",
      "execution_count": null,
      "metadata": {
        "id": "ihIC_Smnbx-y"
      },
      "outputs": [],
      "source": [
        "import random as rnd\n",
        "epsilon = 1.0  # Stratégie d'exploration-exploitation\n",
        "lambda_learn = 0.3  # Taux d'apprentissage\n",
        "gamma = 0.9  # Facteur de remise\n",
        "\n",
        "def q_learn(nb_actions):\n",
        "    s = env.reset()\n",
        "    total_r = 0\n",
        "    done = False\n",
        "    step = 0\n",
        "    states_list = []\n",
        "    actions_list = []\n",
        "    while not done and step < nb_actions:\n",
        "        step += 1\n",
        "        if rnd.random() < epsilon or np.all(Q[s, :] == 0):\n",
        "            a = rnd.randint(0, env.action_space.n - 1)\n",
        "        else:\n",
        "            a = np.argmax(Q[s, :])\n",
        "\n",
        "        new_state, r, done, _ = env.step(a)\n",
        "\n",
        "        Q[s, a] += lambda_learn * (r + gamma * np.max(Q[new_state, :]) - Q[s, a])\n",
        "\n",
        "        s = new_state\n",
        "        total_r += r\n",
        "        states_list.append(s)\n",
        "        actions_list.append(a)\n",
        "\n",
        "    return total_r, r, states_list, actions_list\n",
        "\n",
        "def try_qlearn(nb_episodes=4000, nb_actions=64):\n",
        "    global epsilon \n",
        "    solutions_list = []\n",
        "    for i in range(nb_episodes):\n",
        "        total_r, r, states_list, actions_list = q_learn(nb_actions)\n",
        "        epsilon *= 0.999\n",
        "        if r == 1:\n",
        "            solutions_list.append((i, total_r, states_list, actions_list))\n",
        "\n",
        "    if not solutions_list:\n",
        "        print(\"aucune solution trouvée !!\")\n",
        "\n",
        "    return solutions_list\n",
        "\n",
        "\n",
        "def rendu(solutions_list):\n",
        "    if solutions_list:\n",
        "        mini_sol = min(solutions_list, key=lambda x: len(x[2]))\n",
        "        print(f\"Une solution en {len(mini_sol[2])} étapes : \")\n",
        "        env.reset()\n",
        "        for a in mini_sol[3]:\n",
        "            _, _, done,_ = env.step(a)\n",
        "            print(f\"\\nAction {a}\\n\")\n",
        "            print(env.render(mode='ansi'))\n",
        "            if done:\n",
        "                break\n",
        "    else:\n",
        "        print(\"Aucune solution trouvée !!\")"
      ]
    },
    {
      "cell_type": "code",
      "execution_count": null,
      "metadata": {
        "colab": {
          "base_uri": "https://localhost:8080/"
        },
        "id": "AzEBKNGAc3Wi",
        "outputId": "12f85da0-896a-4bb2-db01-871bd2fd3a7b"
      },
      "outputs": [
        {
          "name": "stdout",
          "output_type": "stream",
          "text": [
            "aucune solution trouvée !!\n",
            "Tentative 1: 0 solutions trouvées.\n",
            "Aucune solution n'a été trouvée, nouvelle tentative...\n",
            "Tentative 2: 398 solutions trouvées.\n",
            "Une solution en 14 étapes : \n",
            "\n",
            "Action 2\n",
            "\n",
            "  (Right)\n",
            "S\u001b[41mF\u001b[0mFFFFFF\n",
            "FFFFFFFF\n",
            "FFFHFFFF\n",
            "FFFFFHFF\n",
            "FFFHFFFF\n",
            "FHHFFFHF\n",
            "FHFFHFHF\n",
            "FFFHFFFG\n",
            "\n",
            "\n",
            "Action 2\n",
            "\n",
            "  (Right)\n",
            "SF\u001b[41mF\u001b[0mFFFFF\n",
            "FFFFFFFF\n",
            "FFFHFFFF\n",
            "FFFFFHFF\n",
            "FFFHFFFF\n",
            "FHHFFFHF\n",
            "FHFFHFHF\n",
            "FFFHFFFG\n",
            "\n",
            "\n",
            "Action 2\n",
            "\n",
            "  (Right)\n",
            "SFF\u001b[41mF\u001b[0mFFFF\n",
            "FFFFFFFF\n",
            "FFFHFFFF\n",
            "FFFFFHFF\n",
            "FFFHFFFF\n",
            "FHHFFFHF\n",
            "FHFFHFHF\n",
            "FFFHFFFG\n",
            "\n",
            "\n",
            "Action 2\n",
            "\n",
            "  (Right)\n",
            "SFFF\u001b[41mF\u001b[0mFFF\n",
            "FFFFFFFF\n",
            "FFFHFFFF\n",
            "FFFFFHFF\n",
            "FFFHFFFF\n",
            "FHHFFFHF\n",
            "FHFFHFHF\n",
            "FFFHFFFG\n",
            "\n",
            "\n",
            "Action 2\n",
            "\n",
            "  (Right)\n",
            "SFFFF\u001b[41mF\u001b[0mFF\n",
            "FFFFFFFF\n",
            "FFFHFFFF\n",
            "FFFFFHFF\n",
            "FFFHFFFF\n",
            "FHHFFFHF\n",
            "FHFFHFHF\n",
            "FFFHFFFG\n",
            "\n",
            "\n",
            "Action 1\n",
            "\n",
            "  (Down)\n",
            "SFFFFFFF\n",
            "FFFFF\u001b[41mF\u001b[0mFF\n",
            "FFFHFFFF\n",
            "FFFFFHFF\n",
            "FFFHFFFF\n",
            "FHHFFFHF\n",
            "FHFFHFHF\n",
            "FFFHFFFG\n",
            "\n",
            "\n",
            "Action 2\n",
            "\n",
            "  (Right)\n",
            "SFFFFFFF\n",
            "FFFFFF\u001b[41mF\u001b[0mF\n",
            "FFFHFFFF\n",
            "FFFFFHFF\n",
            "FFFHFFFF\n",
            "FHHFFFHF\n",
            "FHFFHFHF\n",
            "FFFHFFFG\n",
            "\n",
            "\n",
            "Action 1\n",
            "\n",
            "  (Down)\n",
            "SFFFFFFF\n",
            "FFFFFFFF\n",
            "FFFHFF\u001b[41mF\u001b[0mF\n",
            "FFFFFHFF\n",
            "FFFHFFFF\n",
            "FHHFFFHF\n",
            "FHFFHFHF\n",
            "FFFHFFFG\n",
            "\n",
            "\n",
            "Action 2\n",
            "\n",
            "  (Right)\n",
            "SFFFFFFF\n",
            "FFFFFFFF\n",
            "FFFHFFF\u001b[41mF\u001b[0m\n",
            "FFFFFHFF\n",
            "FFFHFFFF\n",
            "FHHFFFHF\n",
            "FHFFHFHF\n",
            "FFFHFFFG\n",
            "\n",
            "\n",
            "Action 1\n",
            "\n",
            "  (Down)\n",
            "SFFFFFFF\n",
            "FFFFFFFF\n",
            "FFFHFFFF\n",
            "FFFFFHF\u001b[41mF\u001b[0m\n",
            "FFFHFFFF\n",
            "FHHFFFHF\n",
            "FHFFHFHF\n",
            "FFFHFFFG\n",
            "\n",
            "\n",
            "Action 1\n",
            "\n",
            "  (Down)\n",
            "SFFFFFFF\n",
            "FFFFFFFF\n",
            "FFFHFFFF\n",
            "FFFFFHFF\n",
            "FFFHFFF\u001b[41mF\u001b[0m\n",
            "FHHFFFHF\n",
            "FHFFHFHF\n",
            "FFFHFFFG\n",
            "\n",
            "\n",
            "Action 1\n",
            "\n",
            "  (Down)\n",
            "SFFFFFFF\n",
            "FFFFFFFF\n",
            "FFFHFFFF\n",
            "FFFFFHFF\n",
            "FFFHFFFF\n",
            "FHHFFFH\u001b[41mF\u001b[0m\n",
            "FHFFHFHF\n",
            "FFFHFFFG\n",
            "\n",
            "\n",
            "Action 1\n",
            "\n",
            "  (Down)\n",
            "SFFFFFFF\n",
            "FFFFFFFF\n",
            "FFFHFFFF\n",
            "FFFFFHFF\n",
            "FFFHFFFF\n",
            "FHHFFFHF\n",
            "FHFFHFH\u001b[41mF\u001b[0m\n",
            "FFFHFFFG\n",
            "\n",
            "\n",
            "Action 1\n",
            "\n",
            "  (Down)\n",
            "SFFFFFFF\n",
            "FFFFFFFF\n",
            "FFFHFFFF\n",
            "FFFFFHFF\n",
            "FFFHFFFF\n",
            "FHHFFFHF\n",
            "FHFFHFHF\n",
            "FFFHFFF\u001b[41mG\u001b[0m\n",
            "\n"
          ]
        }
      ],
      "source": [
        "lambda_learn = 0.3\n",
        "gamma = 0.9\n",
        "Q = np.zeros((env.observation_space.n, env.action_space.n))\n",
        "\n",
        "\n",
        "max_attempts = 10000\n",
        "attempt = 0\n",
        "solutions = []\n",
        "\n",
        "while not solutions and attempt < max_attempts:\n",
        "    epsilon = 1.0\n",
        "    solutions = try_qlearn(2000, 50)\n",
        "    attempt += 1 \n",
        "    print(f\"Tentative {attempt}: {len(solutions)} solutions trouvées.\")\n",
        "\n",
        "    if solutions:\n",
        "        rendu(solutions)\n",
        "        break\n",
        "    else:\n",
        "        print(\"Aucune solution n'a été trouvée, nouvelle tentative...\")\n",
        "\n",
        "if not solutions:\n",
        "    print(\"Aucune solution n'a été trouvée après l'apprentissage malgré les multiples tentatives.\")"
      ]
    },
    {
      "cell_type": "markdown",
      "metadata": {
        "id": "LvUVXBByvNbL"
      },
      "source": [
        "----\n",
        "**Etudions l'historique**"
      ]
    },
    {
      "cell_type": "code",
      "execution_count": null,
      "metadata": {
        "id": "CEnD5pRQvNbM"
      },
      "outputs": [],
      "source": [
        "import matplotlib.pyplot as plt\n",
        "def plot_frequence_sol(solutions_list):\n",
        "    \"\"\"\n",
        "    dessine la frequence de solution trouvees\n",
        "    Parameters\n",
        "    ----------\n",
        "    solutions : liste des solutions\n",
        "\n",
        "    Returns\n",
        "    -------\n",
        "    None.\n",
        "\n",
        "    \"\"\"\n",
        "    xs = [x[0] for x in solutions_list]\n",
        "    ys = [y[1] for y in solutions_list]\n",
        "    plt.figure(figsize=(10, 4))\n",
        "    plt.plot(xs, ys, '.')\n",
        "    plt.show()"
      ]
    },
    {
      "cell_type": "code",
      "execution_count": null,
      "metadata": {
        "colab": {
          "base_uri": "https://localhost:8080/",
          "height": 368
        },
        "id": "Emlq4e3ZvNbM",
        "outputId": "47f97010-4340-45f9-c882-98d83268df8d"
      },
      "outputs": [
        {
          "data": {
            "image/png": "[encoded data removed]",
            "text/plain": [
              "<Figure size 1000x400 with 1 Axes>"
            ]
          },
          "metadata": {},
          "output_type": "display_data"
        }
      ],
      "source": [
        "plot_frequence_sol(solutions)"
      ]
    },
    {
      "cell_type": "code",
      "execution_count": null,
      "metadata": {
        "id": "1JUBMSgsFGlx"
      },
      "outputs": [],
      "source": [
        "def showBestValues(Q):\n",
        "    #bestQValues contient les meilleures valeurs des actions possibles pour chaque état\n",
        "    #et on \"ecrase\" les valeurs pour réduire leurs différences (utile pour le choix des couleurs)\n",
        "    bestQValues = [max(ligne)**(1/10) for ligne in Q]\n",
        "    dim = int(Q.shape[0]**(1/2))\n",
        "    #on transforme bestQValues en matrice dim x dim\n",
        "    bestQValues = np.reshape(bestQValues, (dim,dim))\n",
        "    #on demande à python de générer une \"heatmap\"\n",
        "    fig, ax = plt.subplots(figsize=(5,5))\n",
        "    ax.imshow(bestQValues,cmap='Blues')\n",
        "    plt.title(\"Meilleur score d'une action selon l'état\")\n",
        "    plt.show()"
      ]
    },
    {
      "cell_type": "code",
      "execution_count": null,
      "metadata": {
        "colab": {
          "base_uri": "https://localhost:8080/",
          "height": 468
        },
        "id": "VOCRyth1FMXm",
        "outputId": "8a340b2e-10ae-4c35-9017-dd1972a0ba1f"
      },
      "outputs": [
        {
          "data": {
            "image/png": "[encoded data removed]",
            "text/plain": [
              "<Figure size 500x500 with 1 Axes>"
            ]
          },
          "metadata": {},
          "output_type": "display_data"
        }
      ],
      "source": [
        "showBestValues(Q)"
      ]
    },
    {
      "cell_type": "markdown",
      "metadata": {
        "id": "Y9iq0gsnvNbN"
      },
      "source": [
        "---\n",
        "## L'algorithme de Double Q-Learning"
      ]
    },
    {
      "cell_type": "markdown",
      "metadata": {
        "id": "Ve-ZmxmLvNbO",
        "tags": []
      },
      "source": [
        "#### Explication du double Q-Learning\n",
        "L'algo de **double** Q-Learning simple repose sur DEUX matrices nb_etats x nb_actions; la mise à jour des valeurs d'une action dans une grille utilise la valeur de la meilleure action suivante dans l'autre matrice.\n",
        "\n",
        "On réalise, plus ou moins alternativement :\n",
        "\n",
        "$a^* \\gets  argmax_{a} QA(s', a)$,\n",
        "\n",
        "$QA(s,a) \\gets QA(s,a) + \\lambda \\times (r + \\gamma \\times QB(s', a^*))-  QA(s,a))$\n",
        "\n",
        "ou\n",
        "\n",
        "$b^* \\gets  argmax_{a} QB(s', a)$\n",
        "\n",
        "$QB(s,a) \\gets QB(s,a) + \\lambda \\times (r + \\gamma \\times QA(s', b^*))-  QB(s,a))$\n",
        "\n",
        "avec\n",
        "  - $\\lambda$ : coef. d'apprentissage\n",
        "  - $\\gamma$ : coef. de réduction\n",
        "  - $r$ : récompense\n",
        "  \n",
        "Cette équation donne la qualité de l'action *a* à partir de l'état *s*.\n",
        "\n",
        "Initialement, à chaque état, une action est choisie aléatoirement (car toutes \"valent\" 0); puis au fil des tests les actions les plus valuées sont choisies.\n",
        "\n",
        "*Vous pouvez voir en fin de cette page des aides sur les fonctionnalités Python utiles pour la manipulation de tableaux.*"
      ]
    },
    {
      "cell_type": "markdown",
      "metadata": {
        "id": "hUzW4M4fvNb1"
      },
      "source": [
        "#### Initialisation"
      ]
    },
    {
      "cell_type": "markdown",
      "metadata": {
        "id": "5yzQnZwBQiF5"
      },
      "source": [
        "#double q learning (Déterministe)"
      ]
    },
    {
      "cell_type": "code",
      "execution_count": null,
      "metadata": {
        "id": "rikuzvkcQYEb"
      },
      "outputs": [],
      "source": [
        "import numpy as np\n",
        "import gym\n",
        "import random\n",
        "\n",
        "env = gym.make('FrozenLake-v1', map_name=\"8x8\", is_slippery=False)\n",
        "\n",
        "Q1 = np.random.random((env.observation_space.n, env.action_space.n))\n",
        "Q2 = np.random.random((env.observation_space.n, env.action_space.n))"
      ]
    },
    {
      "cell_type": "code",
      "execution_count": null,
      "metadata": {
        "id": "jmovWb8wQInd"
      },
      "outputs": [],
      "source": [
        "def q_learn_double(nb_actions, Q1, Q2, epsilon):\n",
        "    s = env.reset()\n",
        "    if isinstance(s, tuple):\n",
        "        s = s[0] \n",
        "    total_r = 0\n",
        "    done = False\n",
        "    step = 0\n",
        "    states_list = []\n",
        "    actions_list = []\n",
        "    lambda_learn = .3\n",
        "    gamma = 0.9\n",
        "    while not done and step < nb_actions:\n",
        "        step += 1\n",
        "        if random.random() < epsilon:\n",
        "            a = random.randint(0, env.action_space.n - 1)\n",
        "        else:\n",
        "            a = np.argmax(Q1[s] + Q2[s])\n",
        "\n",
        "        new_state, r, done, _ = env.step(a)[0:4]\n",
        "\n",
        "        if random.random() < 0.5:\n",
        "            best_next_action = np.argmax(Q1[new_state])\n",
        "            td_target = r + gamma * Q2[new_state, best_next_action]\n",
        "            Q1[s, a] = (1 - lambda_learn) * Q1[s, a] + lambda_learn * (td_target)\n",
        "        else:\n",
        "            best_next_action = np.argmax(Q2[new_state])\n",
        "            td_target = r + gamma * Q1[new_state, best_next_action]\n",
        "            Q2[s, a] = (1 - lambda_learn) * Q2[s, a] + lambda_learn * (td_target)\n",
        "\n",
        "        s = new_state\n",
        "        total_r += r\n",
        "        states_list.append(s)\n",
        "        actions_list.append(a)\n",
        "    return total_r, r, states_list, actions_list\n",
        "\n",
        "def try_qlearn_double(nb_episodes=4000, nb_actions=64):\n",
        "    solutions_list = []\n",
        "    epsilon = 1\n",
        "    for i in range(nb_episodes):\n",
        "        total_r, r, states_list, actions_list = q_learn_double(nb_actions, Q1, Q2, epsilon)\n",
        "        epsilon *= 0.999\n",
        "        if r == 1: solutions_list.append((i, total_r, states_list, actions_list))\n",
        "    return solutions_list\n",
        "\n",
        "def rendu(solutions_list):\n",
        "    if len(solutions_list) > 0:\n",
        "        mini_sol = min(solutions_list, key=lambda x: len(x[2]))\n",
        "        print(f\"Une solution en {len(mini_sol[2])} étapes :\")\n",
        "\n",
        "        state = env.reset()\n",
        "        env.render()\n",
        "\n",
        "        for a in mini_sol[3]:\n",
        "            state, _, done, _ = env.step(a)\n",
        "            print(f\"\\naction {a}\\n\")\n",
        "            out = env.render(mode='ansi')\n",
        "            print(out.strip())\n",
        "\n",
        "            if done:\n",
        "                break\n",
        "    else:\n",
        "        print(\"Aucune solution trouvée !!\")"
      ]
    },
    {
      "cell_type": "code",
      "execution_count": null,
      "metadata": {
        "colab": {
          "base_uri": "https://localhost:8080/"
        },
        "id": "RyLUF7vWQv8i",
        "outputId": "5e2faa23-31af-4cb5-f110-ba48d12e0c32"
      },
      "outputs": [
        {
          "name": "stdout",
          "output_type": "stream",
          "text": [
            "Aucune solution n'a été trouvée après l'apprentissage.\n"
          ]
        }
      ],
      "source": [
        "solutions = try_qlearn_double(2000, 50)\n",
        "\n",
        "if len(solutions) > 0:\n",
        "    rendu(solutions)\n",
        "else:\n",
        "    print(\"Aucune solution n'a été trouvée après l'apprentissage.\")\n"
      ]
    },
    {
      "cell_type": "code",
      "execution_count": null,
      "metadata": {
        "colab": {
          "base_uri": "https://localhost:8080/"
        },
        "id": "abLLefrFdu8R",
        "outputId": "bb2d5a7f-59fe-440f-9e93-a89795e2ee83"
      },
      "outputs": [
        {
          "name": "stdout",
          "output_type": "stream",
          "text": [
            "Tentative 1: 0 solutions trouvées.\n",
            "Aucune solution n'a été trouvée, nouvelle tentative...\n",
            "Tentative 2: 1 solutions trouvées.\n",
            "Une solution en 19 étapes :\n",
            "\n",
            "action 2\n",
            "\n",
            "(Right)\n",
            "S\u001b[41mF\u001b[0mFFFFFF\n",
            "FFFFFFFF\n",
            "FFFHFFFF\n",
            "FFFFFHFF\n",
            "FFFHFFFF\n",
            "FHHFFFHF\n",
            "FHFFHFHF\n",
            "FFFHFFFG\n",
            "\n",
            "action 1\n",
            "\n",
            "(Down)\n",
            "SFFFFFFF\n",
            "F\u001b[41mF\u001b[0mFFFFFF\n",
            "FFFHFFFF\n",
            "FFFFFHFF\n",
            "FFFHFFFF\n",
            "FHHFFFHF\n",
            "FHFFHFHF\n",
            "FFFHFFFG\n",
            "\n",
            "action 2\n",
            "\n",
            "(Right)\n",
            "SFFFFFFF\n",
            "FF\u001b[41mF\u001b[0mFFFFF\n",
            "FFFHFFFF\n",
            "FFFFFHFF\n",
            "FFFHFFFF\n",
            "FHHFFFHF\n",
            "FHFFHFHF\n",
            "FFFHFFFG\n",
            "\n",
            "action 2\n",
            "\n",
            "(Right)\n",
            "SFFFFFFF\n",
            "FFF\u001b[41mF\u001b[0mFFFF\n",
            "FFFHFFFF\n",
            "FFFFFHFF\n",
            "FFFHFFFF\n",
            "FHHFFFHF\n",
            "FHFFHFHF\n",
            "FFFHFFFG\n",
            "\n",
            "action 2\n",
            "\n",
            "(Right)\n",
            "SFFFFFFF\n",
            "FFFF\u001b[41mF\u001b[0mFFF\n",
            "FFFHFFFF\n",
            "FFFFFHFF\n",
            "FFFHFFFF\n",
            "FHHFFFHF\n",
            "FHFFHFHF\n",
            "FFFHFFFG\n",
            "\n",
            "action 2\n",
            "\n",
            "(Right)\n",
            "SFFFFFFF\n",
            "FFFFF\u001b[41mF\u001b[0mFF\n",
            "FFFHFFFF\n",
            "FFFFFHFF\n",
            "FFFHFFFF\n",
            "FHHFFFHF\n",
            "FHFFHFHF\n",
            "FFFHFFFG\n",
            "\n",
            "action 2\n",
            "\n",
            "(Right)\n",
            "SFFFFFFF\n",
            "FFFFFF\u001b[41mF\u001b[0mF\n",
            "FFFHFFFF\n",
            "FFFFFHFF\n",
            "FFFHFFFF\n",
            "FHHFFFHF\n",
            "FHFFHFHF\n",
            "FFFHFFFG\n",
            "\n",
            "action 2\n",
            "\n",
            "(Right)\n",
            "SFFFFFFF\n",
            "FFFFFFF\u001b[41mF\u001b[0m\n",
            "FFFHFFFF\n",
            "FFFFFHFF\n",
            "FFFHFFFF\n",
            "FHHFFFHF\n",
            "FHFFHFHF\n",
            "FFFHFFFG\n",
            "\n",
            "action 1\n",
            "\n",
            "(Down)\n",
            "SFFFFFFF\n",
            "FFFFFFFF\n",
            "FFFHFFF\u001b[41mF\u001b[0m\n",
            "FFFFFHFF\n",
            "FFFHFFFF\n",
            "FHHFFFHF\n",
            "FHFFHFHF\n",
            "FFFHFFFG\n",
            "\n",
            "action 2\n",
            "\n",
            "(Right)\n",
            "SFFFFFFF\n",
            "FFFFFFFF\n",
            "FFFHFFF\u001b[41mF\u001b[0m\n",
            "FFFFFHFF\n",
            "FFFHFFFF\n",
            "FHHFFFHF\n",
            "FHFFHFHF\n",
            "FFFHFFFG\n",
            "\n",
            "action 3\n",
            "\n",
            "(Up)\n",
            "SFFFFFFF\n",
            "FFFFFFF\u001b[41mF\u001b[0m\n",
            "FFFHFFFF\n",
            "FFFFFHFF\n",
            "FFFHFFFF\n",
            "FHHFFFHF\n",
            "FHFFHFHF\n",
            "FFFHFFFG\n",
            "\n",
            "action 1\n",
            "\n",
            "(Down)\n",
            "SFFFFFFF\n",
            "FFFFFFFF\n",
            "FFFHFFF\u001b[41mF\u001b[0m\n",
            "FFFFFHFF\n",
            "FFFHFFFF\n",
            "FHHFFFHF\n",
            "FHFFHFHF\n",
            "FFFHFFFG\n",
            "\n",
            "action 1\n",
            "\n",
            "(Down)\n",
            "SFFFFFFF\n",
            "FFFFFFFF\n",
            "FFFHFFFF\n",
            "FFFFFHF\u001b[41mF\u001b[0m\n",
            "FFFHFFFF\n",
            "FHHFFFHF\n",
            "FHFFHFHF\n",
            "FFFHFFFG\n",
            "\n",
            "action 1\n",
            "\n",
            "(Down)\n",
            "SFFFFFFF\n",
            "FFFFFFFF\n",
            "FFFHFFFF\n",
            "FFFFFHFF\n",
            "FFFHFFF\u001b[41mF\u001b[0m\n",
            "FHHFFFHF\n",
            "FHFFHFHF\n",
            "FFFHFFFG\n",
            "\n",
            "action 3\n",
            "\n",
            "(Up)\n",
            "SFFFFFFF\n",
            "FFFFFFFF\n",
            "FFFHFFFF\n",
            "FFFFFHF\u001b[41mF\u001b[0m\n",
            "FFFHFFFF\n",
            "FHHFFFHF\n",
            "FHFFHFHF\n",
            "FFFHFFFG\n",
            "\n",
            "action 1\n",
            "\n",
            "(Down)\n",
            "SFFFFFFF\n",
            "FFFFFFFF\n",
            "FFFHFFFF\n",
            "FFFFFHFF\n",
            "FFFHFFF\u001b[41mF\u001b[0m\n",
            "FHHFFFHF\n",
            "FHFFHFHF\n",
            "FFFHFFFG\n",
            "\n",
            "action 1\n",
            "\n",
            "(Down)\n",
            "SFFFFFFF\n",
            "FFFFFFFF\n",
            "FFFHFFFF\n",
            "FFFFFHFF\n",
            "FFFHFFFF\n",
            "FHHFFFH\u001b[41mF\u001b[0m\n",
            "FHFFHFHF\n",
            "FFFHFFFG\n",
            "\n",
            "action 1\n",
            "\n",
            "(Down)\n",
            "SFFFFFFF\n",
            "FFFFFFFF\n",
            "FFFHFFFF\n",
            "FFFFFHFF\n",
            "FFFHFFFF\n",
            "FHHFFFHF\n",
            "FHFFHFH\u001b[41mF\u001b[0m\n",
            "FFFHFFFG\n",
            "\n",
            "action 1\n",
            "\n",
            "(Down)\n",
            "SFFFFFFF\n",
            "FFFFFFFF\n",
            "FFFHFFFF\n",
            "FFFFFHFF\n",
            "FFFHFFFF\n",
            "FHHFFFHF\n",
            "FHFFHFHF\n",
            "FFFHFFF\u001b[41mG\u001b[0m\n"
          ]
        }
      ],
      "source": [
        "max_attempts = 10000\n",
        "attempt = 0\n",
        "solutions = []\n",
        "\n",
        "while not solutions and attempt < max_attempts:\n",
        "    epsilon = 1.0\n",
        "    solutions = try_qlearn_double(2000, 50)\n",
        "    attempt += 1\n",
        "    print(f\"Tentative {attempt}: {len(solutions)} solutions trouvées.\")\n",
        "\n",
        "    if solutions:\n",
        "        rendu(solutions)\n",
        "        break\n",
        "    else:\n",
        "        print(\"Aucune solution n'a été trouvée, nouvelle tentative...\")\n",
        "\n",
        "if not solutions:\n",
        "    print(\"Aucune solution n'a été trouvée après l'apprentissage malgré les multiples tentatives.\")"
      ]
    },
    {
      "cell_type": "code",
      "execution_count": null,
      "metadata": {
        "id": "p0-TO6P2ARod"
      },
      "outputs": [],
      "source": [
        "def showBestValues(Q):\n",
        "    #bestQValues contient les meilleures valeurs des actions possibles pour chaque état\n",
        "    #et on \"ecrase\" les valeurs pour réduire leurs différences (utile pour le choix des couleurs)\n",
        "    bestQValues = [max(ligne)**(1/10) for ligne in Q]\n",
        "    dim = int(Q.shape[0]**(1/2))\n",
        "    #on transforme bestQValues en matrice dim x dim\n",
        "    bestQValues = np.reshape(bestQValues, (dim,dim))\n",
        "    #on demande à python de générer une \"heatmap\"\n",
        "    fig, ax = plt.subplots(figsize=(5,5))\n",
        "    ax.imshow(bestQValues,cmap='Blues')\n",
        "    plt.title(\"Meilleur score d'une action selon l'état\")\n",
        "    plt.show()"
      ]
    },
    {
      "cell_type": "code",
      "execution_count": null,
      "metadata": {
        "colab": {
          "base_uri": "https://localhost:8080/",
          "height": 523
        },
        "id": "WclKjj7GASwF",
        "outputId": "6e507997-9b01-4bfe-cb00-3a7500bfe5fa"
      },
      "outputs": [
        {
          "name": "stderr",
          "output_type": "stream",
          "text": [
            "/usr/local/lib/python3.10/dist-packages/ipykernel/ipkernel.py:283: DeprecationWarning: `should_run_async` will not call `transform_cell` automatically in the future. Please pass the result to `transformed_cell` argument and any exception that happen during thetransform in `preprocessing_exc_tuple` in IPython 7.17 and above.\n",
            "  and should_run_async(code)\n"
          ]
        },
        {
          "data": {
            "image/png": "[encoded data removed]",
            "text/plain": [
              "<Figure size 500x500 with 1 Axes>"
            ]
          },
          "metadata": {},
          "output_type": "display_data"
        }
      ],
      "source": [
        "showBestValues(Q1)"
      ]
    },
    {
      "cell_type": "code",
      "execution_count": null,
      "metadata": {
        "colab": {
          "base_uri": "https://localhost:8080/",
          "height": 523
        },
        "id": "o8Cr4oc-ETdN",
        "outputId": "d70a0504-ae3f-467e-c692-93cae2ee7fa1"
      },
      "outputs": [
        {
          "name": "stderr",
          "output_type": "stream",
          "text": [
            "/usr/local/lib/python3.10/dist-packages/ipykernel/ipkernel.py:283: DeprecationWarning: `should_run_async` will not call `transform_cell` automatically in the future. Please pass the result to `transformed_cell` argument and any exception that happen during thetransform in `preprocessing_exc_tuple` in IPython 7.17 and above.\n",
            "  and should_run_async(code)\n"
          ]
        },
        {
          "data": {
            "image/png": "[encoded data removed]",
            "text/plain": [
              "<Figure size 500x500 with 1 Axes>"
            ]
          },
          "metadata": {},
          "output_type": "display_data"
        }
      ],
      "source": [
        "showBestValues(Q2)"
      ]
    },
    {
      "cell_type": "markdown",
      "metadata": {
        "id": "-1J5MHqe0zZm"
      },
      "source": [
        "#double q learning (Non déterministe)"
      ]
    },
    {
      "cell_type": "code",
      "execution_count": null,
      "metadata": {
        "colab": {
          "base_uri": "https://localhost:8080/"
        },
        "id": "zXzvEAqB019j",
        "outputId": "fa2aefef-006f-4884-a1a1-baad6e0e52e9"
      },
      "outputs": [
        {
          "name": "stderr",
          "output_type": "stream",
          "text": [
            "/usr/local/lib/python3.10/dist-packages/gym/core.py:317: DeprecationWarning: \u001b[33mWARN: Initializing wrapper in old step API which returns one bool instead of two. It is recommended to set `new_step_api=True` to use new step API. This will be the default behaviour in future.\u001b[0m\n",
            "  deprecation(\n",
            "/usr/local/lib/python3.10/dist-packages/gym/wrappers/step_api_compatibility.py:39: DeprecationWarning: \u001b[33mWARN: Initializing environment in old step API which returns one bool instead of two. It is recommended to set `new_step_api=True` to use new step API. This will be the default behaviour in future.\u001b[0m\n",
            "  deprecation(\n"
          ]
        }
      ],
      "source": [
        "env = gym.make('FrozenLake-v1', map_name=\"8x8\", is_slippery=True)\n",
        "\n",
        "Q1 = np.random.random((env.observation_space.n, env.action_space.n))\n",
        "Q2 = np.random.random((env.observation_space.n, env.action_space.n))"
      ]
    },
    {
      "cell_type": "code",
      "execution_count": null,
      "metadata": {
        "id": "heWzOrjY02YD"
      },
      "outputs": [],
      "source": [
        "def q_learn_double(nb_actions, Q1, Q2, epsilon):\n",
        "    s = env.reset()\n",
        "    if isinstance(s, tuple):\n",
        "        s = s[0] \n",
        "    total_r = 0\n",
        "    done = False\n",
        "    step = 0\n",
        "    states_list = []\n",
        "    actions_list = []\n",
        "    lambda_learn = .3\n",
        "    gamma = 0.9\n",
        "    while not done and step < nb_actions:\n",
        "        step += 1\n",
        "        if random.random() < epsilon:\n",
        "            a = random.randint(0, env.action_space.n - 1)\n",
        "        else:\n",
        "            a = np.argmax(Q1[s] + Q2[s])\n",
        "\n",
        "        new_state, r, done, _ = env.step(a)[0:4]\n",
        "\n",
        "        if random.random() < 0.5:\n",
        "            best_next_action = np.argmax(Q1[new_state])\n",
        "            td_target = r + gamma * Q2[new_state, best_next_action]\n",
        "            Q1[s, a] = (1 - lambda_learn) * Q1[s, a] + lambda_learn * (td_target)\n",
        "        else:\n",
        "            best_next_action = np.argmax(Q2[new_state])\n",
        "            td_target = r + gamma * Q1[new_state, best_next_action]\n",
        "            Q2[s, a] = (1 - lambda_learn) * Q2[s, a] + lambda_learn * (td_target)\n",
        "\n",
        "        s = new_state\n",
        "        total_r += r\n",
        "        states_list.append(s)\n",
        "        actions_list.append(a)\n",
        "    return total_r, r, states_list, actions_list\n",
        "\n",
        "def try_qlearn_double(nb_episodes=4000, nb_actions=64):\n",
        "    solutions_list = []\n",
        "    epsilon = 1\n",
        "    for i in range(nb_episodes):\n",
        "        total_r, r, states_list, actions_list = q_learn_double(nb_actions, Q1, Q2, epsilon)\n",
        "        epsilon *= 0.999\n",
        "        if r == 1: solutions_list.append((i, total_r, states_list, actions_list))\n",
        "    return solutions_list\n",
        "\n",
        "def rendu(solutions_list):\n",
        "    if len(solutions_list) > 0:\n",
        "        mini_sol = min(solutions_list, key=lambda x: len(x[2]))\n",
        "        print(f\"Une solution en {len(mini_sol[2])} étapes :\")\n",
        "\n",
        "        state = env.reset()\n",
        "        env.render()\n",
        "\n",
        "        for a in mini_sol[3]:\n",
        "            state, _, done, _ = env.step(a)\n",
        "            print(f\"\\naction {a}\\n\")\n",
        "            out = env.render(mode='ansi')\n",
        "            print(out.strip())\n",
        "\n",
        "            if done:\n",
        "                break\n",
        "    else:\n",
        "        print(\"Aucune solution trouvée !!\")"
      ]
    },
    {
      "cell_type": "code",
      "execution_count": null,
      "metadata": {
        "colab": {
          "base_uri": "https://localhost:8080/"
        },
        "id": "D9kX3ZHy02uu",
        "outputId": "577250fc-b75d-4f98-fa13-e50b1e796c46"
      },
      "outputs": [
        {
          "name": "stdout",
          "output_type": "stream",
          "text": [
            "Tentative 1: 3 solutions trouvées.\n",
            "Une solution en 18 étapes :\n"
          ]
        },
        {
          "name": "stderr",
          "output_type": "stream",
          "text": [
            "/usr/local/lib/python3.10/dist-packages/gym/core.py:49: DeprecationWarning: \u001b[33mWARN: You are calling render method, but you didn't specified the argument render_mode at environment initialization. To maintain backward compatibility, the environment will render in human mode.\n",
            "If you want to render in human mode, initialize the environment in this way: gym.make('EnvName', render_mode='human') and don't call the render method.\n",
            "See here for more information: https://www.gymlibrary.ml/content/api/\u001b[0m\n",
            "  deprecation(\n"
          ]
        },
        {
          "name": "stdout",
          "output_type": "stream",
          "text": [
            "\n",
            "action 1\n",
            "\n",
            "(Down)\n",
            "S\u001b[41mF\u001b[0mFFFFFF\n",
            "FFFFFFFF\n",
            "FFFHFFFF\n",
            "FFFFFHFF\n",
            "FFFHFFFF\n",
            "FHHFFFHF\n",
            "FHFFHFHF\n",
            "FFFHFFFG\n",
            "\n",
            "action 2\n",
            "\n",
            "(Right)\n",
            "SFFFFFFF\n",
            "F\u001b[41mF\u001b[0mFFFFFF\n",
            "FFFHFFFF\n",
            "FFFFFHFF\n",
            "FFFHFFFF\n",
            "FHHFFFHF\n",
            "FHFFHFHF\n",
            "FFFHFFFG\n",
            "\n",
            "action 3\n",
            "\n",
            "(Up)\n",
            "SFFFFFFF\n",
            "FF\u001b[41mF\u001b[0mFFFFF\n",
            "FFFHFFFF\n",
            "FFFFFHFF\n",
            "FFFHFFFF\n",
            "FHHFFFHF\n",
            "FHFFHFHF\n",
            "FFFHFFFG\n",
            "\n",
            "action 3\n",
            "\n",
            "(Up)\n",
            "SFFFFFFF\n",
            "FFF\u001b[41mF\u001b[0mFFFF\n",
            "FFFHFFFF\n",
            "FFFFFHFF\n",
            "FFFHFFFF\n",
            "FHHFFFHF\n",
            "FHFFHFHF\n",
            "FFFHFFFG\n",
            "\n",
            "action 3\n",
            "\n",
            "(Up)\n",
            "SFFFFFFF\n",
            "FFFF\u001b[41mF\u001b[0mFFF\n",
            "FFFHFFFF\n",
            "FFFFFHFF\n",
            "FFFHFFFF\n",
            "FHHFFFHF\n",
            "FHFFHFHF\n",
            "FFFHFFFG\n",
            "\n",
            "action 1\n",
            "\n",
            "(Down)\n",
            "SFFFFFFF\n",
            "FFFFF\u001b[41mF\u001b[0mFF\n",
            "FFFHFFFF\n",
            "FFFFFHFF\n",
            "FFFHFFFF\n",
            "FHHFFFHF\n",
            "FHFFHFHF\n",
            "FFFHFFFG\n",
            "\n",
            "action 3\n",
            "\n",
            "(Up)\n",
            "SFFFFFFF\n",
            "FFFFFF\u001b[41mF\u001b[0mF\n",
            "FFFHFFFF\n",
            "FFFFFHFF\n",
            "FFFHFFFF\n",
            "FHHFFFHF\n",
            "FHFFHFHF\n",
            "FFFHFFFG\n",
            "\n",
            "action 2\n",
            "\n",
            "(Right)\n",
            "SFFFFF\u001b[41mF\u001b[0mF\n",
            "FFFFFFFF\n",
            "FFFHFFFF\n",
            "FFFFFHFF\n",
            "FFFHFFFF\n",
            "FHHFFFHF\n",
            "FHFFHFHF\n",
            "FFFHFFFG\n",
            "\n",
            "action 1\n",
            "\n",
            "(Down)\n",
            "SFFFFFF\u001b[41mF\u001b[0m\n",
            "FFFFFFFF\n",
            "FFFHFFFF\n",
            "FFFFFHFF\n",
            "FFFHFFFF\n",
            "FHHFFFHF\n",
            "FHFFHFHF\n",
            "FFFHFFFG\n",
            "\n",
            "action 1\n",
            "\n",
            "(Down)\n",
            "SFFFFF\u001b[41mF\u001b[0mF\n",
            "FFFFFFFF\n",
            "FFFHFFFF\n",
            "FFFFFHFF\n",
            "FFFHFFFF\n",
            "FHHFFFHF\n",
            "FHFFHFHF\n",
            "FFFHFFFG\n",
            "\n",
            "action 1\n",
            "\n",
            "(Down)\n",
            "SFFFF\u001b[41mF\u001b[0mFF\n",
            "FFFFFFFF\n",
            "FFFHFFFF\n",
            "FFFFFHFF\n",
            "FFFHFFFF\n",
            "FHHFFFHF\n",
            "FHFFHFHF\n",
            "FFFHFFFG\n",
            "\n",
            "action 1\n",
            "\n",
            "(Down)\n",
            "SFFFFF\u001b[41mF\u001b[0mF\n",
            "FFFFFFFF\n",
            "FFFHFFFF\n",
            "FFFFFHFF\n",
            "FFFHFFFF\n",
            "FHHFFFHF\n",
            "FHFFHFHF\n",
            "FFFHFFFG\n",
            "\n",
            "action 2\n",
            "\n",
            "(Right)\n",
            "SFFFFFF\u001b[41mF\u001b[0m\n",
            "FFFFFFFF\n",
            "FFFHFFFF\n",
            "FFFFFHFF\n",
            "FFFHFFFF\n",
            "FHHFFFHF\n",
            "FHFFHFHF\n",
            "FFFHFFFG\n",
            "\n",
            "action 0\n",
            "\n",
            "(Left)\n",
            "SFFFFF\u001b[41mF\u001b[0mF\n",
            "FFFFFFFF\n",
            "FFFHFFFF\n",
            "FFFFFHFF\n",
            "FFFHFFFF\n",
            "FHHFFFHF\n",
            "FHFFHFHF\n",
            "FFFHFFFG\n",
            "\n",
            "action 0\n",
            "\n",
            "(Left)\n",
            "SFFFF\u001b[41mF\u001b[0mFF\n",
            "FFFFFFFF\n",
            "FFFHFFFF\n",
            "FFFFFHFF\n",
            "FFFHFFFF\n",
            "FHHFFFHF\n",
            "FHFFHFHF\n",
            "FFFHFFFG\n",
            "\n",
            "action 0\n",
            "\n",
            "(Left)\n",
            "SFFF\u001b[41mF\u001b[0mFFF\n",
            "FFFFFFFF\n",
            "FFFHFFFF\n",
            "FFFFFHFF\n",
            "FFFHFFFF\n",
            "FHHFFFHF\n",
            "FHFFHFHF\n",
            "FFFHFFFG\n",
            "\n",
            "action 0\n",
            "\n",
            "(Left)\n",
            "SFFF\u001b[41mF\u001b[0mFFF\n",
            "FFFFFFFF\n",
            "FFFHFFFF\n",
            "FFFFFHFF\n",
            "FFFHFFFF\n",
            "FHHFFFHF\n",
            "FHFFHFHF\n",
            "FFFHFFFG\n",
            "\n",
            "action 1\n",
            "\n",
            "(Down)\n",
            "SFFFFFFF\n",
            "FFFF\u001b[41mF\u001b[0mFFF\n",
            "FFFHFFFF\n",
            "FFFFFHFF\n",
            "FFFHFFFF\n",
            "FHHFFFHF\n",
            "FHFFHFHF\n",
            "FFFHFFFG\n"
          ]
        },
        {
          "name": "stderr",
          "output_type": "stream",
          "text": [
            "/usr/local/lib/python3.10/dist-packages/gym/core.py:43: DeprecationWarning: \u001b[33mWARN: The argument mode in render method is deprecated; use render_mode during environment initialization instead.\n",
            "See here for more information: https://www.gymlibrary.ml/content/api/\u001b[0m\n",
            "  deprecation(\n"
          ]
        }
      ],
      "source": [
        "max_attempts = 10000\n",
        "attempt = 0\n",
        "solutions = []\n",
        "\n",
        "while not solutions and attempt < max_attempts:\n",
        "    epsilon = 1.0\n",
        "    solutions = try_qlearn_double(2000, 50)\n",
        "    attempt += 1\n",
        "    print(f\"Tentative {attempt}: {len(solutions)} solutions trouvées.\")\n",
        "\n",
        "    if solutions:\n",
        "        rendu(solutions)\n",
        "        break\n",
        "    else:\n",
        "        print(\"Aucune solution n'a été trouvée, nouvelle tentative...\")\n",
        "\n",
        "if not solutions:\n",
        "    print(\"Aucune solution n'a été trouvée après l'apprentissage malgré les multiples tentatives.\")"
      ]
    },
    {
      "cell_type": "code",
      "execution_count": null,
      "metadata": {
        "id": "s9s9-A4j_PfV"
      },
      "outputs": [],
      "source": [
        "import matplotlib.pyplot as plt\n",
        "def plot_frequence_sol(solutions_list):\n",
        "    \"\"\"\n",
        "    dessine la frequence de solution trouvees\n",
        "    Parameters\n",
        "    ----------\n",
        "    solutions : liste des solutions\n",
        "\n",
        "    Returns\n",
        "    -------\n",
        "    None.\n",
        "\n",
        "    \"\"\"\n",
        "    xs = [x[0] for x in solutions_list]\n",
        "    ys = [y[1] for y in solutions_list]\n",
        "    plt.figure(figsize=(10, 4))\n",
        "    plt.plot(xs, ys, '.')\n",
        "    plt.xlabel(\"no du test\")\n",
        "    plt.ylabel(\"gain\")\n",
        "    plt.title(\"Fréquence d'apparition de solution\")\n",
        "    plt.show()\n"
      ]
    },
    {
      "cell_type": "code",
      "execution_count": null,
      "metadata": {
        "colab": {
          "base_uri": "https://localhost:8080/",
          "height": 411
        },
        "id": "3JE4Xveu_oT3",
        "outputId": "411590b9-2d65-44c4-f12d-689c07123d9c"
      },
      "outputs": [
        {
          "data": {
            "image/png": "[encoded data removed]",
            "text/plain": [
              "<Figure size 1000x400 with 1 Axes>"
            ]
          },
          "metadata": {},
          "output_type": "display_data"
        }
      ],
      "source": [
        "plot_frequence_sol(solutions)"
      ]
    },
    {
      "cell_type": "code",
      "execution_count": null,
      "metadata": {
        "id": "ksvz2eg3AH6C"
      },
      "outputs": [],
      "source": [
        "def showBestValues(Q):\n",
        "    #bestQValues contient les meilleures valeurs des actions possibles pour chaque état\n",
        "    #et on \"ecrase\" les valeurs pour réduire leurs différences (utile pour le choix des couleurs)\n",
        "    bestQValues = [max(ligne)**(1/10) for ligne in Q]\n",
        "    dim = int(Q.shape[0]**(1/2))\n",
        "    #on transforme bestQValues en matrice dim x dim\n",
        "    bestQValues = np.reshape(bestQValues, (dim,dim))\n",
        "    #on demande à python de générer une \"heatmap\"\n",
        "    fig, ax = plt.subplots(figsize=(5,5))\n",
        "    ax.imshow(bestQValues,cmap='Blues')\n",
        "    plt.title(\"Meilleur score d'une action selon l'état\")\n",
        "    plt.show()\n"
      ]
    },
    {
      "cell_type": "code",
      "execution_count": null,
      "metadata": {
        "colab": {
          "base_uri": "https://localhost:8080/",
          "height": 523
        },
        "id": "sBYAIjcxAHwA",
        "outputId": "2954ffab-0254-4a07-ad43-6e619b68f174"
      },
      "outputs": [
        {
          "name": "stderr",
          "output_type": "stream",
          "text": [
            "/usr/local/lib/python3.10/dist-packages/ipykernel/ipkernel.py:283: DeprecationWarning: `should_run_async` will not call `transform_cell` automatically in the future. Please pass the result to `transformed_cell` argument and any exception that happen during thetransform in `preprocessing_exc_tuple` in IPython 7.17 and above.\n",
            "  and should_run_async(code)\n"
          ]
        },
        {
          "data": {
            "image/png": "[encoded data removed]",
            "text/plain": [
              "<Figure size 500x500 with 1 Axes>"
            ]
          },
          "metadata": {},
          "output_type": "display_data"
        }
      ],
      "source": [
        "showBestValues(Q1)"
      ]
    },
    {
      "cell_type": "code",
      "execution_count": null,
      "metadata": {
        "colab": {
          "base_uri": "https://localhost:8080/",
          "height": 523
        },
        "id": "oakCtli6Ec_e",
        "outputId": "4e396ffa-d7c1-4bb2-9901-a8fb2544b953"
      },
      "outputs": [
        {
          "name": "stderr",
          "output_type": "stream",
          "text": [
            "/usr/local/lib/python3.10/dist-packages/ipykernel/ipkernel.py:283: DeprecationWarning: `should_run_async` will not call `transform_cell` automatically in the future. Please pass the result to `transformed_cell` argument and any exception that happen during thetransform in `preprocessing_exc_tuple` in IPython 7.17 and above.\n",
            "  and should_run_async(code)\n"
          ]
        },
        {
          "data": {
            "image/png": "[encoded data removed]",
            "text/plain": [
              "<Figure size 500x500 with 1 Axes>"
            ]
          },
          "metadata": {},
          "output_type": "display_data"
        }
      ],
      "source": [
        "showBestValues(Q2)"
      ]
    },
    {
      "cell_type": "markdown",
      "metadata": {
        "id": "zMD8R2fJ2fNE"
      },
      "source": [
        "#comparaison de performance"
      ]
    },
    {
      "cell_type": "code",
      "execution_count": null,
      "metadata": {
        "id": "GUgmdy7Y91XT"
      },
      "outputs": [],
      "source": [
        "epsilon = 1.0 \n",
        "\n",
        "def q_learn_double(env, Q1, Q2, nb_actions, epsilon):\n",
        "    s = env.reset()\n",
        "    total_r = 0\n",
        "    done = False\n",
        "    actions_list = []\n",
        "    states_list = []\n",
        "    lambda_learn = 0.3\n",
        "    gamma = 0.9\n",
        "\n",
        "    for _ in range(nb_actions):\n",
        "        if random.random() < epsilon:\n",
        "            a = random.randint(0, env.action_space.n - 1)\n",
        "        else:\n",
        "            a = np.argmax(Q1[s] + Q2[s])\n",
        "\n",
        "        new_state, r, done, _ = env.step(a)\n",
        "\n",
        "        if random.random() < 0.5:\n",
        "            best_next_action = np.argmax(Q1[new_state])\n",
        "            td_target = r + gamma * Q2[new_state, best_next_action]\n",
        "            Q1[s, a] = (1 - lambda_learn) * Q1[s, a] + lambda_learn * td_target\n",
        "        else:\n",
        "            best_next_action = np.argmax(Q2[new_state])\n",
        "            td_target = r + gamma * Q1[new_state, best_next_action]\n",
        "            Q2[s, a] = (1 - lambda_learn) * Q2[s, a] + lambda_learn * td_target\n",
        "\n",
        "        s = new_state\n",
        "        total_r += r\n",
        "        states_list.append(s)\n",
        "        actions_list.append(a)\n",
        "        if done:\n",
        "            break\n",
        "\n",
        "    return total_r, states_list, actions_list\n"
      ]
    },
    {
      "cell_type": "code",
      "execution_count": null,
      "metadata": {
        "id": "Lj88FBjU2e7s"
      },
      "outputs": [],
      "source": [
        "def try_qlearn_double(env, Q1, Q2, nb_episodes=4000, nb_actions=64):\n",
        "    performances = []\n",
        "    global epsilon\n",
        "    for episode in range(nb_episodes):\n",
        "        total_r, states_list, actions_list = q_learn_double(env, Q1, Q2, nb_actions, epsilon)\n",
        "        epsilon *= 0.999  # Diminuer epsilon pour augmenter l'exploitation au fil du temps\n",
        "        performances.append((episode, total_r, states_list))\n",
        "    return performances"
      ]
    },
    {
      "cell_type": "code",
      "execution_count": null,
      "metadata": {
        "colab": {
          "base_uri": "https://localhost:8080/"
        },
        "id": "1IsR92hj40Lh",
        "outputId": "a062ad11-5a67-4885-f39f-86aae414c5cc"
      },
      "outputs": [
        {
          "name": "stderr",
          "output_type": "stream",
          "text": [
            "/usr/local/lib/python3.10/dist-packages/gym/core.py:317: DeprecationWarning: \u001b[33mWARN: Initializing wrapper in old step API which returns one bool instead of two. It is recommended to set `new_step_api=True` to use new step API. This will be the default behaviour in future.\u001b[0m\n",
            "  deprecation(\n",
            "/usr/local/lib/python3.10/dist-packages/gym/wrappers/step_api_compatibility.py:39: DeprecationWarning: \u001b[33mWARN: Initializing environment in old step API which returns one bool instead of two. It is recommended to set `new_step_api=True` to use new step API. This will be the default behaviour in future.\u001b[0m\n",
            "  deprecation(\n"
          ]
        },
        {
          "name": "stdout",
          "output_type": "stream",
          "text": [
            "Performances en mode déterministe :\n",
            "Moyenne des étapes pour atteindre l'objectif: 10.5865\n",
            "Moyenne des récompenses: 0.0005\n",
            "Nombre de solutions trouvées: 2000\n",
            "\n",
            "Performances en mode non-déterministe :\n",
            "Moyenne des étapes pour atteindre l'objectif: 17.4655\n",
            "Moyenne des récompenses: 0.001\n",
            "Nombre de solutions trouvées: 2000\n"
          ]
        }
      ],
      "source": [
        "import numpy as np\n",
        "import gym\n",
        "import random\n",
        "\n",
        "def setup_environment(mode='non-deterministe'):\n",
        "    if mode == 'deterministe':\n",
        "        env = gym.make('FrozenLake-v1', map_name=\"8x8\", is_slippery=False)\n",
        "    else: \n",
        "        env = gym.make('FrozenLake-v1', map_name=\"8x8\", is_slippery=True)\n",
        "\n",
        "    Q1 = np.random.random((env.observation_space.n, env.action_space.n))\n",
        "    Q2 = np.random.random((env.observation_space.n, env.action_space.n))\n",
        "\n",
        "    return env, Q1, Q2\n",
        "\n",
        "\n",
        "def analyse_performances(performances):\n",
        "    if performances:\n",
        "        moyenne_etapes = sum(len(states_list) for _, _, states_list in performances) / len(performances)\n",
        "        moyenne_recompenses = sum(total_r for _, total_r, _ in performances) / len(performances)\n",
        "        print(f\"Moyenne des étapes pour atteindre l'objectif: {moyenne_etapes}\")\n",
        "        print(f\"Moyenne des récompenses: {moyenne_recompenses}\")\n",
        "        print(f\"Nombre de solutions trouvées: {len(performances)}\")\n",
        "    else:\n",
        "        print(\"Aucune performance à analyser.\")\n",
        "\n",
        "\n",
        "\n",
        "# Configuration et test pour le mode déterministe\n",
        "env, Q1, Q2 = setup_environment('deterministe')\n",
        "performances_deterministe = try_qlearn_double(env, Q1, Q2, 2000, 50)\n",
        "\n",
        "# Configuration et test pour le mode non-déterministe\n",
        "env, Q1, Q2 = setup_environment('non-deterministe')\n",
        "performances_nondeterministe = try_qlearn_double(env, Q1, Q2, 2000, 50)\n",
        "\n",
        "# Analyse des performances\n",
        "print(\"Performances en mode déterministe :\")\n",
        "analyse_performances(performances_deterministe)\n",
        "\n",
        "print(\"\\nPerformances en mode non-déterministe :\")\n",
        "analyse_performances(performances_nondeterministe)\n",
        "\n"
      ]
    },
    {
      "cell_type": "markdown",
      "metadata": {
        "id": "8aXELthRvNb4",
        "tags": []
      },
      "source": [
        "#### Travail à faire\n",
        "- Codez le double q learning dans une fonction proche de celle décrite pour le Q-Learning.\n",
        "- Reprenez la suite des fonctions développée pour lancer une résolution en mode déterministe et non déterministe.\n",
        "- Comparez les performances  (1ere solution trouvée, fréquence des solutions, ...)\n",
        "- reprenez au choix le simple QLearning, ou le Double Q-Learning et appliquez l'algorithme sur l'environnement CliffWalking-v0 (point de départ en x, arrivée en T, coût de -1 par action sur o, -100 par action sur C).\n",
        "   \n",
        "```o  o  o  o  o  o  o  o  o  o  o  o```\n",
        "\n",
        "```o  o  o  o  o  o  o  o  o  o  o  o```\n",
        "\n",
        "```o  o  o  o  o  o  o  o  o  o  o  o```\n",
        "\n",
        "```x  C  C  C  C  C  C  C  C  C  C  T```\n"
      ]
    },
    {
      "cell_type": "code",
      "execution_count": null,
      "metadata": {
        "id": "3ja3__OKEJDw"
      },
      "outputs": [],
      "source": [
        "import numpy as np\n",
        "import gym\n",
        "import random as rnd"
      ]
    },
    {
      "cell_type": "code",
      "execution_count": null,
      "metadata": {
        "colab": {
          "base_uri": "https://localhost:8080/"
        },
        "id": "4JRrxfqRHakw",
        "outputId": "ae88351c-2aac-4850-f971-a0fc6622f5c1"
      },
      "outputs": [
        {
          "name": "stdout",
          "output_type": "stream",
          "text": [
            "o  o  o  o  o  o  o  o  o  o  o  o\n",
            "o  o  o  o  o  o  o  o  o  o  o  o\n",
            "x  o  o  o  o  o  o  o  o  o  o  o\n",
            "o  C  C  C  C  C  C  C  C  C  C  T\n",
            "\n",
            "\n",
            "pos° actuelle: 24 ,gain: -1 ,fini: False , {'prob': 1.0}\n",
            "o  o  o  o  o  o  o  o  o  o  o  o\n",
            "o  o  o  o  o  o  o  o  o  o  o  o\n",
            "o  x  o  o  o  o  o  o  o  o  o  o\n",
            "o  C  C  C  C  C  C  C  C  C  C  T\n",
            "\n",
            "\n",
            "pos° actuelle: 25 ,gain: -1 ,fini: False , {'prob': 1.0}\n",
            "o  o  o  o  o  o  o  o  o  o  o  o\n",
            "o  o  o  o  o  o  o  o  o  o  o  o\n",
            "o  o  x  o  o  o  o  o  o  o  o  o\n",
            "o  C  C  C  C  C  C  C  C  C  C  T\n",
            "\n",
            "\n",
            "pos° actuelle: 26 ,gain: -1 ,fini: False , {'prob': 1.0}\n",
            "o  o  o  o  o  o  o  o  o  o  o  o\n",
            "o  o  o  o  o  o  o  o  o  o  o  o\n",
            "o  o  o  x  o  o  o  o  o  o  o  o\n",
            "o  C  C  C  C  C  C  C  C  C  C  T\n",
            "\n",
            "\n",
            "pos° actuelle: 27 ,gain: -1 ,fini: False , {'prob': 1.0}\n",
            "o  o  o  o  o  o  o  o  o  o  o  o\n",
            "o  o  o  o  o  o  o  o  o  o  o  o\n",
            "o  o  o  o  x  o  o  o  o  o  o  o\n",
            "o  C  C  C  C  C  C  C  C  C  C  T\n",
            "\n",
            "\n",
            "pos° actuelle: 28 ,gain: -1 ,fini: False , {'prob': 1.0}\n",
            "o  o  o  o  o  o  o  o  o  o  o  o\n",
            "o  o  o  o  o  o  o  o  o  o  o  o\n",
            "o  o  o  o  o  x  o  o  o  o  o  o\n",
            "o  C  C  C  C  C  C  C  C  C  C  T\n",
            "\n",
            "\n",
            "pos° actuelle: 29 ,gain: -1 ,fini: False , {'prob': 1.0}\n",
            "o  o  o  o  o  o  o  o  o  o  o  o\n",
            "o  o  o  o  o  o  o  o  o  o  o  o\n",
            "o  o  o  o  o  o  x  o  o  o  o  o\n",
            "o  C  C  C  C  C  C  C  C  C  C  T\n",
            "\n",
            "\n",
            "pos° actuelle: 30 ,gain: -1 ,fini: False , {'prob': 1.0}\n",
            "o  o  o  o  o  o  o  o  o  o  o  o\n",
            "o  o  o  o  o  o  o  o  o  o  o  o\n",
            "o  o  o  o  o  o  o  x  o  o  o  o\n",
            "o  C  C  C  C  C  C  C  C  C  C  T\n",
            "\n",
            "\n",
            "pos° actuelle: 31 ,gain: -1 ,fini: False , {'prob': 1.0}\n",
            "o  o  o  o  o  o  o  o  o  o  o  o\n",
            "o  o  o  o  o  o  o  o  o  o  o  o\n",
            "o  o  o  o  o  o  o  o  x  o  o  o\n",
            "o  C  C  C  C  C  C  C  C  C  C  T\n",
            "\n",
            "\n",
            "pos° actuelle: 32 ,gain: -1 ,fini: False , {'prob': 1.0}\n",
            "o  o  o  o  o  o  o  o  o  o  o  o\n",
            "o  o  o  o  o  o  o  o  o  o  o  o\n",
            "o  o  o  o  o  o  o  o  o  x  o  o\n",
            "o  C  C  C  C  C  C  C  C  C  C  T\n",
            "\n",
            "\n",
            "pos° actuelle: 33 ,gain: -1 ,fini: False , {'prob': 1.0}\n",
            "o  o  o  o  o  o  o  o  o  o  o  o\n",
            "o  o  o  o  o  o  o  o  o  o  o  o\n",
            "o  o  o  o  o  o  o  o  o  o  x  o\n",
            "o  C  C  C  C  C  C  C  C  C  C  T\n",
            "\n",
            "\n",
            "pos° actuelle: 34 ,gain: -1 ,fini: False , {'prob': 1.0}\n",
            "o  o  o  o  o  o  o  o  o  o  o  o\n",
            "o  o  o  o  o  o  o  o  o  o  o  o\n",
            "o  o  o  o  o  o  o  o  o  o  o  x\n",
            "o  C  C  C  C  C  C  C  C  C  C  T\n",
            "\n",
            "\n",
            "pos° actuelle: 35 ,gain: -1 ,fini: False , {'prob': 1.0}\n",
            "o  o  o  o  o  o  o  o  o  o  o  o\n",
            "o  o  o  o  o  o  o  o  o  o  o  o\n",
            "o  o  o  o  o  o  o  o  o  o  o  o\n",
            "o  C  C  C  C  C  C  C  C  C  C  x\n",
            "\n",
            "\n",
            "pos° actuelle: 47 ,gain: -1 ,fini: True , {'prob': 1.0, 'TimeLimit.truncated': False}\n"
          ]
        },
        {
          "name": "stderr",
          "output_type": "stream",
          "text": [
            "/usr/local/lib/python3.10/dist-packages/gym/core.py:317: DeprecationWarning: \u001b[33mWARN: Initializing wrapper in old step API which returns one bool instead of two. It is recommended to set `new_step_api=True` to use new step API. This will be the default behaviour in future.\u001b[0m\n",
            "  deprecation(\n",
            "/usr/local/lib/python3.10/dist-packages/gym/wrappers/step_api_compatibility.py:39: DeprecationWarning: \u001b[33mWARN: Initializing environment in old step API which returns one bool instead of two. It is recommended to set `new_step_api=True` to use new step API. This will be the default behaviour in future.\u001b[0m\n",
            "  deprecation(\n",
            "/usr/local/lib/python3.10/dist-packages/gym/core.py:43: DeprecationWarning: \u001b[33mWARN: The argument mode in render method is deprecated; use render_mode during environment initialization instead.\n",
            "See here for more information: https://www.gymlibrary.ml/content/api/\u001b[0m\n",
            "  deprecation(\n"
          ]
        }
      ],
      "source": [
        "env = gym.make('CliffWalking-v0')\n",
        "#solution = politique = suite d'actions menant à un but\n",
        "actions = [0,1,1,1,1,1,1,1,1,1,1,1,2]\n",
        "env.reset()\n",
        "for a in actions:\n",
        "    observation, reward, done, info = env.step(a)\n",
        "    print(env.render(mode='ansi'))\n",
        "    print(\"pos° actuelle:\", observation,\",gain:\", reward,\",fini:\", done,\",\", info)"
      ]
    },
    {
      "cell_type": "code",
      "execution_count": null,
      "metadata": {
        "id": "5mQPS8XavNb5"
      },
      "outputs": [],
      "source": [
        "env = gym.make('CliffWalking-v0', render_mode='ansi')\n",
        "#env = gym.make('CliffWalking-v0')\n",
        "actions = {0:'Haut', 1:'Droite', 2:'Bas', 3:'Gauche'}"
      ]
    },
    {
      "cell_type": "code",
      "execution_count": null,
      "metadata": {
        "id": "csLd7wN6DBZT"
      },
      "outputs": [],
      "source": [
        "lambda_learn = .2\n",
        "gamma = 0.99\n",
        "epsilon = 1."
      ]
    },
    {
      "cell_type": "code",
      "execution_count": null,
      "metadata": {
        "id": "QfSTJKADD3pP"
      },
      "outputs": [],
      "source": [
        "QA = np.zeros([env.observation_space.n,env.action_space.n])\n",
        "QB = np.zeros([env.observation_space.n,env.action_space.n])"
      ]
    },
    {
      "cell_type": "code",
      "execution_count": null,
      "metadata": {
        "id": "9eyIBwdRDCLU"
      },
      "outputs": [],
      "source": [
        "##algorithme de Q-Learning simple\n",
        "def q_learn(nb_actions=64):\n",
        "    \"\"\"\n",
        "    effectue un cycle d'apprentissage/recherche de solution' via le Q-Learning simple\n",
        "\n",
        "    Parameters\n",
        "    ----------\n",
        "    epoch : no de l'etape\n",
        "\n",
        "    Returns\n",
        "    -------\n",
        "    total_r : recompense totale\n",
        "    r : recompense du dernier etat rencontre\n",
        "    states_list : liste des etats traverses\n",
        "    actions_list : liste des actions effectuees\n",
        "    goal : but atteint\n",
        "\n",
        "    \"\"\"\n",
        "    s = env.reset()\n",
        "    if isinstance(s, tuple):\n",
        "        s = s[0]  # Prend le premier élément si c'est un tuple\n",
        "    total_r = 0\n",
        "    done = False\n",
        "    step = 0\n",
        "    states_list = []\n",
        "    actions_list = []\n",
        "\n",
        "    # The Q-Table learning algorithm\n",
        "    while not done and step < nb_actions:\n",
        "        step += 1\n",
        "        # Choose an action by greedily (with noise) picking from Q table\n",
        "        actionsA = QA[s, :]\n",
        "        actionsB = QB[s, :]\n",
        "        if rnd.random()<epsilon :\n",
        "            a = rnd.randint(0, env.action_space.n-1)\n",
        "        else:\n",
        "            bestQa = np.argmax(actionsA)\n",
        "            bestQb = np.argmax(actionsB)\n",
        "            a = bestQa if QA[s, bestQa] > QB[s, bestQb] else bestQb\n",
        "\n",
        "        # Get new state and reward from environment\n",
        "        new_state, r, done, _ = env.step(a)\n",
        "\n",
        "\n",
        "        # Q-Learning\n",
        "        if (np.random.uniform(0.1) < 0.5):\n",
        "            aeto= np.argmax(QA[new_state, :])\n",
        "            QA[s, a] = QA[s, a] + lambda_learn*(r + gamma * QB[new_state,aeto] - QA[s, a])\n",
        "        else:\n",
        "            beto=np.argmax(QB[new_state,:])\n",
        "            QB[s, a] = QB[s, a] + lambda_learn*(r + gamma * QA[new_state,beto] - QB[s, a])\n",
        "\n",
        "        s = new_state\n",
        "        total_r = total_r + r\n",
        "        states_list.append(s)\n",
        "        actions_list.append(a)\n",
        "\n",
        "    return total_r, r, states_list, actions_list, done"
      ]
    },
    {
      "cell_type": "code",
      "execution_count": null,
      "metadata": {
        "id": "dSmVl9KoDebb"
      },
      "outputs": [],
      "source": [
        "def try_qlearn(nb_episodes = 4000, nb_actions = 64):\n",
        "    \"\"\"\n",
        "    lance nb_episodes fois un cycle de Q-Learning et memorise chaque solution trouvee\n",
        "\n",
        "    Returns\n",
        "    -------\n",
        "    solutions_list : liste des solutions (no, recompense totale, liste des etats, liste des actions)\n",
        "    \"\"\"\n",
        "    global epsilon\n",
        "\n",
        "    solutions_list = []\n",
        "    epsilon = 1\n",
        "    for i in range(nb_episodes):\n",
        "        # Reset environment and get first new observation\n",
        "        total_r, r, states_list, actions_list, done = q_learn(nb_actions)\n",
        "        epsilon = epsilon * 0.9999\n",
        "        # memorize if a solution has been found\n",
        "        if done: solutions_list.append((i, total_r, states_list, actions_list))\n",
        "\n",
        "    if (len(solutions_list) == 0): print(\"aucune solution trouvee !!\")\n",
        "    return solutions_list\n"
      ]
    },
    {
      "cell_type": "code",
      "execution_count": null,
      "metadata": {
        "id": "vaXuxJK1xBqj"
      },
      "outputs": [],
      "source": [
        "def rendu(solutions_list):\n",
        "    \"\"\"Affiche la plus courte séquence d'actions permettant d'atteindre l'objectif à partir des solutions fournies.\"\"\"\n",
        "    if not solutions_list:\n",
        "        print(\"Aucune solution disponible.\")\n",
        "        return\n",
        "\n",
        "    mini_sol = min(solutions_list, key=lambda x: len(x[2]))  # Trouver la solution avec le moins d'étapes\n",
        "    print(f\"Une solution en {len(mini_sol[2])} étapes :\")\n",
        "\n",
        "    state = env.reset()\n",
        "    out = env.render()\n",
        "    if isinstance(out, list):\n",
        "        out = \"\".join(out) \n",
        "    print(out.strip())\n",
        "\n",
        "    for action_index in mini_sol[3]:\n",
        "        action_name = actions[action_index]\n",
        "        print(f\"Action {action_name}\")\n",
        "        state, _, done, _ = env.step(action_index)\n",
        "        out = env.render()\n",
        "        if isinstance(out, list):\n",
        "            out = \"\".join(out)\n",
        "        print(out.strip())\n",
        "        if done:\n",
        "            break\n"
      ]
    },
    {
      "cell_type": "code",
      "execution_count": null,
      "metadata": {
        "colab": {
          "base_uri": "https://localhost:8080/"
        },
        "id": "mkREru-SqN3A",
        "outputId": "a6bfdceb-9b1a-421c-e798-0986ce4e1526"
      },
      "outputs": [
        {
          "name": "stdout",
          "output_type": "stream",
          "text": [
            "Une solution en 13 étapes :\n",
            "o  o  o  o  o  o  o  o  o  o  o  o\n",
            "o  o  o  o  o  o  o  o  o  o  o  o\n",
            "o  o  o  o  o  o  o  o  o  o  o  o\n",
            "x  C  C  C  C  C  C  C  C  C  C  T\n",
            "Action Haut\n",
            "o  o  o  o  o  o  o  o  o  o  o  o\n",
            "o  o  o  o  o  o  o  o  o  o  o  o\n",
            "x  o  o  o  o  o  o  o  o  o  o  o\n",
            "o  C  C  C  C  C  C  C  C  C  C  T\n",
            "Action Droite\n",
            "o  o  o  o  o  o  o  o  o  o  o  o\n",
            "o  o  o  o  o  o  o  o  o  o  o  o\n",
            "o  x  o  o  o  o  o  o  o  o  o  o\n",
            "o  C  C  C  C  C  C  C  C  C  C  T\n",
            "Action Droite\n",
            "o  o  o  o  o  o  o  o  o  o  o  o\n",
            "o  o  o  o  o  o  o  o  o  o  o  o\n",
            "o  o  x  o  o  o  o  o  o  o  o  o\n",
            "o  C  C  C  C  C  C  C  C  C  C  T\n",
            "Action Droite\n",
            "o  o  o  o  o  o  o  o  o  o  o  o\n",
            "o  o  o  o  o  o  o  o  o  o  o  o\n",
            "o  o  o  x  o  o  o  o  o  o  o  o\n",
            "o  C  C  C  C  C  C  C  C  C  C  T\n",
            "Action Droite\n",
            "o  o  o  o  o  o  o  o  o  o  o  o\n",
            "o  o  o  o  o  o  o  o  o  o  o  o\n",
            "o  o  o  o  x  o  o  o  o  o  o  o\n",
            "o  C  C  C  C  C  C  C  C  C  C  T\n",
            "Action Droite\n",
            "o  o  o  o  o  o  o  o  o  o  o  o\n",
            "o  o  o  o  o  o  o  o  o  o  o  o\n",
            "o  o  o  o  o  x  o  o  o  o  o  o\n",
            "o  C  C  C  C  C  C  C  C  C  C  T\n",
            "Action Droite\n",
            "o  o  o  o  o  o  o  o  o  o  o  o\n",
            "o  o  o  o  o  o  o  o  o  o  o  o\n",
            "o  o  o  o  o  o  x  o  o  o  o  o\n",
            "o  C  C  C  C  C  C  C  C  C  C  T\n",
            "Action Droite\n",
            "o  o  o  o  o  o  o  o  o  o  o  o\n",
            "o  o  o  o  o  o  o  o  o  o  o  o\n",
            "o  o  o  o  o  o  o  x  o  o  o  o\n",
            "o  C  C  C  C  C  C  C  C  C  C  T\n",
            "Action Droite\n",
            "o  o  o  o  o  o  o  o  o  o  o  o\n",
            "o  o  o  o  o  o  o  o  o  o  o  o\n",
            "o  o  o  o  o  o  o  o  x  o  o  o\n",
            "o  C  C  C  C  C  C  C  C  C  C  T\n",
            "Action Droite\n",
            "o  o  o  o  o  o  o  o  o  o  o  o\n",
            "o  o  o  o  o  o  o  o  o  o  o  o\n",
            "o  o  o  o  o  o  o  o  o  x  o  o\n",
            "o  C  C  C  C  C  C  C  C  C  C  T\n",
            "Action Droite\n",
            "o  o  o  o  o  o  o  o  o  o  o  o\n",
            "o  o  o  o  o  o  o  o  o  o  o  o\n",
            "o  o  o  o  o  o  o  o  o  o  x  o\n",
            "o  C  C  C  C  C  C  C  C  C  C  T\n",
            "Action Droite\n",
            "o  o  o  o  o  o  o  o  o  o  o  o\n",
            "o  o  o  o  o  o  o  o  o  o  o  o\n",
            "o  o  o  o  o  o  o  o  o  o  o  x\n",
            "o  C  C  C  C  C  C  C  C  C  C  T\n",
            "Action Bas\n",
            "o  o  o  o  o  o  o  o  o  o  o  o\n",
            "o  o  o  o  o  o  o  o  o  o  o  o\n",
            "o  o  o  o  o  o  o  o  o  o  o  o\n",
            "o  C  C  C  C  C  C  C  C  C  C  x\n"
          ]
        }
      ],
      "source": [
        "solutions = try_qlearn(15000, 50)\n",
        "if(len(solutions)>0):rendu(solutions)"
      ]
    },
    {
      "cell_type": "code",
      "execution_count": null,
      "metadata": {
        "id": "ru6OqL5lDnb5"
      },
      "outputs": [],
      "source": [
        "import matplotlib.pyplot as plt\n",
        "def plot_frequence_sol(solutions_list):\n",
        "    \"\"\"\n",
        "    dessine la frequence de solution trouvees\n",
        "    Parameters\n",
        "    ----------\n",
        "    solutions : liste des solutions\n",
        "\n",
        "    Returns\n",
        "    -------\n",
        "    None.\n",
        "\n",
        "    \"\"\"\n",
        "    xs = [x[0] for x in solutions_list]\n",
        "    ys = [y[1] for y in solutions_list]\n",
        "    plt.figure(figsize=(10, 4))\n",
        "    plt.plot(xs, ys, '.')\n",
        "    plt.show()"
      ]
    },
    {
      "cell_type": "code",
      "execution_count": null,
      "metadata": {
        "colab": {
          "base_uri": "https://localhost:8080/",
          "height": 368
        },
        "id": "mSdzK0hZDotB",
        "outputId": "f68b997d-eefd-4a80-a38b-ae5ab9e5ccad"
      },
      "outputs": [
        {
          "data": {
            "image/png": "[encoded data removed]",
            "text/plain": [
              "<Figure size 1000x400 with 1 Axes>"
            ]
          },
          "metadata": {},
          "output_type": "display_data"
        }
      ],
      "source": [
        "plot_frequence_sol(solutions)"
      ]
    },
    {
      "cell_type": "code",
      "execution_count": null,
      "metadata": {
        "id": "fTHVZHkgzUDN"
      },
      "outputs": [],
      "source": [
        "def showBestValues(Q):\n",
        "    #bestQValues contient les meilleures valeurs des actions possibles pour chaque état\n",
        "    #et on \"dilate\" les valeurs pour augmenter leurs différences (utile pour le choix des couleurs)\n",
        "    bestQ = [-(max(ligne))**50 for ligne in Q]\n",
        "    #on transforme bestQValues en matrice 4 x 12\n",
        "    bestQValues = np.reshape(bestQ, (4,12))\n",
        "    #on demande à python de générer une \"heatmap\"\n",
        "    fig, ax = plt.subplots(figsize=(5,5))\n",
        "    ax.imshow(bestQValues,cmap='Blues')\n",
        "    plt.title(\"Meilleur score d'une action selon l'état\")\n",
        "    plt.show()"
      ]
    },
    {
      "cell_type": "code",
      "execution_count": null,
      "metadata": {
        "colab": {
          "base_uri": "https://localhost:8080/",
          "height": 212
        },
        "id": "dLr4OGl8zWpI",
        "outputId": "1499643c-71e5-4ea9-eca2-996a8b5c57d6"
      },
      "outputs": [
        {
          "data": {
            "image/png": "[encoded data removed]",
            "text/plain": [
              "<Figure size 500x500 with 1 Axes>"
            ]
          },
          "metadata": {},
          "output_type": "display_data"
        }
      ],
      "source": [
        "showBestValues(QA)"
      ]
    },
    {
      "cell_type": "code",
      "execution_count": null,
      "metadata": {
        "colab": {
          "base_uri": "https://localhost:8080/",
          "height": 212
        },
        "id": "yN32C4D4zYnh",
        "outputId": "dc82a40c-391a-4835-d773-1185abec2c35"
      },
      "outputs": [
        {
          "data": {
            "image/png": "[encoded data removed]",
            "text/plain": [
              "<Figure size 500x500 with 1 Axes>"
            ]
          },
          "metadata": {},
          "output_type": "display_data"
        }
      ],
      "source": [
        "showBestValues(QB)"
      ]
    }
  ],
  "metadata": {
    "colab": {
      "provenance": []
    },
    "kernelspec": {
      "display_name": "Python 3 (ipykernel)",
      "language": "python",
      "name": "python3"
    },
    "language_info": {
      "codemirror_mode": {
        "name": "ipython",
        "version": 3
      },
      "file_extension": ".py",
      "mimetype": "text/x-python",
      "name": "python",
      "nbconvert_exporter": "python",
      "pygments_lexer": "ipython3",
      "version": "3.9.16"
    }
  },
  "nbformat": 4,
  "nbformat_minor": 0
}
